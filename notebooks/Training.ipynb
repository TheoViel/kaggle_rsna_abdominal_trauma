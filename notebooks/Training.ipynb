{
 "cells": [
  {
   "cell_type": "markdown",
   "metadata": {},
   "source": [
    "**About** : This notebook is used to train models."
   ]
  },
  {
   "cell_type": "code",
   "execution_count": null,
   "metadata": {},
   "outputs": [],
   "source": [
    "%load_ext autoreload\n",
    "%autoreload 2"
   ]
  },
  {
   "cell_type": "code",
   "execution_count": null,
   "metadata": {},
   "outputs": [],
   "source": [
    "cd ../src/"
   ]
  },
  {
   "cell_type": "markdown",
   "metadata": {},
   "source": [
    "## Initialization"
   ]
  },
  {
   "cell_type": "markdown",
   "metadata": {},
   "source": [
    "### Imports"
   ]
  },
  {
   "cell_type": "code",
   "execution_count": null,
   "metadata": {},
   "outputs": [],
   "source": [
    "import os\n",
    "import torch\n",
    "\n",
    "print(torch.__version__)\n",
    "os.environ['CUDA_VISIBLE_DEVICES'] = \"0\"\n",
    "device = torch.cuda.get_device_name(0)\n",
    "print(device)"
   ]
  },
  {
   "cell_type": "code",
   "execution_count": null,
   "metadata": {},
   "outputs": [],
   "source": [
    "import os\n",
    "import sys\n",
    "import glob\n",
    "import torch\n",
    "import warnings\n",
    "import numpy as np\n",
    "import pandas as pd\n",
    "import seaborn as sns\n",
    "import matplotlib.pyplot as plt\n",
    "\n",
    "from tqdm import tqdm\n",
    "from sklearn.metrics import *\n",
    "\n",
    "pd.set_option('display.width', 1000)\n",
    "pd.set_option('display.max_columns', 30)\n",
    "pd.set_option('max_colwidth', 100)"
   ]
  },
  {
   "cell_type": "code",
   "execution_count": null,
   "metadata": {},
   "outputs": [],
   "source": [
    "from training.main import k_fold\n",
    "\n",
    "from util.logger import (\n",
    "    prepare_log_folder,\n",
    "    save_config,\n",
    "    create_logger,\n",
    "    init_neptune\n",
    ")\n",
    "from util.torch import init_distributed\n",
    "from util.plots import *\n",
    "\n",
    "from params import *\n",
    "from data.dataset import *\n",
    "from data.preparation import *\n",
    "from data.transforms import get_transfos\n",
    "\n",
    "from model_zoo.models import define_model\n",
    "from training.losses import *"
   ]
  },
  {
   "cell_type": "markdown",
   "metadata": {},
   "source": [
    "## Data\n",
    "- Frame level label :\n",
    "    - Ok for extravasion & bowel\n",
    "    - Use seg for other classes"
   ]
  },
  {
   "cell_type": "code",
   "execution_count": null,
   "metadata": {},
   "outputs": [],
   "source": [
    "df_extrav = prepare_extrav_data(DATA_PATH)"
   ]
  },
  {
   "cell_type": "code",
   "execution_count": null,
   "metadata": {},
   "outputs": [],
   "source": [
    "df_patient, df_img = prepare_data(DATA_PATH)"
   ]
  },
  {
   "cell_type": "code",
   "execution_count": null,
   "metadata": {},
   "outputs": [],
   "source": [
    "transforms = get_transfos(augment=False, resize=(384, 384), strength=5, crop=False)\n",
    "\n",
    "dataset = AbdominalDataset(\n",
    "    df_patient, #[df_patient[\"any_injury\"] == 1].reset_index(drop=True).head(100),\n",
    "    df_img,\n",
    "    transforms=transforms,\n",
    "    train=True,\n",
    "    frames_chanel=0,\n",
    "    n_frames=3,\n",
    "    stride=1,\n",
    "    use_soft_target=False,\n",
    "    use_mask=False,\n",
    "    use_crops=False,\n",
    ")"
   ]
  },
  {
   "cell_type": "code",
   "execution_count": null,
   "metadata": {},
   "outputs": [],
   "source": [
    "i = np.random.choice(len(dataset))\n",
    "# i = 8784\n",
    "img, y_img, y_patient = dataset[i]\n",
    "\n",
    "if len(img.size()) == 4:\n",
    "    plt.figure(figsize=(15, 5))\n",
    "    for i, img_ in enumerate(img.numpy()):\n",
    "        plt.subplot(1, img.size(0), i + 1)\n",
    "        plt.imshow(img_.transpose(1, 2, 0))\n",
    "        plt.axis(False)\n",
    "    plt.show()\n",
    "elif len(img.size()) == 3:\n",
    "    plt.figure(figsize=(5, 5))\n",
    "    plt.imshow(img.numpy().transpose(1, 2, 0))\n",
    "    plt.axis(False)\n",
    "    plt.show()"
   ]
  },
  {
   "cell_type": "code",
   "execution_count": null,
   "metadata": {},
   "outputs": [],
   "source": [
    "# i = np.random.choice(len(dataset))\n",
    "# img, y_img, y_patient = dataset[i]\n",
    "\n",
    "# if len(img) == 4:\n",
    "#     img, mask = img[1][None], img[-1]\n",
    "#     plot_mask(img.numpy().transpose(1, 2, 0), mask.numpy())"
   ]
  },
  {
   "cell_type": "code",
   "execution_count": null,
   "metadata": {},
   "outputs": [],
   "source": [
    "# for i in range(10):\n",
    "# #     i = 0\n",
    "#     img, y_img, y_patient = dataset[i]\n",
    "\n",
    "#     plt.figure(figsize=(8, 8))\n",
    "#     plt.imshow(img.numpy().transpose(1, 2, 0))\n",
    "    \n",
    "#     plt.title(f\"#{i}\\n{PATIENT_TARGETS} - {y_img}\\n{IMG_TARGETS_EXTENDED} - {y_patient}\")\n",
    "#     plt.show()\n",
    "\n",
    "# #     break"
   ]
  },
  {
   "cell_type": "markdown",
   "metadata": {},
   "source": [
    "### Crop dataset"
   ]
  },
  {
   "cell_type": "code",
   "execution_count": null,
   "metadata": {},
   "outputs": [],
   "source": [
    "transforms = get_transfos(augment=False, resize=(384, 384), strength=5, crop=False)"
   ]
  },
  {
   "cell_type": "code",
   "execution_count": null,
   "metadata": {},
   "outputs": [],
   "source": [
    "dataset = AbdominalCropDataset(\n",
    "    df_patient, #[df_patient[\"any_injury\"] == 1].reset_index(drop=True).head(100),\n",
    "    df_img,\n",
    "    transforms=transforms,\n",
    "    train=True,\n",
    "    frames_chanel=1,\n",
    "    n_frames=3,\n",
    "    stride=3,\n",
    "    use_mask=True\n",
    ")"
   ]
  },
  {
   "cell_type": "code",
   "execution_count": null,
   "metadata": {},
   "outputs": [],
   "source": [
    "img, y, _ = dataset[2]\n",
    "\n",
    "if len(img.size()) == 4:\n",
    "    plt.figure(figsize=(15, 5))\n",
    "    for i, img_ in enumerate(img.numpy()):\n",
    "        plt.subplot(1, img.size(0), i + 1)\n",
    "        if img_.shape[0] == 3:\n",
    "            plt.imshow(img_.transpose(1, 2, 0))\n",
    "        else:\n",
    "            plot_mask(img_[:3].transpose(1, 2, 0), img_[-1])\n",
    "        plt.axis(False)\n",
    "    plt.show()\n",
    "else:\n",
    "    plt.figure(figsize=(5, 5))\n",
    "    plt.imshow(img.numpy().transpose(1, 2, 0))\n",
    "    plt.axis(False)\n",
    "    plt.show()"
   ]
  },
  {
   "cell_type": "code",
   "execution_count": null,
   "metadata": {},
   "outputs": [],
   "source": [
    "img, y, _ = dataset[2]\n",
    "\n",
    "if len(img.size()) == 4:\n",
    "    plt.figure(figsize=(15, 5))\n",
    "    for i, img_ in enumerate(img.numpy()):\n",
    "        plt.subplot(1, img.size(0), i + 1)\n",
    "        if img_.shape[0] == 3:\n",
    "            plt.imshow(img_.transpose(1, 2, 0))\n",
    "        else:\n",
    "            plot_mask(img_[:3].transpose(1, 2, 0), img_[-1])\n",
    "        plt.axis(False)\n",
    "    plt.show()\n",
    "else:\n",
    "    plt.figure(figsize=(5, 5))\n",
    "    plt.imshow(img.numpy().transpose(1, 2, 0))\n",
    "    plt.axis(False)\n",
    "    plt.show()"
   ]
  },
  {
   "cell_type": "code",
   "execution_count": null,
   "metadata": {},
   "outputs": [],
   "source": [
    "# for i in tqdm(range(len(dataset))):\n",
    "#     _ = dataset[i]"
   ]
  },
  {
   "cell_type": "markdown",
   "metadata": {},
   "source": [
    "### Extrav Dataset"
   ]
  },
  {
   "cell_type": "code",
   "execution_count": null,
   "metadata": {},
   "outputs": [],
   "source": [
    "transforms = get_transfos(augment=False, resize=(96, 96), strength=5, crop=False)"
   ]
  },
  {
   "cell_type": "code",
   "execution_count": null,
   "metadata": {},
   "outputs": [],
   "source": [
    "dataset = AbdominalExtravDataset(\n",
    "    df_extrav, #[df_patient[\"any_injury\"] == 1].reset_index(drop=True).head(100),\n",
    "    transforms=transforms,\n",
    "    train=False,\n",
    "    frames_chanel=0,\n",
    "    n_frames=3,\n",
    "    stride=-1,\n",
    ")"
   ]
  },
  {
   "cell_type": "code",
   "execution_count": null,
   "metadata": {},
   "outputs": [],
   "source": [
    "img, y, _ = dataset[2]"
   ]
  },
  {
   "cell_type": "code",
   "execution_count": null,
   "metadata": {},
   "outputs": [],
   "source": [
    "img.size()"
   ]
  },
  {
   "cell_type": "code",
   "execution_count": null,
   "metadata": {},
   "outputs": [],
   "source": [
    "idx = np.random.choice(len(dataset))\n",
    "img, y, _ = dataset[idx]\n",
    "\n",
    "if len(img.size()) == 4:\n",
    "    plt.figure(figsize=(15, 5))\n",
    "    for i, img_ in enumerate(img.numpy()):\n",
    "        plt.subplot(1, img.size(0), i + 1)\n",
    "        if img_.shape[0] == 3:\n",
    "            plt.imshow(img_.transpose(1, 2, 0))\n",
    "        else:\n",
    "            plot_mask(img_[:3].transpose(1, 2, 0), img_[-1])\n",
    "        plt.axis(False)\n",
    "        \n",
    "        plt.title(f\"Target: {int(y.item())}\")\n",
    "    plt.show()\n",
    "else:\n",
    "    plt.figure(figsize=(5, 5))\n",
    "    plt.imshow(img.numpy().transpose(1, 2, 0))\n",
    "    plt.axis(False)\n",
    "    plt.show()"
   ]
  },
  {
   "cell_type": "markdown",
   "metadata": {},
   "source": [
    "## Model"
   ]
  },
  {
   "cell_type": "code",
   "execution_count": null,
   "metadata": {},
   "outputs": [],
   "source": [
    "from util.torch import count_parameters"
   ]
  },
  {
   "cell_type": "code",
   "execution_count": null,
   "metadata": {},
   "outputs": [],
   "source": [
    "model = define_model(\n",
    "    'coatnet_rmlp_1_rw2_224',\n",
    "    num_classes=2,\n",
    "    num_classes_aux=11,\n",
    "    n_channels=4,\n",
    "    reduce_stride=False,\n",
    "    drop_path_rate=0.,\n",
    "    n_frames=3,\n",
    "    use_gem=True,\n",
    "    increase_stride=False,\n",
    "    head_3d=\"lstm\",\n",
    "    verbose=1,\n",
    ")"
   ]
  },
  {
   "cell_type": "code",
   "execution_count": null,
   "metadata": {},
   "outputs": [],
   "source": [
    "x = torch.cat([img.unsqueeze(0)] * 1)\n",
    "model = model.cuda()\n",
    "x = x.cuda()\n",
    "# pred, pred_aux = model(x)"
   ]
  },
  {
   "cell_type": "code",
   "execution_count": null,
   "metadata": {},
   "outputs": [],
   "source": [
    "%%time\n",
    "pred, pred_aux = model(x)"
   ]
  },
  {
   "cell_type": "code",
   "execution_count": null,
   "metadata": {},
   "outputs": [],
   "source": [
    "pred.size(), pred_aux.size()\n",
    "# y_patient.size(), y_img.size()"
   ]
  },
  {
   "cell_type": "code",
   "execution_count": null,
   "metadata": {},
   "outputs": [],
   "source": [
    "optim = torch.optim.Adam(model.parameters())\n",
    "\n",
    "loss = pred.mean() + pred_aux.mean()\n",
    "loss.backward()\n",
    "\n",
    "for n, p in model.named_parameters():\n",
    "    if p.grad is None:\n",
    "        print(n)"
   ]
  },
  {
   "cell_type": "code",
   "execution_count": null,
   "metadata": {},
   "outputs": [],
   "source": [
    "y_p = torch.cat([y_patient.unsqueeze(0)] * 2)\n",
    "y_i = torch.cat([y_img.unsqueeze(0)] * 2)"
   ]
  },
  {
   "cell_type": "code",
   "execution_count": null,
   "metadata": {},
   "outputs": [],
   "source": [
    "loss = AbdomenLoss({\n",
    "    \"name\": \"image\",\n",
    "    \"smoothing\": 0,\n",
    "    \"aux_loss_weight\": 0.5,\n",
    "    \"name_aux\": \"patient\",\n",
    "    \"smoothing_aux\": 0,\n",
    "})"
   ]
  },
  {
   "cell_type": "code",
   "execution_count": null,
   "metadata": {},
   "outputs": [],
   "source": [
    "pred.size(), y_i.size()"
   ]
  },
  {
   "cell_type": "code",
   "execution_count": null,
   "metadata": {},
   "outputs": [],
   "source": [
    "loss(pred, pred_aux, y_i, y_p)"
   ]
  },
  {
   "cell_type": "code",
   "execution_count": null,
   "metadata": {},
   "outputs": [],
   "source": [
    "# loss = PatientLoss()\n",
    "# loss(pred_aux, y_p)"
   ]
  },
  {
   "cell_type": "markdown",
   "metadata": {},
   "source": [
    "## Training"
   ]
  },
  {
   "cell_type": "code",
   "execution_count": null,
   "metadata": {},
   "outputs": [],
   "source": [
    "class Config:\n",
    "    \"\"\"\n",
    "    Parameters used for training\n",
    "    \"\"\"\n",
    "    # General\n",
    "    seed = 42\n",
    "    verbose = 1\n",
    "    device = \"cuda\"\n",
    "    save_weights = True\n",
    "\n",
    "    # Data\n",
    "    resize = (512, 512)\n",
    "    aug_strength = 1\n",
    "    pos_prop = 0.1\n",
    "\n",
    "    # k-fold\n",
    "    k = 4\n",
    "    folds_file = f\"../input/folds_{k}.csv\"\n",
    "    selected_folds = [0]  # , 1, 2, 3]\n",
    "\n",
    "    # Model\n",
    "    name = \"tf_efficientnet_b0\"\n",
    "    pretrained_weights = None # PRETRAINED_WEIGHTS[name]  # None\n",
    "    \n",
    "    num_classes = 2\n",
    "    num_classes_aux = 0\n",
    "    drop_rate = 0\n",
    "    drop_path_rate = 0\n",
    "    n_channels = 3\n",
    "    reduce_stride = False\n",
    "    replace_pad_conv = False\n",
    "    use_gem = True\n",
    "\n",
    "    # Training    \n",
    "    loss_config = {\n",
    "        \"name\": \"image\",\n",
    "        \"smoothing\": 0,\n",
    "        \"activation\": \"sigmoid\",\n",
    "        \"aux_loss_weight\": 0,\n",
    "        \"name_aux\": \"patient\",\n",
    "        \"smoothing_aux\": 0,\n",
    "        \"activation_aux\": \"\",\n",
    "        \"ousm_k\": 0,  # todo ?\n",
    "    }\n",
    "\n",
    "    data_config = {\n",
    "        \"batch_size\": 16,\n",
    "        \"val_bs\": 16,\n",
    "        \"mix\": \"mixup\",\n",
    "        \"mix_proba\": 0.,\n",
    "        \"mix_alpha\": 4.,\n",
    "        \"additive_mix\": False,\n",
    "        \"num_classes\": num_classes,\n",
    "        \"num_workers\": 8,\n",
    "    }\n",
    "\n",
    "    optimizer_config = {\n",
    "        \"name\": \"AdamW\",\n",
    "        \"lr\": 5e-4,\n",
    "        \"warmup_prop\": 0.,\n",
    "        \"betas\": (0.9, 0.999),\n",
    "        \"max_grad_norm\": 10.,\n",
    "        \"weight_decay\": 0.,\n",
    "    }\n",
    "\n",
    "    epochs = 1\n",
    "\n",
    "    use_fp16 = True\n",
    "\n",
    "    verbose = 1\n",
    "    verbose_eval = 50\n",
    "    \n",
    "    fullfit = False\n",
    "    n_fullfit = 1"
   ]
  },
  {
   "cell_type": "code",
   "execution_count": null,
   "metadata": {},
   "outputs": [],
   "source": [
    "DEBUG = True\n",
    "log_folder = None\n",
    "run = None"
   ]
  },
  {
   "cell_type": "code",
   "execution_count": null,
   "metadata": {},
   "outputs": [],
   "source": [
    "if not DEBUG:\n",
    "    log_folder = prepare_log_folder(LOG_PATH)\n",
    "    print(f\"Logging results to {log_folder}\")\n",
    "    config_df = save_config(Config, log_folder + \"config.json\")\n",
    "    create_logger(directory=log_folder, name=\"logs.txt\")\n",
    "#     run = init_neptune(Config, log_folder)\n",
    "\n",
    "df_patient, df_img = prepare_data(DATA_PATH)\n",
    "init_distributed(Config)\n",
    "\n",
    "preds = k_fold(Config, df_patient, df_img, log_folder=log_folder, run=run)"
   ]
  },
  {
   "cell_type": "markdown",
   "metadata": {},
   "source": [
    "Done ! "
   ]
  }
 ],
 "metadata": {
  "kernelspec": {
   "display_name": "Python 3 (ipykernel)",
   "language": "python",
   "name": "python3"
  },
  "language_info": {
   "codemirror_mode": {
    "name": "ipython",
    "version": 3
   },
   "file_extension": ".py",
   "mimetype": "text/x-python",
   "name": "python",
   "nbconvert_exporter": "python",
   "pygments_lexer": "ipython3",
   "version": "3.10.12"
  }
 },
 "nbformat": 4,
 "nbformat_minor": 4
}
