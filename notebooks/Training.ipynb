{
 "cells": [
  {
   "cell_type": "markdown",
   "metadata": {},
   "source": [
    "**About** : This notebook is used to train models."
   ]
  },
  {
   "cell_type": "code",
   "execution_count": null,
   "metadata": {},
   "outputs": [],
   "source": [
    "%load_ext autoreload\n",
    "%autoreload 2"
   ]
  },
  {
   "cell_type": "code",
   "execution_count": null,
   "metadata": {},
   "outputs": [],
   "source": [
    "cd ../src/"
   ]
  },
  {
   "cell_type": "markdown",
   "metadata": {},
   "source": [
    "## Initialization"
   ]
  },
  {
   "cell_type": "markdown",
   "metadata": {},
   "source": [
    "### Imports"
   ]
  },
  {
   "cell_type": "code",
   "execution_count": null,
   "metadata": {},
   "outputs": [],
   "source": [
    "import os\n",
    "import torch\n",
    "\n",
    "print(torch.__version__)\n",
    "os.environ['CUDA_VISIBLE_DEVICES'] = \"0\"\n",
    "device = torch.cuda.get_device_name(0)\n",
    "print(device)"
   ]
  },
  {
   "cell_type": "code",
   "execution_count": null,
   "metadata": {},
   "outputs": [],
   "source": [
    "import os\n",
    "import sys\n",
    "import glob\n",
    "import torch\n",
    "import warnings\n",
    "import numpy as np\n",
    "import pandas as pd\n",
    "import seaborn as sns\n",
    "import matplotlib.pyplot as plt\n",
    "\n",
    "from tqdm import tqdm\n",
    "from sklearn.metrics import *\n",
    "\n",
    "pd.set_option('display.width', 1000)\n",
    "pd.set_option('display.max_columns', 30)\n",
    "pd.set_option('max_colwidth', 100)"
   ]
  },
  {
   "cell_type": "code",
   "execution_count": null,
   "metadata": {},
   "outputs": [],
   "source": [
    "from training.main import k_fold\n",
    "\n",
    "from util.logger import (\n",
    "    prepare_log_folder,\n",
    "    save_config,\n",
    "    create_logger,\n",
    "    init_neptune\n",
    ")\n",
    "from util.torch import init_distributed\n",
    "\n",
    "from params import *\n",
    "from data.dataset import *\n",
    "from data.preparation import *\n",
    "from data.transforms import get_transfos\n",
    "\n",
    "from model_zoo.models import define_model\n",
    "from training.losses import *"
   ]
  },
  {
   "cell_type": "markdown",
   "metadata": {},
   "source": [
    "## Data\n",
    "- Frame level label :\n",
    "    - Ok for extravasion & bowel\n",
    "    - Use seg for other classes"
   ]
  },
  {
   "cell_type": "code",
   "execution_count": null,
   "metadata": {},
   "outputs": [],
   "source": [
    "df_patient, df_img = prepare_data(DATA_PATH)"
   ]
  },
  {
   "cell_type": "code",
   "execution_count": null,
   "metadata": {},
   "outputs": [],
   "source": [
    "# df_seg = pd.read_csv('../input/df_seg.csv')\n",
    "# df_img = df_img.merge(df_seg.drop('img_path', axis=1), how=\"left\", on=[\"patient_id\", \"series\", \"frame\"])"
   ]
  },
  {
   "cell_type": "code",
   "execution_count": null,
   "metadata": {},
   "outputs": [],
   "source": [
    "# dfg = df_img[[\"series\", \"pred_spleen\", \"spleen\", \"pred_liver\", \"liver\", \"pred_kidney\", \"kidney\"]].groupby('series').max()  # , \"pixel_count_liver\"\n",
    "# dfg[(dfg[[\"pred_spleen\", \"pred_liver\", \"pred_kidney\"]].min(1) < 0.9) & (dfg[[\"spleen\", \"liver\", \"kidney\"]].max(1) > 0)]"
   ]
  },
  {
   "cell_type": "code",
   "execution_count": null,
   "metadata": {},
   "outputs": [],
   "source": [
    "# dfg = df_img[[\"series\", \"kidney\", \"liver\", \"spleen\", \"kidney_injury\", \"liver_injury\", \"spleen_injury\"]].groupby('series').max()\n",
    "\n",
    "# for c in [\"kidney\", \"liver\", \"spleen\"]:\n",
    "#     print(c)\n",
    "#     display(dfg[dfg[c] != dfg[f\"{c}_injury\"]])"
   ]
  },
  {
   "cell_type": "code",
   "execution_count": null,
   "metadata": {},
   "outputs": [],
   "source": [
    "# plt.figure(figsize=(20, 4))\n",
    "# for i, c in enumerate([\"extravasation_injury\", \"bowel_injury\", \"kidney_injury\", \"liver_injury\", \"spleen_injury\"]):\n",
    "#     plt.subplot(1, 5, i + 1)\n",
    "#     sns.countplot(x=df_img[c])\n",
    "#     plt.yscale('log')\n",
    "    \n",
    "#     pos_prop = (df_img[c] > 0).mean()\n",
    "#     plt.title(f'{c.split(\"_\")[0]} positives: {pos_prop*100 :.2f}%')\n",
    "# plt.show()"
   ]
  },
  {
   "cell_type": "code",
   "execution_count": null,
   "metadata": {},
   "outputs": [],
   "source": [
    "# (df_img.drop_duplicates(subset=\"patient_id\", keep=\"first\")['patient_id'].values == df_patient['patient_id'].values).all()"
   ]
  },
  {
   "cell_type": "code",
   "execution_count": null,
   "metadata": {},
   "outputs": [],
   "source": [
    "# plt.figure(figsize=(30, 4))\n",
    "# n = 5\n",
    "\n",
    "# for idx, series in enumerate(np.random.choice(df_img[df_img['any_injury'] > 0]['series'], n)):\n",
    "#     plt.subplot(1, n, idx + 1)\n",
    "\n",
    "#     df_series = df_img[df_img['series'] == series].reset_index(drop=True)\n",
    "#     plt.plot([0] * len(df_series), c=\"black\")\n",
    "\n",
    "#     for i, c in enumerate([col for col in df_series.columns if \"injury\" in col and \"any\" not in col]):\n",
    "#         plt.scatter(\n",
    "#             np.arange(len(df_series))[df_series[c] > 0],\n",
    "#             [0.5 + i * 0.1] * (df_series[c] > 0).sum(),\n",
    "#             label=c,\n",
    "#             marker=\".\"\n",
    "#         )\n",
    "#     plt.ylim(0, 1)\n",
    "#     plt.title(f'Series {series}')\n",
    "#     if idx == 0:\n",
    "#         plt.legend(loc=3)\n",
    "# plt.show()"
   ]
  },
  {
   "cell_type": "markdown",
   "metadata": {},
   "source": [
    "- Loop over patient x 5 classes\n",
    " - If positive, sample in the middle of the frames where img_target is positive\n",
    " - Else, sample in the middle of the organ, using bowel for extravasation or whole image idk\n",
    " - During training, sample somewhere around the middle\n",
    "- Move to 2.5D soon"
   ]
  },
  {
   "cell_type": "code",
   "execution_count": null,
   "metadata": {},
   "outputs": [],
   "source": [
    "transforms = get_transfos(augment=False, resize=(512, 512), strength=3)\n",
    "\n",
    "dataset = AbdominalDataset(df_patient[df_patient[\"any_injury\"] == 1].reset_index(drop=True).head(100), df_img, transforms=transforms, train=False, frames_chanel=1, use_soft_target=True)"
   ]
  },
  {
   "cell_type": "code",
   "execution_count": null,
   "metadata": {},
   "outputs": [],
   "source": [
    "i = np.random.choice(len(dataset))\n",
    "#     i = 0\n",
    "img, y_img, y_patient = dataset[i]\n",
    "# print()\n",
    "# print(y_patient)\n",
    "# print(y_img)"
   ]
  },
  {
   "cell_type": "code",
   "execution_count": null,
   "metadata": {},
   "outputs": [],
   "source": [
    "for i in range(10):\n",
    "#     i = 0\n",
    "    img, y_patient, y_img = dataset[i]\n",
    "\n",
    "    plt.figure(figsize=(8, 8))\n",
    "    plt.imshow(img.numpy().transpose(1, 2, 0))\n",
    "    \n",
    "    plt.title(f\"#{i}\\n{PATIENT_TARGETS} - {y_img}\\n{IMG_TARGETS_EXTENDED} - {y_patient}\")\n",
    "    plt.show()\n",
    "\n",
    "    break"
   ]
  },
  {
   "cell_type": "markdown",
   "metadata": {},
   "source": [
    "## Model"
   ]
  },
  {
   "cell_type": "code",
   "execution_count": null,
   "metadata": {},
   "outputs": [],
   "source": [
    "model = define_model(\n",
    "    'tf_efficientnet_b5_ns',\n",
    "    num_classes=2,\n",
    "    num_classes_aux=11,\n",
    "    n_channels=3,\n",
    "    reduce_stride=False,\n",
    "    drop_path_rate=0.,\n",
    "    use_gem=True\n",
    ")"
   ]
  },
  {
   "cell_type": "code",
   "execution_count": null,
   "metadata": {},
   "outputs": [],
   "source": [
    "x = torch.cat([img.unsqueeze(0)] * 2)\n",
    "\n",
    "pred, pred_aux = model(x)"
   ]
  },
  {
   "cell_type": "code",
   "execution_count": null,
   "metadata": {},
   "outputs": [],
   "source": [
    "pred.size(), pred_aux.size()\n",
    "# y_patient.size(), y_img.size()"
   ]
  },
  {
   "cell_type": "code",
   "execution_count": null,
   "metadata": {},
   "outputs": [],
   "source": [
    "y_p = torch.cat([y_patient.unsqueeze(0)] * 2)\n",
    "y_i = torch.cat([y_img.unsqueeze(0)] * 2)"
   ]
  },
  {
   "cell_type": "code",
   "execution_count": null,
   "metadata": {},
   "outputs": [],
   "source": [
    "loss = AbdomenLoss({\n",
    "    \"name\": \"image\",\n",
    "    \"smoothing\": 0,\n",
    "    \"aux_loss_weight\": 0.5,\n",
    "    \"name_aux\": \"patient\",\n",
    "    \"smoothing_aux\": 0,\n",
    "})"
   ]
  },
  {
   "cell_type": "code",
   "execution_count": null,
   "metadata": {},
   "outputs": [],
   "source": [
    "pred.size(), y_i.size()"
   ]
  },
  {
   "cell_type": "code",
   "execution_count": null,
   "metadata": {},
   "outputs": [],
   "source": [
    "loss(pred, pred_aux, y_i, y_p)"
   ]
  },
  {
   "cell_type": "code",
   "execution_count": null,
   "metadata": {},
   "outputs": [],
   "source": [
    "# loss = PatientLoss()\n",
    "# loss(pred_aux, y_p)"
   ]
  },
  {
   "cell_type": "markdown",
   "metadata": {},
   "source": [
    "## Training"
   ]
  },
  {
   "cell_type": "code",
   "execution_count": null,
   "metadata": {},
   "outputs": [],
   "source": [
    "class Config:\n",
    "    \"\"\"\n",
    "    Parameters used for training\n",
    "    \"\"\"\n",
    "    # General\n",
    "    seed = 42\n",
    "    verbose = 1\n",
    "    device = \"cuda\"\n",
    "    save_weights = True\n",
    "\n",
    "    # Data\n",
    "    resize = (512, 512)\n",
    "    aug_strength = 1\n",
    "    pos_prop = 0.1\n",
    "\n",
    "    # k-fold\n",
    "    k = 4\n",
    "    folds_file = f\"../input/folds_{k}.csv\"\n",
    "    selected_folds = [0]  # , 1, 2, 3]\n",
    "\n",
    "    # Model\n",
    "    name = \"tf_efficientnet_b0\"\n",
    "    pretrained_weights = None # PRETRAINED_WEIGHTS[name]  # None\n",
    "    \n",
    "    num_classes = 2\n",
    "    num_classes_aux = 0\n",
    "    drop_rate = 0\n",
    "    drop_path_rate = 0\n",
    "    n_channels = 3\n",
    "    reduce_stride = False\n",
    "    replace_pad_conv = False\n",
    "    use_gem = True\n",
    "\n",
    "    # Training    \n",
    "    loss_config = {\n",
    "        \"name\": \"image\",\n",
    "        \"smoothing\": 0,\n",
    "        \"activation\": \"sigmoid\",\n",
    "        \"aux_loss_weight\": 0,\n",
    "        \"name_aux\": \"patient\",\n",
    "        \"smoothing_aux\": 0,\n",
    "        \"activation_aux\": \"\",\n",
    "        \"ousm_k\": 0,  # todo ?\n",
    "    }\n",
    "\n",
    "    data_config = {\n",
    "        \"batch_size\": 16,\n",
    "        \"val_bs\": 16,\n",
    "        \"mix\": \"mixup\",\n",
    "        \"mix_proba\": 0.,\n",
    "        \"mix_alpha\": 4.,\n",
    "        \"additive_mix\": False,\n",
    "        \"num_classes\": num_classes,\n",
    "        \"num_workers\": 8,\n",
    "    }\n",
    "\n",
    "    optimizer_config = {\n",
    "        \"name\": \"AdamW\",\n",
    "        \"lr\": 5e-4,\n",
    "        \"warmup_prop\": 0.,\n",
    "        \"betas\": (0.9, 0.999),\n",
    "        \"max_grad_norm\": 10.,\n",
    "        \"weight_decay\": 0.,\n",
    "    }\n",
    "\n",
    "    epochs = 1\n",
    "\n",
    "    use_fp16 = True\n",
    "\n",
    "    verbose = 1\n",
    "    verbose_eval = 50\n",
    "    \n",
    "    fullfit = False\n",
    "    n_fullfit = 1"
   ]
  },
  {
   "cell_type": "code",
   "execution_count": null,
   "metadata": {},
   "outputs": [],
   "source": [
    "DEBUG = True\n",
    "log_folder = None\n",
    "run = None"
   ]
  },
  {
   "cell_type": "code",
   "execution_count": null,
   "metadata": {},
   "outputs": [],
   "source": [
    "if not DEBUG:\n",
    "    log_folder = prepare_log_folder(LOG_PATH)\n",
    "    print(f\"Logging results to {log_folder}\")\n",
    "    config_df = save_config(Config, log_folder + \"config.json\")\n",
    "    create_logger(directory=log_folder, name=\"logs.txt\")\n",
    "#     run = init_neptune(Config, log_folder)\n",
    "\n",
    "df_patient, df_img = prepare_data(DATA_PATH)\n",
    "init_distributed(Config)\n",
    "\n",
    "preds = k_fold(Config, df_patient, df_img, log_folder=log_folder, run=run)"
   ]
  },
  {
   "cell_type": "markdown",
   "metadata": {},
   "source": [
    "Done ! "
   ]
  }
 ],
 "metadata": {
  "kernelspec": {
   "display_name": "Python 3 (ipykernel)",
   "language": "python",
   "name": "python3"
  },
  "language_info": {
   "codemirror_mode": {
    "name": "ipython",
    "version": 3
   },
   "file_extension": ".py",
   "mimetype": "text/x-python",
   "name": "python",
   "nbconvert_exporter": "python",
   "pygments_lexer": "ipython3",
   "version": "3.10.12"
  }
 },
 "nbformat": 4,
 "nbformat_minor": 4
}
