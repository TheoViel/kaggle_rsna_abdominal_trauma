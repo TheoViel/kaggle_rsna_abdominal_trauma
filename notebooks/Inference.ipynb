{
 "cells": [
  {
   "cell_type": "markdown",
   "metadata": {},
   "source": [
    "**About** : This notebook is used to infer models."
   ]
  },
  {
   "cell_type": "code",
   "execution_count": 1,
   "metadata": {},
   "outputs": [],
   "source": [
    "%load_ext autoreload\n",
    "%autoreload 2"
   ]
  },
  {
   "cell_type": "code",
   "execution_count": 2,
   "metadata": {},
   "outputs": [
    {
     "name": "stdout",
     "output_type": "stream",
     "text": [
      "/workspace/kaggle_rsna_abdominal/src\n"
     ]
    }
   ],
   "source": [
    "cd ../src/"
   ]
  },
  {
   "cell_type": "markdown",
   "metadata": {},
   "source": [
    "## Initialization"
   ]
  },
  {
   "cell_type": "code",
   "execution_count": 4,
   "metadata": {},
   "outputs": [],
   "source": [
    "# from util.logger import upload_to_kaggle"
   ]
  },
  {
   "cell_type": "code",
   "execution_count": 5,
   "metadata": {},
   "outputs": [],
   "source": [
    "# upload_to_kaggle(\n",
    "#     [\"../logs/2023-09-20/14/\", \"../logs/2023-09-20/36/\", \"../logs/2023-09-27/20/\", \"../logs/2023-09-26/39/\", \"../logs/2023-10-02/27/\", \"../logs/2023-10-02/60/\"],\n",
    "#     \"../output/dataset/\",\n",
    "#     \"RSNA Abdomen Weights 1\",\n",
    "#     update_folders=True\n",
    "# )"
   ]
  },
  {
   "cell_type": "code",
   "execution_count": 6,
   "metadata": {},
   "outputs": [],
   "source": [
    "# !pip install -qU python-gdcm pydicom pylibjpeg dicomsdl"
   ]
  },
  {
   "cell_type": "markdown",
   "metadata": {},
   "source": [
    "### Imports"
   ]
  },
  {
   "cell_type": "code",
   "execution_count": 7,
   "metadata": {},
   "outputs": [],
   "source": [
    "import os\n",
    "import sys\n",
    "import cv2\n",
    "import glob\n",
    "import json\n",
    "import torch\n",
    "import warnings\n",
    "import numpy as np\n",
    "import pandas as pd\n",
    "import torch.nn.functional as F\n",
    "import matplotlib.pyplot as plt\n",
    "\n",
    "from tqdm import tqdm"
   ]
  },
  {
   "cell_type": "code",
   "execution_count": 8,
   "metadata": {},
   "outputs": [],
   "source": [
    "from inference.extract_features import Config\n",
    "from inference.lvl2 import predict as predict_2\n",
    "from inference.lvl2 import PatientFeatureInfDataset, to_sub_format\n",
    "from inference.crop import get_crops\n",
    "\n",
    "from util.torch import load_model_weights\n",
    "from util.plots import plot_mask\n",
    "\n",
    "from data.transforms import get_transfos\n",
    "from data.dataset import AbdominalCropDataset\n",
    "\n",
    "from inference.processing import process, restrict_imgs\n",
    "from inference.lvl1 import predict, AbdominalInfDataset\n",
    "\n",
    "\n",
    "from model_zoo.models import define_model\n",
    "from model_zoo.models_lvl2 import define_model as define_model_2\n",
    "from model_zoo.models_seg import define_model as define_model_seg\n",
    "from model_zoo.models_seg import convert_3d"
   ]
  },
  {
   "cell_type": "markdown",
   "metadata": {},
   "source": [
    "### Main"
   ]
  },
  {
   "cell_type": "code",
   "execution_count": 9,
   "metadata": {},
   "outputs": [],
   "source": [
    "DATA_PATH = \"../input/test_images/\"\n",
    "SAVE_FOLDER = \"../output/tmp/\""
   ]
  },
  {
   "cell_type": "code",
   "execution_count": 10,
   "metadata": {},
   "outputs": [],
   "source": [
    "BATCH_SIZE = 32\n",
    "BATCH_SIZE_2 = 512\n",
    "USE_FP16 = True\n",
    "NUM_WORKERS = 2\n",
    "\n",
    "RESTRICT = True"
   ]
  },
  {
   "cell_type": "markdown",
   "metadata": {},
   "source": [
    "## Level 1"
   ]
  },
  {
   "cell_type": "code",
   "execution_count": 183,
   "metadata": {},
   "outputs": [],
   "source": [
    "FOLD = 0\n",
    "\n",
    "EXP_FOLDERS = [\n",
    "    (\"../logs/2023-09-20/14/\", \"seg\", [FOLD]),\n",
    "    (\"../logs/2023-09-20/36_r/\", \"probas_2d\", [FOLD]),\n",
    "    (\"../logs/2023-09-27/20_r/\", \"probas_3d\", [FOLD]),  # convnext-tiny rnn 3fs3\n",
    "#     (\"../logs/2023-09-26/39_r/\", \"probas_3d\", [FOLD]),  # convnext-tiny rnn 2.5D 5fs5\n",
    "]\n",
    "\n",
    "CROP_EXP_FOLDERS = [\n",
    "    (\"../logs/2023-10-02/41/\", \"crop\", [FOLD])\n",
    "]\n",
    "\n",
    "EXP_FOLDERS_2 = [\n",
    "#     \"../logs/2023-10-02/27/\"\n",
    "#     \"../logs/2023-10-02/60/\",\n",
    "    \"../logs/2023-10-03/22/\",\n",
    "]\n",
    "FOLDS_2 = [0, 1, 2, 3]\n",
    "if FOLD == 0:\n",
    "    FOLDS_2 = [FOLD]\n",
    "    \n",
    "# Config(json.load(open(EXP_FOLDERS_2[0] + \"config.json\", 'r'))).exp_folders"
   ]
  },
  {
   "cell_type": "code",
   "execution_count": 16,
   "metadata": {},
   "outputs": [
    {
     "name": "stdout",
     "output_type": "stream",
     "text": [
      "\n",
      " -> Loading encoder weights from ../logs/2023-09-20/14/efficientnetv2_rw_t_0.pt\n",
      "\n",
      "\n",
      " -> Loading encoder weights from ../logs/2023-09-20/36_r/convnextv2_tiny_0.pt\n",
      "\n",
      "\n",
      " -> Loading encoder weights from ../logs/2023-09-27/20_r/convnextv2_tiny_0.pt\n",
      "\n"
     ]
    }
   ],
   "source": [
    "models = []\n",
    "\n",
    "for exp_folder, mode, folds in EXP_FOLDERS:\n",
    "    models_ = []\n",
    "    config = Config(json.load(open(exp_folder + \"config.json\", \"r\")))\n",
    "\n",
    "    model = define_model(\n",
    "        config.name,\n",
    "        drop_rate=config.drop_rate,\n",
    "        drop_path_rate=config.drop_path_rate,\n",
    "        use_gem=config.use_gem,\n",
    "        head_3d=config.head_3d if hasattr(config, \"head_3d\") else \"\",\n",
    "        n_frames=config.n_frames if hasattr(config, \"n_frames\") else \"\",\n",
    "        replace_pad_conv=config.replace_pad_conv,\n",
    "        num_classes=config.num_classes,\n",
    "        num_classes_aux=config.num_classes_aux,\n",
    "        n_channels=config.n_channels,\n",
    "        reduce_stride=config.reduce_stride,\n",
    "        increase_stride=config.increase_stride if hasattr(config, \"increase_stride\") else False,\n",
    "        pretrained=False\n",
    "    )\n",
    "    model = model.cuda().eval()\n",
    "    \n",
    "    for fold in folds:\n",
    "        weights = exp_folder + f\"{config.name}_{fold}.pt\"\n",
    "        model = load_model_weights(model, weights, verbose=config.local_rank == 0)\n",
    "        models_.append(model)\n",
    "        \n",
    "    models.append(models_)"
   ]
  },
  {
   "cell_type": "code",
   "execution_count": 17,
   "metadata": {},
   "outputs": [
    {
     "name": "stderr",
     "output_type": "stream",
     "text": [
      "  0%|          | 0/4 [00:00<?, ?it/s]"
     ]
    },
    {
     "name": "stdout",
     "output_type": "stream",
     "text": [
      "-> Patient 10082 - Series 8139\n"
     ]
    },
    {
     "name": "stderr",
     "output_type": "stream",
     "text": [
      "100%|██████████| 4/4 [00:03<00:00,  1.17it/s]\n"
     ]
    }
   ],
   "source": [
    "# %%time\n",
    "\n",
    "dfs = []\n",
    "for patient in tqdm(sorted(os.listdir(DATA_PATH))):\n",
    "    if FOLD == 0:\n",
    "        if patient != \"10082\":\n",
    "            continue\n",
    "\n",
    "    for series in sorted(os.listdir(DATA_PATH + patient)):\n",
    "        print(\"-> Patient\", patient, '- Series', series)\n",
    "\n",
    "        imgs, paths, n_imgs = process(\n",
    "            patient,\n",
    "            series,\n",
    "            data_path=DATA_PATH,\n",
    "            on_gpu=True,\n",
    "            crop_size=384,\n",
    "            restrict=RESTRICT\n",
    "        )\n",
    "\n",
    "#         img_paths = sorted(glob.glob(f'../input/imgs/{patient}_{series}*'))\n",
    "#         if RESTRICT:\n",
    "#             img_paths, n_imgs = restrict_imgs(img_paths)\n",
    "#         imgs = np.array([cv2.imread(k, 0).astype(np.float32) / 255 for k in img_paths])\n",
    "#         imgs = torch.from_numpy(imgs).float().cuda()\n",
    "#         paths = [k.split('/')[-1] for k in img_paths]\n",
    "\n",
    "        df = pd.DataFrame({\"path\": paths})\n",
    "        df['patient_id'] = df['path'].apply(lambda x: x.split('_')[0])\n",
    "        df['patient'] = df['path'].apply(lambda x: x.split('_')[0])\n",
    "        df['series'] = df['path'].apply(lambda x: x.split('_')[1])\n",
    "        df['frame'] = df['path'].apply(lambda x: int(x.split('_')[2][:-4]))\n",
    "        dfs.append(df)\n",
    "\n",
    "        for models_list, (exp_folder, _, _) in zip(models, EXP_FOLDERS):\n",
    "            exp_name = \"_\".join(exp_folder.split('/')[-2:-1])\n",
    "            if \"2023\" not in exp_name:  # locally\n",
    "                exp_name = \"_\".join(exp_folder.split('/')[-3:-1])\n",
    "            \n",
    "            config = Config(json.load(open(exp_folder + \"config.json\", \"r\")))\n",
    "            \n",
    "            transfos = get_transfos(\n",
    "                augment=False,\n",
    "                resize=(384, 384),\n",
    "                crop=True\n",
    "            )\n",
    "\n",
    "            preds = []\n",
    "            is_3d = config.head_3d if hasattr(config, \"head_3d\") else False\n",
    "            if is_3d:\n",
    "                for model in models_list:\n",
    "                    model.set_mode(\"img\")\n",
    "\n",
    "                    dataset = AbdominalInfDataset(\n",
    "                        df,\n",
    "                        transforms=transfos,\n",
    "                        frames_chanel=config.frames_chanel,\n",
    "                        n_frames=config.n_frames,\n",
    "                        stride=config.stride,\n",
    "                        imgs=imgs,\n",
    "                        paths=paths,\n",
    "                    )\n",
    "\n",
    "                    features = predict(\n",
    "                        model,\n",
    "                        dataset,\n",
    "                        {\"activation\": \"none\"},\n",
    "                        batch_size=BATCH_SIZE,\n",
    "                        use_fp16=USE_FP16,\n",
    "                        num_workers=0,\n",
    "                    )\n",
    "\n",
    "                    model.set_mode(\"ft\")\n",
    "\n",
    "                    dataset = AbdominalInfDataset(\n",
    "                        df,\n",
    "                        transforms=transfos,\n",
    "                        frames_chanel=config.frames_chanel,\n",
    "                        n_frames=config.n_frames,\n",
    "                        stride=config.stride,\n",
    "                        features=features,\n",
    "                    )\n",
    "\n",
    "                    pred = predict(\n",
    "                        model,\n",
    "                        dataset,\n",
    "                        config.loss_config,\n",
    "                        batch_size=512,\n",
    "                        use_fp16=USE_FP16,\n",
    "                        num_workers=NUM_WORKERS,\n",
    "                    )\n",
    "                    preds.append(pred)\n",
    "\n",
    "            else:\n",
    "                dataset = AbdominalInfDataset(\n",
    "                    df,\n",
    "                    transforms=transfos,\n",
    "                    frames_chanel=config.frames_chanel if hasattr(config, \"frames_chanel\") else 0,\n",
    "                    n_frames=config.n_frames if hasattr(config, \"n_frames\") else 1,\n",
    "                    stride=config.stride if hasattr(config, \"stride\") else 1,\n",
    "                    imgs=imgs,\n",
    "                    paths=paths,\n",
    "                )\n",
    "\n",
    "                for model in models_list:\n",
    "                    pred = predict(\n",
    "                        model,\n",
    "                        dataset,\n",
    "                        config.loss_config,\n",
    "                        batch_size=BATCH_SIZE,\n",
    "                        use_fp16=USE_FP16,\n",
    "                        num_workers=0,\n",
    "                    )\n",
    "                    preds.append(pred)\n",
    "\n",
    "            if RESTRICT:\n",
    "                pred_padded = np.zeros((n_imgs, pred.shape[-1]))\n",
    "                pred_padded[-len(pred):] = np.mean(preds, 0)\n",
    "            else:\n",
    "                pred_padded = np.mean(preds, 0)\n",
    "\n",
    "            np.save(SAVE_FOLDER + f\"{series}_{exp_name}.npy\", pred_padded)\n",
    "            \n",
    "            if FOLD == 0 and not RESTRICT:\n",
    "                ref = np.load(exp_folder + \"pred_val_0.npy\")\n",
    "                ref = ref[:len(pred)]\n",
    "                \n",
    "                plt.plot(ref - np.mean(preds, 0))\n",
    "                plt.title(np.abs(ref - np.mean(preds, 0)).max())\n",
    "                plt.show()\n",
    "\n",
    "#             break\n",
    "#     break\n",
    "\n",
    "df = pd.concat(dfs, ignore_index=True)\n",
    "df = df.groupby(['patient', 'series']).max().reset_index()"
   ]
  },
  {
   "cell_type": "markdown",
   "metadata": {},
   "source": [
    "## 3D + Crop"
   ]
  },
  {
   "cell_type": "code",
   "execution_count": 184,
   "metadata": {},
   "outputs": [],
   "source": [
    "EXP_FOLDER = \"../logs/2023-09-24/20/\"\n",
    "\n",
    "SIZE = 256\n",
    "PLOT = False\n",
    "SAVE = True\n",
    "MARGIN = 5\n",
    "N_FRAMES_TO_SAVE = 30\n",
    "\n",
    "config = Config(json.load(open(EXP_FOLDER + \"config.json\", \"r\")))"
   ]
  },
  {
   "cell_type": "code",
   "execution_count": 28,
   "metadata": {},
   "outputs": [
    {
     "name": "stdout",
     "output_type": "stream",
     "text": [
      "\n",
      " -> Loading encoder weights from ../logs/2023-09-24/20/resnet18d_0.pt\n",
      "\n"
     ]
    }
   ],
   "source": [
    "model = define_model_seg(\n",
    "    config.decoder_name,\n",
    "    config.name,\n",
    "    num_classes=config.num_classes,\n",
    "    num_classes_aux=config.num_classes_aux,\n",
    "    n_channels=config.n_channels,\n",
    "    increase_stride=config.increase_stride,\n",
    ")\n",
    "\n",
    "model = convert_3d(model)\n",
    "model = load_model_weights(model, EXP_FOLDER + f\"{config.name}_{fold}.pt\")\n",
    "model = model.eval().cuda()"
   ]
  },
  {
   "cell_type": "code",
   "execution_count": 29,
   "metadata": {},
   "outputs": [
    {
     "name": "stderr",
     "output_type": "stream",
     "text": [
      "  0%|          | 0/4 [00:00<?, ?it/s]"
     ]
    },
    {
     "name": "stdout",
     "output_type": "stream",
     "text": [
      "-> Patient 10082 - Series 8139\n"
     ]
    },
    {
     "name": "stderr",
     "output_type": "stream",
     "text": [
      "100%|██████████| 4/4 [00:01<00:00,  3.92it/s]"
     ]
    },
    {
     "name": "stdout",
     "output_type": "stream",
     "text": [
      "CPU times: user 744 ms, sys: 177 ms, total: 921 ms\n",
      "Wall time: 1.02 s\n"
     ]
    },
    {
     "name": "stderr",
     "output_type": "stream",
     "text": [
      "\n"
     ]
    }
   ],
   "source": [
    "%%time\n",
    "\n",
    "dfs = []\n",
    "for patient in tqdm(sorted(os.listdir(DATA_PATH))):\n",
    "    if FOLD == 0:\n",
    "        if patient != \"10082\":\n",
    "            continue\n",
    "\n",
    "    for series in sorted(os.listdir(DATA_PATH + patient)):\n",
    "        print(\"-> Patient\", patient, '- Series', series)\n",
    "\n",
    "        imgs, paths, n_imgs = process(  # 10s\n",
    "            patient,\n",
    "            series,\n",
    "            data_path=DATA_PATH,\n",
    "            on_gpu=True,\n",
    "            crop_size=384,\n",
    "            restrict=True\n",
    "        )  # [-600:]\n",
    "\n",
    "        with torch.cuda.amp.autocast(enabled=True):\n",
    "            x = F.interpolate(imgs.unsqueeze(0).unsqueeze(0), size=(SIZE, SIZE, SIZE), mode=\"nearest\")\n",
    "            pred = model(x)[0].argmax(1, keepdims=True).float()\n",
    "            pred = F.interpolate(pred, size=(len(imgs), 384, 384), mode=\"nearest\")\n",
    "            \n",
    "        seg = pred[0][0]\n",
    "        \n",
    "#         print(seg.size(), imgs.size())\n",
    "        \n",
    "        coords = get_crops(seg)\n",
    "        \n",
    "#         print(coords)\n",
    "#         if SAVE:\n",
    "#             np.save(EXP_FOLDER + \"masks/\" + f\"mask_{patient_id}_{series}.npy\", msk.astype(np.uint8))\n",
    "#             np.save(EXP_FOLDER + \"masks/\" + f\"mask_counts_{patient_id}_{series}.npy\", counts.astype(int))\n",
    "#         seg = np.load(EXP_FOLDER + \"masks/\" + f\"mask_{patient}_{series}.npy\")\n",
    "\n",
    "        for (x0, x1, y0, y1, z0, z1), name in zip(coords, ['liver', 'spleen', 'kidney']):\n",
    "            x0, x1 = max(0, x0 - MARGIN), min(imgs.shape[0], x1 + MARGIN)\n",
    "            y0, y1 = max(0, y0 - MARGIN), min(imgs.shape[1], y1 + MARGIN)\n",
    "            z0, z1 = max(0, z0 - MARGIN), min(imgs.shape[2], z1 + MARGIN)\n",
    "\n",
    "            img_crop = (imgs[x0: x1, y0:y1, z0:z1].cpu().numpy() * 255).astype(np.uint8)\n",
    "            \n",
    "# #             crop_ref = np.load(\"../input/crops/imgs/\" + f'{patient}_{series}_{name}.npy') / 255.\n",
    "# #             print(img_crop.shape, crop_ref.shape, np.abs(img_crop - crop_ref).max())\n",
    "\n",
    "            if PLOT:\n",
    "                seg_crop = seg[x0: x1, y0:y1, z0:z1].cpu().numpy()\n",
    "        \n",
    "                plt.figure(figsize=(15, 5))\n",
    "                plt.subplot(1, 3, 1)\n",
    "                id_ = img_crop.shape[0] // 2\n",
    "                plot_mask(img_crop[id_], seg_crop[id_])\n",
    "                plt.title(f'{name} x - shape={img_crop.shape}')\n",
    "                plt.subplot(1, 3, 2)\n",
    "                id_ = img_crop.shape[1] // 2\n",
    "                plot_mask(img_crop[:, id_], seg_crop[:, id_])\n",
    "                plt.title(f'{name} y - shape={img_crop.shape}')\n",
    "                plt.subplot(1, 3, 3)\n",
    "                id_ = img_crop.shape[2] // 2\n",
    "                plot_mask(img_crop[:, :, id_], seg_crop[:, :, id_])\n",
    "                plt.title(f'{name} z - shape={img_crop.shape}')\n",
    "                plt.show()\n",
    "\n",
    "            if SAVE:\n",
    "                if len(img_crop) > N_FRAMES_TO_SAVE + 2:\n",
    "                    mid = len(img_crop) // 2\n",
    "                    img_crop_save = img_crop[mid - N_FRAMES_TO_SAVE // 2: mid + N_FRAMES_TO_SAVE // 2].copy()\n",
    "#                     print(mid - N_FRAMES_TO_SAVE // 2, mid + N_FRAMES_TO_SAVE // 2, img_crop.shape)\n",
    "                else:\n",
    "                    img_crop_save = img_crop.copy()\n",
    "#                 print(img_crop_save.shape)\n",
    "                np.save(SAVE_FOLDER + f'{patient}_{series}_{name}.npy', img_crop_save)\n",
    "# #                 np.save(SAVE_FOLDER_MASK + f'{df_series.patient_id[i]}_{df_series.series[i]}_{name}.npy', seg_crop)"
   ]
  },
  {
   "cell_type": "markdown",
   "metadata": {},
   "source": [
    "## Crop models"
   ]
  },
  {
   "cell_type": "code",
   "execution_count": 39,
   "metadata": {},
   "outputs": [],
   "source": [
    "df_series = pd.DataFrame({\"img_path\": sorted(glob.glob(SAVE_FOLDER + f'*.npy'))})\n",
    "df_series['patient_id'] = df_series['img_path'].apply(lambda x: x.split('/')[-1].split('_')[0])\n",
    "df_series['series'] = df_series['img_path'].apply(lambda x: x.split('_')[-2])\n",
    "df_series['organ'] = df_series['img_path'].apply(lambda x: x.split('_')[-1][:-4])\n",
    "\n",
    "df_series['target'] = 0\n",
    "df_series = df_series[df_series['organ'].isin(['kidney', 'liver', 'spleen'])].reset_index(drop=True)\n",
    "\n",
    "if FOLD == 0:\n",
    "    df_series = df_series[df_series['patient_id'].astype(int) == 10082].reset_index(drop=True)"
   ]
  },
  {
   "cell_type": "code",
   "execution_count": 88,
   "metadata": {},
   "outputs": [
    {
     "name": "stdout",
     "output_type": "stream",
     "text": [
      "\n",
      " -> Loading encoder weights from ../logs/2023-10-02/41/coatnet_1_rw_224_0.pt\n",
      "\n"
     ]
    }
   ],
   "source": [
    "crop_fts = []\n",
    "for exp_folder, mode, folds in CROP_EXP_FOLDERS:\n",
    "    \n",
    "    config = Config(json.load(open(exp_folder + \"config.json\", \"r\")))\n",
    "\n",
    "    model = define_model(\n",
    "        config.name,\n",
    "        drop_rate=config.drop_rate,\n",
    "        drop_path_rate=config.drop_path_rate,\n",
    "        use_gem=config.use_gem,\n",
    "        head_3d=config.head_3d if hasattr(config, \"head_3d\") else \"\",\n",
    "        n_frames=config.n_frames if hasattr(config, \"n_frames\") else \"\",\n",
    "        replace_pad_conv=config.replace_pad_conv,\n",
    "        num_classes=config.num_classes,\n",
    "        num_classes_aux=config.num_classes_aux,\n",
    "        n_channels=config.n_channels,\n",
    "        reduce_stride=config.reduce_stride,\n",
    "        increase_stride=config.increase_stride if hasattr(config, \"increase_stride\") else False,\n",
    "        pretrained=False\n",
    "    )\n",
    "    model = model.cuda().eval()\n",
    "    \n",
    "    preds = []\n",
    "    for fold in folds:\n",
    "        weights = exp_folder + f\"{config.name}_{fold}.pt\"\n",
    "        model = load_model_weights(model, weights, verbose=config.local_rank == 0)\n",
    "        \n",
    "        transfos = get_transfos(\n",
    "            augment=False, resize=config.resize, crop=config.crop\n",
    "        )\n",
    "\n",
    "        dataset = AbdominalCropDataset(\n",
    "            None,\n",
    "            None,\n",
    "            transforms=transfos,\n",
    "            frames_chanel=config.frames_chanel,\n",
    "            n_frames=config.n_frames,\n",
    "            stride=config.stride,\n",
    "            use_mask=config.use_mask,\n",
    "            train=False,\n",
    "            df_series=df_series\n",
    "        )\n",
    "\n",
    "        pred = predict(\n",
    "            model,\n",
    "            dataset,\n",
    "            config.loss_config,\n",
    "            batch_size=BATCH_SIZE,\n",
    "            use_fp16=USE_FP16,\n",
    "            num_workers=NUM_WORKERS,\n",
    "        )\n",
    "        preds.append(pred)\n",
    "\n",
    "    preds = np.mean(preds, 0)\n",
    "    crop_fts.append(preds)\n",
    "    \n",
    "crop_fts = np.array(crop_fts) # n_models x 3*n_studies x n_classes\n",
    "np.save(SAVE_FOLDER + \"crop_fts.npy\", crop_fts)"
   ]
  },
  {
   "cell_type": "code",
   "execution_count": 179,
   "metadata": {},
   "outputs": [],
   "source": [
    "crop_fts = np.load(SAVE_FOLDER + \"crop_fts.npy\")\n",
    "\n",
    "crop_fts = crop_fts.reshape(crop_fts.shape[0], crop_fts.shape[1] // 3, 3, crop_fts.shape[2])  # n_models x n_studies x n_organs x 3\n",
    "crop_fts = crop_fts.transpose(1, 2, 3, 0)  # n_studies x n_organs x 3 x n_models\n",
    "crop_fts = crop_fts.reshape(crop_fts.shape[0], crop_fts.shape[1], crop_fts.shape[2] * crop_fts.shape[3])  # n_studies x n_organs x 3 * n_models"
   ]
  },
  {
   "cell_type": "markdown",
   "metadata": {},
   "source": [
    "## Level 2"
   ]
  },
  {
   "cell_type": "code",
   "execution_count": 180,
   "metadata": {},
   "outputs": [
    {
     "name": "stdout",
     "output_type": "stream",
     "text": [
      "\n",
      " -> Loading encoder weights from ../logs/2023-10-03/22/rnn_att_0.pt\n",
      "\n"
     ]
    }
   ],
   "source": [
    "all_preds = []\n",
    "\n",
    "for exp_folder in EXP_FOLDERS_2:\n",
    "    config_2 = Config(json.load(open(exp_folder + \"config.json\", \"r\")))\n",
    "\n",
    "    dataset = PatientFeatureInfDataset(\n",
    "        df['series'],\n",
    "        config_2.exp_folders,\n",
    "        crop_fts=crop_fts,\n",
    "        max_len=config_2.max_len,\n",
    "        restrict=config_2.restrict,\n",
    "        resize=config_2.resize,\n",
    "        save_folder=SAVE_FOLDER\n",
    "    )\n",
    "    \n",
    "    model = define_model_2(\n",
    "        config_2.name,\n",
    "        ft_dim=config_2.ft_dim,\n",
    "        layer_dim=config_2.layer_dim,\n",
    "        n_layers=config_2.n_layers,\n",
    "        dense_dim=config_2.dense_dim,\n",
    "        p=config_2.p,\n",
    "        use_msd=config_2.use_msd,\n",
    "        num_classes=config_2.num_classes,\n",
    "        num_classes_aux=config_2.num_classes_aux,\n",
    "        n_fts=config_2.n_fts,\n",
    "    )\n",
    "    model = model.eval().cuda()\n",
    "\n",
    "    for fold in FOLDS_2:\n",
    "        weights = exp_folder + f\"{config_2.name}_{fold}.pt\"\n",
    "        model = load_model_weights(model, weights, verbose=config.local_rank == 0)\n",
    "    \n",
    "        preds = predict_2(\n",
    "            model,\n",
    "            dataset,\n",
    "            config_2.loss_config,\n",
    "            batch_size=BATCH_SIZE_2,\n",
    "            use_fp16=USE_FP16,\n",
    "            num_workers=NUM_WORKERS,\n",
    "        )\n",
    "        all_preds.append(preds)"
   ]
  },
  {
   "cell_type": "code",
   "execution_count": 181,
   "metadata": {},
   "outputs": [
    {
     "data": {
      "text/html": [
       "<div>\n",
       "<style scoped>\n",
       "    .dataframe tbody tr th:only-of-type {\n",
       "        vertical-align: middle;\n",
       "    }\n",
       "\n",
       "    .dataframe tbody tr th {\n",
       "        vertical-align: top;\n",
       "    }\n",
       "\n",
       "    .dataframe thead th {\n",
       "        text-align: right;\n",
       "    }\n",
       "</style>\n",
       "<table border=\"1\" class=\"dataframe\">\n",
       "  <thead>\n",
       "    <tr style=\"text-align: right;\">\n",
       "      <th></th>\n",
       "      <th>patient_id</th>\n",
       "      <th>bowel_healthy</th>\n",
       "      <th>bowel_injury</th>\n",
       "      <th>extravasation_healthy</th>\n",
       "      <th>extravasation_injury</th>\n",
       "      <th>kidney_healthy</th>\n",
       "      <th>kidney_low</th>\n",
       "      <th>kidney_high</th>\n",
       "      <th>liver_healthy</th>\n",
       "      <th>liver_low</th>\n",
       "      <th>liver_high</th>\n",
       "      <th>spleen_healthy</th>\n",
       "      <th>spleen_low</th>\n",
       "      <th>spleen_high</th>\n",
       "    </tr>\n",
       "  </thead>\n",
       "  <tbody>\n",
       "    <tr>\n",
       "      <th>0</th>\n",
       "      <td>10082</td>\n",
       "      <td>0.996702</td>\n",
       "      <td>0.003298</td>\n",
       "      <td>0.90448</td>\n",
       "      <td>0.09552</td>\n",
       "      <td>0.993164</td>\n",
       "      <td>0.005768</td>\n",
       "      <td>0.000995</td>\n",
       "      <td>0.979004</td>\n",
       "      <td>0.018799</td>\n",
       "      <td>0.002153</td>\n",
       "      <td>0.978027</td>\n",
       "      <td>0.016495</td>\n",
       "      <td>0.005646</td>\n",
       "    </tr>\n",
       "  </tbody>\n",
       "</table>\n",
       "</div>"
      ],
      "text/plain": [
       "  patient_id  bowel_healthy  bowel_injury  extravasation_healthy  \\\n",
       "0      10082       0.996702      0.003298                0.90448   \n",
       "\n",
       "   extravasation_injury  kidney_healthy  kidney_low  kidney_high  \\\n",
       "0               0.09552        0.993164    0.005768     0.000995   \n",
       "\n",
       "   liver_healthy  liver_low  liver_high  spleen_healthy  spleen_low  \\\n",
       "0       0.979004   0.018799    0.002153        0.978027    0.016495   \n",
       "\n",
       "   spleen_high  \n",
       "0     0.005646  "
      ]
     },
     "execution_count": 181,
     "metadata": {},
     "output_type": "execute_result"
    }
   ],
   "source": [
    "preds = np.mean(all_preds, 0).astype(np.float64)\n",
    "\n",
    "for i in range(preds.shape[1]):\n",
    "    df[f'pred_{i}'] = preds[:, i]\n",
    "\n",
    "dfg = df.drop(['series', 'path', 'frame', 'patient_id'], axis=1).groupby('patient').mean().reset_index()\n",
    "sub = to_sub_format(dfg)\n",
    "\n",
    "sub"
   ]
  },
  {
   "cell_type": "markdown",
   "metadata": {},
   "source": [
    "### Checks"
   ]
  },
  {
   "cell_type": "code",
   "execution_count": 182,
   "metadata": {},
   "outputs": [
    {
     "data": {
      "text/html": [
       "<div>\n",
       "<style scoped>\n",
       "    .dataframe tbody tr th:only-of-type {\n",
       "        vertical-align: middle;\n",
       "    }\n",
       "\n",
       "    .dataframe tbody tr th {\n",
       "        vertical-align: top;\n",
       "    }\n",
       "\n",
       "    .dataframe thead th {\n",
       "        text-align: right;\n",
       "    }\n",
       "</style>\n",
       "<table border=\"1\" class=\"dataframe\">\n",
       "  <thead>\n",
       "    <tr style=\"text-align: right;\">\n",
       "      <th></th>\n",
       "      <th>patient_id</th>\n",
       "      <th>bowel_healthy</th>\n",
       "      <th>bowel_injury</th>\n",
       "      <th>extravasation_healthy</th>\n",
       "      <th>extravasation_injury</th>\n",
       "      <th>kidney_healthy</th>\n",
       "      <th>kidney_low</th>\n",
       "      <th>kidney_high</th>\n",
       "      <th>liver_healthy</th>\n",
       "      <th>liver_low</th>\n",
       "      <th>liver_high</th>\n",
       "      <th>spleen_healthy</th>\n",
       "      <th>spleen_low</th>\n",
       "      <th>spleen_high</th>\n",
       "      <th>fold</th>\n",
       "      <th>diff</th>\n",
       "    </tr>\n",
       "  </thead>\n",
       "  <tbody>\n",
       "    <tr>\n",
       "      <th>0</th>\n",
       "      <td>10082</td>\n",
       "      <td>0.996702</td>\n",
       "      <td>0.003298</td>\n",
       "      <td>0.904663</td>\n",
       "      <td>0.095337</td>\n",
       "      <td>0.993164</td>\n",
       "      <td>0.005733</td>\n",
       "      <td>0.000989</td>\n",
       "      <td>0.979004</td>\n",
       "      <td>0.018906</td>\n",
       "      <td>0.002167</td>\n",
       "      <td>0.978027</td>\n",
       "      <td>0.016464</td>\n",
       "      <td>0.005634</td>\n",
       "      <td>0</td>\n",
       "      <td>0.000183</td>\n",
       "    </tr>\n",
       "  </tbody>\n",
       "</table>\n",
       "</div>"
      ],
      "text/plain": [
       "   patient_id  bowel_healthy  bowel_injury  extravasation_healthy  \\\n",
       "0       10082       0.996702      0.003298               0.904663   \n",
       "\n",
       "   extravasation_injury  kidney_healthy  kidney_low  kidney_high  \\\n",
       "0              0.095337        0.993164    0.005733     0.000989   \n",
       "\n",
       "   liver_healthy  liver_low  liver_high  spleen_healthy  spleen_low  \\\n",
       "0       0.979004   0.018906    0.002167        0.978027    0.016464   \n",
       "\n",
       "   spleen_high  fold      diff  \n",
       "0     0.005634     0  0.000183  "
      ]
     },
     "execution_count": 182,
     "metadata": {},
     "output_type": "execute_result"
    }
   ],
   "source": [
    "df_oof = pd.read_csv(exp_folder + 'df_oof.csv')\n",
    "df_oof = df_oof[df_oof['patient_id'].isin(sub['patient_id'].values.astype(int))]\n",
    "\n",
    "df_oof = df_oof[[\"patient_id\", \"fold\"] + list(df_oof.columns[-11:])]\n",
    "df_oof.columns = [\"patient_id\", \"fold\", \"bowel_injury\", \"extravasation_injury\"] + list(sub.columns[-9:])\n",
    "df_oof[\"extravasation_healthy\"] = 1 - df_oof[\"extravasation_injury\"]\n",
    "df_oof[\"bowel_healthy\"] = 1 - df_oof[\"bowel_injury\"]\n",
    "\n",
    "df_oof = df_oof.sort_values('patient_id', ignore_index=True)\n",
    "\n",
    "df_oof['diff'] = (sub[sub.columns[1:]] - df_oof[sub.columns[1:]]).abs().max(1)\n",
    "\n",
    "df_oof = df_oof[list(sub.columns) + ['fold', 'diff']]\n",
    "# df_oof[df_oof['fold'] == FOLD]\n",
    "df_oof"
   ]
  },
  {
   "cell_type": "code",
   "execution_count": null,
   "metadata": {},
   "outputs": [],
   "source": [
    "# sub.to_csv(SAVE_FOLDER + \"submission.csv\", index=False)\n",
    "# sub"
   ]
  },
  {
   "cell_type": "markdown",
   "metadata": {},
   "source": [
    "Done ! "
   ]
  }
 ],
 "metadata": {
  "kernelspec": {
   "display_name": "Python 3 (ipykernel)",
   "language": "python",
   "name": "python3"
  },
  "language_info": {
   "codemirror_mode": {
    "name": "ipython",
    "version": 3
   },
   "file_extension": ".py",
   "mimetype": "text/x-python",
   "name": "python",
   "nbconvert_exporter": "python",
   "pygments_lexer": "ipython3",
   "version": "3.10.12"
  },
  "vscode": {
   "interpreter": {
    "hash": "f7241b2af102f7e024509099765066b36197b195077f7bfac6e5bc041ba17c8c"
   }
  }
 },
 "nbformat": 4,
 "nbformat_minor": 4
}
