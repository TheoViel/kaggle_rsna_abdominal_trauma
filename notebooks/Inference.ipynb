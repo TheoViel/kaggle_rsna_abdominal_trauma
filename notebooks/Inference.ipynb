{
 "cells": [
  {
   "cell_type": "markdown",
   "metadata": {},
   "source": [
    "**About** : This notebook is used to infer models."
   ]
  },
  {
   "cell_type": "code",
   "execution_count": 2,
   "metadata": {},
   "outputs": [],
   "source": [
    "%load_ext autoreload\n",
    "%autoreload 2"
   ]
  },
  {
   "cell_type": "code",
   "execution_count": 3,
   "metadata": {},
   "outputs": [
    {
     "name": "stdout",
     "output_type": "stream",
     "text": [
      "/workspace/kaggle_rsna_abdominal/src\n"
     ]
    }
   ],
   "source": [
    "cd ../src/"
   ]
  },
  {
   "cell_type": "markdown",
   "metadata": {},
   "source": [
    "### Imports"
   ]
  },
  {
   "cell_type": "code",
   "execution_count": 13,
   "metadata": {},
   "outputs": [
    {
     "name": "stdout",
     "output_type": "stream",
     "text": [
      "\u001b[33mWARNING: Running pip as the 'root' user can result in broken permissions and conflicting behaviour with the system package manager. It is recommended to use a virtual environment instead: https://pip.pypa.io/warnings/venv\u001b[0m\u001b[33m\n",
      "\u001b[0m"
     ]
    }
   ],
   "source": [
    "# !pip install -qU python-gdcm pydicom pylibjpeg dicomsdl"
   ]
  },
  {
   "cell_type": "code",
   "execution_count": 7,
   "metadata": {},
   "outputs": [],
   "source": [
    "import os\n",
    "import sys\n",
    "import cv2\n",
    "import glob\n",
    "import json\n",
    "import torch\n",
    "import warnings\n",
    "import numpy as np\n",
    "import pandas as pd\n",
    "import torch.nn.functional as F\n",
    "import matplotlib.pyplot as plt\n",
    "\n",
    "from tqdm import tqdm"
   ]
  },
  {
   "cell_type": "code",
   "execution_count": 14,
   "metadata": {},
   "outputs": [],
   "source": [
    "from inference.extract_features import Config\n",
    "from inference.lvl2 import predict as predict_2\n",
    "from inference.lvl2 import PatientFeatureInfDataset, to_sub_format\n",
    "from inference.crop import get_crops\n",
    "\n",
    "from util.torch import load_model_weights\n",
    "from util.plots import plot_mask\n",
    "\n",
    "from data.transforms import get_transfos\n",
    "from data.dataset import AbdominalCropDataset\n",
    "\n",
    "from inference.processing import process, restrict_imgs\n",
    "from inference.lvl1 import predict, AbdominalInfDataset\n",
    "\n",
    "\n",
    "from model_zoo.models import define_model\n",
    "from model_zoo.models_lvl2 import define_model as define_model_2\n",
    "from model_zoo.models_seg import define_model as define_model_seg\n",
    "from model_zoo.models_seg import convert_3d"
   ]
  },
  {
   "cell_type": "markdown",
   "metadata": {},
   "source": [
    "### Params"
   ]
  },
  {
   "cell_type": "code",
   "execution_count": null,
   "metadata": {},
   "outputs": [],
   "source": [
    "EVAL = False"
   ]
  },
  {
   "cell_type": "code",
   "execution_count": 15,
   "metadata": {},
   "outputs": [],
   "source": [
    "DATA_PATH = \"../input/test_images/\"\n",
    "SAVE_FOLDER = \"../output/tmp/\""
   ]
  },
  {
   "cell_type": "code",
   "execution_count": 16,
   "metadata": {},
   "outputs": [],
   "source": [
    "BATCH_SIZE = 32\n",
    "BATCH_SIZE_2 = 512\n",
    "USE_FP16 = True\n",
    "NUM_WORKERS = 2\n",
    "\n",
    "RESTRICT = True"
   ]
  },
  {
   "cell_type": "code",
   "execution_count": 91,
   "metadata": {},
   "outputs": [
    {
     "data": {
      "text/plain": [
       "[['../logs/2023-09-20/14/', 'seg'],\n",
       " ['../logs/2023-09-27/20_r/', 'probas_3d'],\n",
       " ['../logs/2023-09-20/36_r/', 'probas_2d'],\n",
       " ['../logs/2023-10-02/41/', 'crop']]"
      ]
     },
     "execution_count": 91,
     "metadata": {},
     "output_type": "execute_result"
    }
   ],
   "source": [
    "FOLD = 3\n",
    "# FOLD = \"fullfit_0\"\n",
    "\n",
    "EXP_FOLDERS = [\n",
    "    (\"../logs/2023-09-20/14/\", \"seg\", [FOLD]),\n",
    "    (\"../logs/2023-09-20/36_r/\", \"probas_2d\", [FOLD]),\n",
    "    (\"../logs/2023-09-27/20_r/\", \"probas_3d\", [FOLD]),  # convnext-tiny rnn 3fs3\n",
    "#     (\"../logs/2023-09-26/39_r/\", \"probas_3d\", [FOLD]),  # convnext-tiny rnn 2.5D 5fs5\n",
    "]\n",
    "\n",
    "CROP_EXP_FOLDERS = [\n",
    "    (\"../logs/2023-10-02/41/\", \"crop\", [FOLD])\n",
    "]\n",
    "\n",
    "EXP_FOLDERS_2 = [\n",
    "#     \"../logs/2023-10-02/27/\"\n",
    "#     \"../logs/2023-10-02/60/\",\n",
    "    \"../logs/2023-10-03/22/\",\n",
    "]\n",
    "\n",
    "EXP_FOLDER_3D = \"../logs/2023-09-24/20/\"\n",
    "\n",
    "\n",
    "FOLDS_2 = [0, 1, 2, 3]\n",
    "if \"fullfit\" not in str(FOLD):\n",
    "    FOLDS_2 = [FOLD]\n",
    "    \n",
    "Config(json.load(open(EXP_FOLDERS_2[0] + \"config.json\", 'r'))).exp_folders"
   ]
  },
  {
   "cell_type": "code",
   "execution_count": 92,
   "metadata": {},
   "outputs": [],
   "source": [
    "# from util.logger import upload_to_kaggle\n",
    "\n",
    "# to_upload = [p[0] if isinstance(p, tuple) else p for p in EXP_FOLDERS + CROP_EXP_FOLDERS + EXP_FOLDERS_2 + [EXP_FOLDER_3D]]\n",
    "\n",
    "# upload_to_kaggle(\n",
    "#     to_upload,\n",
    "#     \"../output/dataset/\",\n",
    "#     \"RSNA Abdomen Weights 1\",\n",
    "#     update_folders=True\n",
    "# )"
   ]
  },
  {
   "cell_type": "markdown",
   "metadata": {},
   "source": [
    "## Seg & Level 1"
   ]
  },
  {
   "cell_type": "code",
   "execution_count": 105,
   "metadata": {},
   "outputs": [
    {
     "name": "stdout",
     "output_type": "stream",
     "text": [
      "\n",
      " -> Loading encoder weights from ../logs/2023-09-24/20/resnet18d_3.pt\n",
      "\n"
     ]
    }
   ],
   "source": [
    "class Config3d:\n",
    "    size = 256\n",
    "    plot = FOLD == 0\n",
    "    margin = 5\n",
    "    n_frames_to_save = 30\n",
    "\n",
    "config = Config(json.load(open(EXP_FOLDER_3D + \"config.json\", \"r\")))\n",
    "\n",
    "model_seg = define_model_seg(\n",
    "    config.decoder_name,\n",
    "    config.name,\n",
    "    num_classes=config.num_classes,\n",
    "    num_classes_aux=config.num_classes_aux,\n",
    "    n_channels=config.n_channels,\n",
    "    increase_stride=config.increase_stride,\n",
    "    pretrained=False,\n",
    ")\n",
    "\n",
    "model_seg = convert_3d(model_seg)\n",
    "model_seg = load_model_weights(model_seg, EXP_FOLDER_3D + f\"{config.name}_{FOLD}.pt\")\n",
    "model_seg = model_seg.eval().cuda()"
   ]
  },
  {
   "cell_type": "code",
   "execution_count": 106,
   "metadata": {},
   "outputs": [
    {
     "name": "stdout",
     "output_type": "stream",
     "text": [
      "\n",
      " -> Loading encoder weights from ../logs/2023-09-20/14/efficientnetv2_rw_t_3.pt\n",
      "\n",
      "\n",
      " -> Loading encoder weights from ../logs/2023-09-20/36_r/convnextv2_tiny_3.pt\n",
      "\n",
      "\n",
      " -> Loading encoder weights from ../logs/2023-09-27/20_r/convnextv2_tiny_3.pt\n",
      "\n"
     ]
    }
   ],
   "source": [
    "models = []\n",
    "\n",
    "for exp_folder, mode, folds in EXP_FOLDERS:\n",
    "    models_ = []\n",
    "    config = Config(json.load(open(exp_folder + \"config.json\", \"r\")))\n",
    "\n",
    "    model = define_model(\n",
    "        config.name,\n",
    "        drop_rate=config.drop_rate,\n",
    "        drop_path_rate=config.drop_path_rate,\n",
    "        use_gem=config.use_gem,\n",
    "        head_3d=config.head_3d if hasattr(config, \"head_3d\") else \"\",\n",
    "        n_frames=config.n_frames if hasattr(config, \"n_frames\") else \"\",\n",
    "        replace_pad_conv=config.replace_pad_conv,\n",
    "        num_classes=config.num_classes,\n",
    "        num_classes_aux=config.num_classes_aux,\n",
    "        n_channels=config.n_channels,\n",
    "        reduce_stride=config.reduce_stride,\n",
    "        increase_stride=config.increase_stride if hasattr(config, \"increase_stride\") else False,\n",
    "        pretrained=False\n",
    "    )\n",
    "    model = model.cuda().eval()\n",
    "    \n",
    "    for fold in folds:\n",
    "        weights = exp_folder + f\"{config.name}_{fold}.pt\"\n",
    "        model = load_model_weights(model, weights, verbose=config.local_rank == 0)\n",
    "        models_.append(model)\n",
    "        \n",
    "    models.append(models_)"
   ]
  },
  {
   "cell_type": "code",
   "execution_count": 107,
   "metadata": {},
   "outputs": [
    {
     "name": "stderr",
     "output_type": "stream",
     "text": [
      "  0%|          | 0/4 [00:00<?, ?it/s]"
     ]
    },
    {
     "name": "stdout",
     "output_type": "stream",
     "text": [
      "-> Patient 10004 - Series 21057\n",
      "-> Patient 10004 - Series 51033\n"
     ]
    },
    {
     "name": "stderr",
     "output_type": "stream",
     "text": [
      " 25%|██▌       | 1/4 [00:18<00:56, 18.85s/it]"
     ]
    },
    {
     "name": "stdout",
     "output_type": "stream",
     "text": [
      "-> Patient 10005 - Series 18667\n"
     ]
    },
    {
     "name": "stderr",
     "output_type": "stream",
     "text": [
      " 50%|█████     | 2/4 [00:20<00:17,  8.69s/it]"
     ]
    },
    {
     "name": "stdout",
     "output_type": "stream",
     "text": [
      "-> Patient 10007 - Series 47578\n"
     ]
    },
    {
     "name": "stderr",
     "output_type": "stream",
     "text": [
      " 75%|███████▌  | 3/4 [00:22<00:05,  5.50s/it]"
     ]
    },
    {
     "name": "stdout",
     "output_type": "stream",
     "text": [
      "-> Patient 10082 - Series 8139\n"
     ]
    },
    {
     "name": "stderr",
     "output_type": "stream",
     "text": [
      "100%|██████████| 4/4 [00:24<00:00,  6.11s/it]\n"
     ]
    }
   ],
   "source": [
    "# %%time\n",
    "\n",
    "dfs = []\n",
    "for patient in tqdm(sorted(os.listdir(DATA_PATH))):\n",
    "    if FOLD == 0:\n",
    "        if EVAL:\n",
    "            if int(patient) not in patients:\n",
    "                continue\n",
    "        else:\n",
    "            if patient != \"10082\":\n",
    "                continue\n",
    "\n",
    "    for series in sorted(os.listdir(DATA_PATH + patient)):\n",
    "        print(\"-> Patient\", patient, '- Series', series)\n",
    "\n",
    "        imgs, paths, n_imgs = process(\n",
    "            patient,\n",
    "            series,\n",
    "            data_path=DATA_PATH,\n",
    "            on_gpu=True,\n",
    "            crop_size=384,\n",
    "            restrict=RESTRICT\n",
    "        )\n",
    "\n",
    "#         img_paths = sorted(glob.glob(f'../input/imgs/{patient}_{series}*'))\n",
    "#         if RESTRICT:\n",
    "#             img_paths, n_imgs = restrict_imgs(img_paths)\n",
    "#         imgs = np.array([cv2.imread(k, 0).astype(np.float32) / 255 for k in img_paths])\n",
    "#         imgs = torch.from_numpy(imgs).float().cuda()\n",
    "#         paths = [k.split('/')[-1] for k in img_paths]\n",
    "\n",
    "        # Seg & Crop\n",
    "        with torch.cuda.amp.autocast(enabled=True):\n",
    "            x = F.interpolate(imgs.unsqueeze(0).unsqueeze(0), size=(Config3d.size, Config3d.size, Config3d.size), mode=\"nearest\")\n",
    "            pred = model_seg(x)[0].argmax(1, keepdims=True).float()\n",
    "            pred = F.interpolate(pred, size=(len(imgs), 384, 384), mode=\"nearest\")\n",
    "            \n",
    "        seg = pred[0][0]\n",
    "        coords = get_crops(seg)\n",
    "#         seg = np.load(EXP_FOLDER + \"masks/\" + f\"mask_{patient}_{series}.npy\")\n",
    "\n",
    "        for (x0, x1, y0, y1, z0, z1), name in zip(coords, ['liver', 'spleen', 'kidney']):\n",
    "            x0, x1 = max(0, x0 - Config3d.margin), min(imgs.shape[0], x1 + Config3d.margin)\n",
    "            y0, y1 = max(0, y0 - Config3d.margin), min(imgs.shape[1], y1 + Config3d.margin)\n",
    "            z0, z1 = max(0, z0 - Config3d.margin), min(imgs.shape[2], z1 + Config3d.margin)\n",
    "\n",
    "            img_crop = (imgs[x0: x1, y0:y1, z0:z1].cpu().numpy() * 255).astype(np.uint8)\n",
    "            \n",
    "# #             crop_ref = np.load(\"../input/crops/imgs/\" + f'{patient}_{series}_{name}.npy') / 255.\n",
    "# #             print(img_crop.shape, crop_ref.shape, np.abs(img_crop - crop_ref).max())\n",
    "\n",
    "            if Config3d.plot:\n",
    "                seg_crop = seg[x0: x1, y0:y1, z0:z1].cpu().numpy()\n",
    "        \n",
    "                plt.figure(figsize=(15, 5))\n",
    "                plt.subplot(1, 3, 1)\n",
    "                id_ = img_crop.shape[0] // 2\n",
    "                plot_mask(img_crop[id_], seg_crop[id_])\n",
    "                plt.title(f'{name} x - shape={img_crop.shape}')\n",
    "                plt.subplot(1, 3, 2)\n",
    "                id_ = img_crop.shape[1] // 2\n",
    "                plot_mask(img_crop[:, id_], seg_crop[:, id_])\n",
    "                plt.title(f'{name} y - shape={img_crop.shape}')\n",
    "                plt.subplot(1, 3, 3)\n",
    "                id_ = img_crop.shape[2] // 2\n",
    "                plot_mask(img_crop[:, :, id_], seg_crop[:, :, id_])\n",
    "                plt.title(f'{name} z - shape={img_crop.shape}')\n",
    "                plt.show()\n",
    "\n",
    "            if len(img_crop) > Config3d.n_frames_to_save + 2:\n",
    "                mid = len(img_crop) // 2\n",
    "                img_crop_save = img_crop[mid - Config3d.n_frames_to_save // 2: mid + Config3d.n_frames_to_save // 2].copy()\n",
    "#                     print(mid - Config3d.n_frames_to_save // 2, mid + Config3d.n_frames_to_save // 2, img_crop.shape)\n",
    "            else:\n",
    "                img_crop_save = img_crop.copy()\n",
    "#                 print(img_crop_save.shape)\n",
    "            np.save(SAVE_FOLDER + f'{patient}_{series}_{name}.npy', img_crop_save)\n",
    "# #                 np.save(SAVE_FOLDER_MASK + f'{df_series.patient_id[i]}_{df_series.series[i]}_{name}.npy', seg_crop)\n",
    "\n",
    "        # Cls\n",
    "        df = pd.DataFrame({\"path\": paths})\n",
    "        df['patient_id'] = df['path'].apply(lambda x: x.split('_')[0])\n",
    "        df['patient'] = df['path'].apply(lambda x: x.split('_')[0])\n",
    "        df['series'] = df['path'].apply(lambda x: x.split('_')[1])\n",
    "        df['frame'] = df['path'].apply(lambda x: int(x.split('_')[2][:-4]))\n",
    "        dfs.append(df)\n",
    "\n",
    "        for models_list, (exp_folder, _, _) in zip(models, EXP_FOLDERS):\n",
    "            exp_name = \"_\".join(exp_folder.split('/')[-2:-1])\n",
    "            if \"2023\" not in exp_name:  # locally\n",
    "                exp_name = \"_\".join(exp_folder.split('/')[-3:-1])\n",
    "            \n",
    "            config = Config(json.load(open(exp_folder + \"config.json\", \"r\")))\n",
    "            \n",
    "            transfos = get_transfos(\n",
    "                augment=False,\n",
    "                resize=(384, 384),\n",
    "                crop=True\n",
    "            )\n",
    "\n",
    "            preds = []\n",
    "            is_3d = config.head_3d if hasattr(config, \"head_3d\") else False\n",
    "            if is_3d:\n",
    "                for model in models_list:\n",
    "                    model.set_mode(\"img\")\n",
    "\n",
    "                    dataset = AbdominalInfDataset(\n",
    "                        df,\n",
    "                        transforms=transfos,\n",
    "                        frames_chanel=config.frames_chanel,\n",
    "                        n_frames=config.n_frames,\n",
    "                        stride=config.stride,\n",
    "                        imgs=imgs,\n",
    "                        paths=paths,\n",
    "                    )\n",
    "\n",
    "                    features = predict(\n",
    "                        model,\n",
    "                        dataset,\n",
    "                        {\"activation\": \"none\"},\n",
    "                        batch_size=BATCH_SIZE,\n",
    "                        use_fp16=USE_FP16,\n",
    "                        num_workers=0,\n",
    "                    )\n",
    "\n",
    "                    model.set_mode(\"ft\")\n",
    "\n",
    "                    dataset = AbdominalInfDataset(\n",
    "                        df,\n",
    "                        transforms=transfos,\n",
    "                        frames_chanel=config.frames_chanel,\n",
    "                        n_frames=config.n_frames,\n",
    "                        stride=config.stride,\n",
    "                        features=features,\n",
    "                    )\n",
    "\n",
    "                    pred = predict(\n",
    "                        model,\n",
    "                        dataset,\n",
    "                        config.loss_config,\n",
    "                        batch_size=512,\n",
    "                        use_fp16=USE_FP16,\n",
    "                        num_workers=NUM_WORKERS,\n",
    "                    )\n",
    "                    preds.append(pred)\n",
    "\n",
    "            else:\n",
    "                dataset = AbdominalInfDataset(\n",
    "                    df,\n",
    "                    transforms=transfos,\n",
    "                    frames_chanel=config.frames_chanel if hasattr(config, \"frames_chanel\") else 0,\n",
    "                    n_frames=config.n_frames if hasattr(config, \"n_frames\") else 1,\n",
    "                    stride=config.stride if hasattr(config, \"stride\") else 1,\n",
    "                    imgs=imgs,\n",
    "                    paths=paths,\n",
    "                )\n",
    "\n",
    "                for model in models_list:\n",
    "                    pred = predict(\n",
    "                        model,\n",
    "                        dataset,\n",
    "                        config.loss_config,\n",
    "                        batch_size=BATCH_SIZE,\n",
    "                        use_fp16=USE_FP16,\n",
    "                        num_workers=0,\n",
    "                    )\n",
    "                    preds.append(pred)\n",
    "\n",
    "            if RESTRICT:\n",
    "                pred_padded = np.zeros((n_imgs, pred.shape[-1]))\n",
    "                pred_padded[-len(pred):] = np.mean(preds, 0)\n",
    "            else:\n",
    "                pred_padded = np.mean(preds, 0)\n",
    "\n",
    "            np.save(SAVE_FOLDER + f\"{series}_{exp_name}.npy\", pred_padded)\n",
    "            \n",
    "            if FOLD == 0 and not RESTRICT:\n",
    "                ref = np.load(exp_folder + \"pred_val_0.npy\")\n",
    "                ref = ref[:len(pred)]\n",
    "                \n",
    "                plt.plot(ref - np.mean(preds, 0))\n",
    "                plt.title(np.abs(ref - np.mean(preds, 0)).max())\n",
    "                plt.show()\n",
    "\n",
    "#             break\n",
    "#     break\n",
    "\n",
    "df = pd.concat(dfs, ignore_index=True)\n",
    "df = df.groupby(['patient', 'series']).max().reset_index()"
   ]
  },
  {
   "cell_type": "markdown",
   "metadata": {},
   "source": [
    "## Crop models"
   ]
  },
  {
   "cell_type": "code",
   "execution_count": 108,
   "metadata": {},
   "outputs": [],
   "source": [
    "df_series = pd.DataFrame({\"img_path\": sorted(glob.glob(SAVE_FOLDER + f'*.npy'))})\n",
    "df_series['patient_id'] = df_series['img_path'].apply(lambda x: x.split('/')[-1].split('_')[0])\n",
    "df_series['series'] = df_series['img_path'].apply(lambda x: x.split('_')[-2])\n",
    "df_series['organ'] = df_series['img_path'].apply(lambda x: x.split('_')[-1][:-4])\n",
    "\n",
    "df_series['target'] = 0\n",
    "df_series = df_series[df_series['organ'].isin(['kidney', 'liver', 'spleen'])].reset_index(drop=True)\n",
    "\n",
    "if FOLD == 0:\n",
    "    df_series = df_series[df_series['patient_id'].astype(int) == 10082].reset_index(drop=True)"
   ]
  },
  {
   "cell_type": "code",
   "execution_count": 109,
   "metadata": {},
   "outputs": [
    {
     "name": "stdout",
     "output_type": "stream",
     "text": [
      "\n",
      " -> Loading encoder weights from ../logs/2023-10-02/41/coatnet_1_rw_224_3.pt\n",
      "\n"
     ]
    }
   ],
   "source": [
    "crop_fts = []\n",
    "for exp_folder, mode, folds in CROP_EXP_FOLDERS:\n",
    "    \n",
    "    config = Config(json.load(open(exp_folder + \"config.json\", \"r\")))\n",
    "\n",
    "    model = define_model(\n",
    "        config.name,\n",
    "        drop_rate=config.drop_rate,\n",
    "        drop_path_rate=config.drop_path_rate,\n",
    "        use_gem=config.use_gem,\n",
    "        head_3d=config.head_3d if hasattr(config, \"head_3d\") else \"\",\n",
    "        n_frames=config.n_frames if hasattr(config, \"n_frames\") else \"\",\n",
    "        replace_pad_conv=config.replace_pad_conv,\n",
    "        num_classes=config.num_classes,\n",
    "        num_classes_aux=config.num_classes_aux,\n",
    "        n_channels=config.n_channels,\n",
    "        reduce_stride=config.reduce_stride,\n",
    "        increase_stride=config.increase_stride if hasattr(config, \"increase_stride\") else False,\n",
    "        pretrained=False\n",
    "    )\n",
    "    model = model.cuda().eval()\n",
    "    \n",
    "    preds = []\n",
    "    for fold in folds:\n",
    "        weights = exp_folder + f\"{config.name}_{fold}.pt\"\n",
    "        model = load_model_weights(model, weights, verbose=config.local_rank == 0)\n",
    "        \n",
    "        transfos = get_transfos(\n",
    "            augment=False, resize=config.resize, crop=config.crop\n",
    "        )\n",
    "\n",
    "        dataset = AbdominalCropDataset(\n",
    "            None,\n",
    "            None,\n",
    "            transforms=transfos,\n",
    "            frames_chanel=config.frames_chanel,\n",
    "            n_frames=config.n_frames,\n",
    "            stride=config.stride,\n",
    "            use_mask=config.use_mask,\n",
    "            train=False,\n",
    "            df_series=df_series\n",
    "        )\n",
    "\n",
    "        pred = predict(\n",
    "            model,\n",
    "            dataset,\n",
    "            config.loss_config,\n",
    "            batch_size=BATCH_SIZE,\n",
    "            use_fp16=USE_FP16,\n",
    "            num_workers=NUM_WORKERS,\n",
    "        )\n",
    "        preds.append(pred)\n",
    "\n",
    "    preds = np.mean(preds, 0)\n",
    "    crop_fts.append(preds)\n",
    "    \n",
    "crop_fts = np.array(crop_fts) # n_models x 3*n_studies x n_classes\n",
    "np.save(SAVE_FOLDER + \"crop_fts.npy\", crop_fts)"
   ]
  },
  {
   "cell_type": "code",
   "execution_count": 110,
   "metadata": {},
   "outputs": [],
   "source": [
    "crop_fts = np.load(SAVE_FOLDER + \"crop_fts.npy\")"
   ]
  },
  {
   "cell_type": "code",
   "execution_count": 111,
   "metadata": {},
   "outputs": [],
   "source": [
    "crop_fts = np.load(SAVE_FOLDER + \"crop_fts.npy\")\n",
    "\n",
    "crop_fts = crop_fts.reshape(crop_fts.shape[0], crop_fts.shape[1] // 3, 3, crop_fts.shape[2])  # n_models x n_studies x n_organs x 3\n",
    "crop_fts = crop_fts.transpose(1, 2, 3, 0)  # n_studies x n_organs x 3 x n_models\n",
    "crop_fts = crop_fts.reshape(crop_fts.shape[0], crop_fts.shape[1], crop_fts.shape[2] * crop_fts.shape[3])  # n_studies x n_organs x 3 * n_models"
   ]
  },
  {
   "cell_type": "code",
   "execution_count": 112,
   "metadata": {},
   "outputs": [
    {
     "data": {
      "text/plain": [
       "(5, 3, 3)"
      ]
     },
     "execution_count": 112,
     "metadata": {},
     "output_type": "execute_result"
    }
   ],
   "source": [
    "crop_fts.shape"
   ]
  },
  {
   "cell_type": "code",
   "execution_count": 113,
   "metadata": {},
   "outputs": [
    {
     "data": {
      "text/plain": [
       "array([[[0.9336  , 0.05853 , 0.007812],\n",
       "        [0.989   , 0.00847 , 0.002708],\n",
       "        [0.932   , 0.04938 , 0.01868 ]],\n",
       "\n",
       "       [[0.931   , 0.061   , 0.00798 ],\n",
       "        [0.989   , 0.00831 , 0.002832],\n",
       "        [0.9863  , 0.00979 , 0.003721]],\n",
       "\n",
       "       [[0.993   , 0.004753, 0.002045],\n",
       "        [0.9927  , 0.00488 , 0.002447],\n",
       "        [0.989   , 0.007683, 0.003525]],\n",
       "\n",
       "       [[0.9927  , 0.00522 , 0.002289],\n",
       "        [0.9917  , 0.0057  , 0.00284 ],\n",
       "        [0.991   , 0.00619 , 0.002363]],\n",
       "\n",
       "       [[0.991   , 0.00654 , 0.00209 ],\n",
       "        [0.987   , 0.010765, 0.002285],\n",
       "        [0.9897  , 0.007412, 0.002737]]], dtype=float16)"
      ]
     },
     "execution_count": 113,
     "metadata": {},
     "output_type": "execute_result"
    }
   ],
   "source": [
    "crop_fts"
   ]
  },
  {
   "cell_type": "markdown",
   "metadata": {},
   "source": [
    "## Level 2"
   ]
  },
  {
   "cell_type": "code",
   "execution_count": 114,
   "metadata": {},
   "outputs": [
    {
     "name": "stdout",
     "output_type": "stream",
     "text": [
      "\n",
      " -> Loading encoder weights from ../logs/2023-10-03/22/rnn_att_3.pt\n",
      "\n"
     ]
    }
   ],
   "source": [
    "all_preds = []\n",
    "\n",
    "for exp_folder in EXP_FOLDERS_2:\n",
    "    config_2 = Config(json.load(open(exp_folder + \"config.json\", \"r\")))\n",
    "\n",
    "    dataset = PatientFeatureInfDataset(\n",
    "        df['series'],\n",
    "        config_2.exp_folders,\n",
    "        crop_fts=crop_fts,\n",
    "        max_len=config_2.max_len,\n",
    "        restrict=config_2.restrict,\n",
    "        resize=config_2.resize,\n",
    "        save_folder=SAVE_FOLDER\n",
    "    )\n",
    "    \n",
    "    model = define_model_2(\n",
    "        config_2.name,\n",
    "        ft_dim=config_2.ft_dim,\n",
    "        layer_dim=config_2.layer_dim,\n",
    "        n_layers=config_2.n_layers,\n",
    "        dense_dim=config_2.dense_dim,\n",
    "        p=config_2.p,\n",
    "        use_msd=config_2.use_msd,\n",
    "        num_classes=config_2.num_classes,\n",
    "        num_classes_aux=config_2.num_classes_aux,\n",
    "        n_fts=config_2.n_fts,\n",
    "    )\n",
    "    model = model.eval().cuda()\n",
    "\n",
    "    for fold in FOLDS_2:\n",
    "        weights = exp_folder + f\"{config_2.name}_{fold}.pt\"\n",
    "        model = load_model_weights(model, weights, verbose=config.local_rank == 0)\n",
    "    \n",
    "        preds = predict_2(\n",
    "            model,\n",
    "            dataset,\n",
    "            config_2.loss_config,\n",
    "            batch_size=BATCH_SIZE_2,\n",
    "            use_fp16=USE_FP16,\n",
    "            num_workers=NUM_WORKERS,\n",
    "        )\n",
    "        all_preds.append(preds)"
   ]
  },
  {
   "cell_type": "code",
   "execution_count": 115,
   "metadata": {},
   "outputs": [
    {
     "data": {
      "text/html": [
       "<div>\n",
       "<style scoped>\n",
       "    .dataframe tbody tr th:only-of-type {\n",
       "        vertical-align: middle;\n",
       "    }\n",
       "\n",
       "    .dataframe tbody tr th {\n",
       "        vertical-align: top;\n",
       "    }\n",
       "\n",
       "    .dataframe thead th {\n",
       "        text-align: right;\n",
       "    }\n",
       "</style>\n",
       "<table border=\"1\" class=\"dataframe\">\n",
       "  <thead>\n",
       "    <tr style=\"text-align: right;\">\n",
       "      <th></th>\n",
       "      <th>patient_id</th>\n",
       "      <th>bowel_healthy</th>\n",
       "      <th>bowel_injury</th>\n",
       "      <th>extravasation_healthy</th>\n",
       "      <th>extravasation_injury</th>\n",
       "      <th>kidney_healthy</th>\n",
       "      <th>kidney_low</th>\n",
       "      <th>kidney_high</th>\n",
       "      <th>liver_healthy</th>\n",
       "      <th>liver_low</th>\n",
       "      <th>liver_high</th>\n",
       "      <th>spleen_healthy</th>\n",
       "      <th>spleen_low</th>\n",
       "      <th>spleen_high</th>\n",
       "    </tr>\n",
       "  </thead>\n",
       "  <tbody>\n",
       "    <tr>\n",
       "      <th>0</th>\n",
       "      <td>10004</td>\n",
       "      <td>0.990036</td>\n",
       "      <td>0.009964</td>\n",
       "      <td>0.787048</td>\n",
       "      <td>0.212952</td>\n",
       "      <td>0.988281</td>\n",
       "      <td>0.009254</td>\n",
       "      <td>0.002379</td>\n",
       "      <td>0.942383</td>\n",
       "      <td>0.053696</td>\n",
       "      <td>0.003961</td>\n",
       "      <td>0.841064</td>\n",
       "      <td>0.119308</td>\n",
       "      <td>0.039494</td>\n",
       "    </tr>\n",
       "    <tr>\n",
       "      <th>1</th>\n",
       "      <td>10005</td>\n",
       "      <td>0.992096</td>\n",
       "      <td>0.007904</td>\n",
       "      <td>0.891052</td>\n",
       "      <td>0.108948</td>\n",
       "      <td>0.996094</td>\n",
       "      <td>0.002905</td>\n",
       "      <td>0.000788</td>\n",
       "      <td>0.973633</td>\n",
       "      <td>0.025345</td>\n",
       "      <td>0.001016</td>\n",
       "      <td>0.977539</td>\n",
       "      <td>0.020462</td>\n",
       "      <td>0.002176</td>\n",
       "    </tr>\n",
       "    <tr>\n",
       "      <th>2</th>\n",
       "      <td>10007</td>\n",
       "      <td>0.993904</td>\n",
       "      <td>0.006096</td>\n",
       "      <td>0.881592</td>\n",
       "      <td>0.118408</td>\n",
       "      <td>0.993652</td>\n",
       "      <td>0.004696</td>\n",
       "      <td>0.001750</td>\n",
       "      <td>0.974609</td>\n",
       "      <td>0.024216</td>\n",
       "      <td>0.001303</td>\n",
       "      <td>0.976562</td>\n",
       "      <td>0.021118</td>\n",
       "      <td>0.002378</td>\n",
       "    </tr>\n",
       "    <tr>\n",
       "      <th>3</th>\n",
       "      <td>10082</td>\n",
       "      <td>0.992306</td>\n",
       "      <td>0.007694</td>\n",
       "      <td>0.864136</td>\n",
       "      <td>0.135864</td>\n",
       "      <td>0.988281</td>\n",
       "      <td>0.008766</td>\n",
       "      <td>0.003036</td>\n",
       "      <td>0.971191</td>\n",
       "      <td>0.027740</td>\n",
       "      <td>0.000948</td>\n",
       "      <td>0.976562</td>\n",
       "      <td>0.021194</td>\n",
       "      <td>0.002401</td>\n",
       "    </tr>\n",
       "  </tbody>\n",
       "</table>\n",
       "</div>"
      ],
      "text/plain": [
       "  patient_id  bowel_healthy  bowel_injury  extravasation_healthy  \\\n",
       "0      10004       0.990036      0.009964               0.787048   \n",
       "1      10005       0.992096      0.007904               0.891052   \n",
       "2      10007       0.993904      0.006096               0.881592   \n",
       "3      10082       0.992306      0.007694               0.864136   \n",
       "\n",
       "   extravasation_injury  kidney_healthy  kidney_low  kidney_high  \\\n",
       "0              0.212952        0.988281    0.009254     0.002379   \n",
       "1              0.108948        0.996094    0.002905     0.000788   \n",
       "2              0.118408        0.993652    0.004696     0.001750   \n",
       "3              0.135864        0.988281    0.008766     0.003036   \n",
       "\n",
       "   liver_healthy  liver_low  liver_high  spleen_healthy  spleen_low  \\\n",
       "0       0.942383   0.053696    0.003961        0.841064    0.119308   \n",
       "1       0.973633   0.025345    0.001016        0.977539    0.020462   \n",
       "2       0.974609   0.024216    0.001303        0.976562    0.021118   \n",
       "3       0.971191   0.027740    0.000948        0.976562    0.021194   \n",
       "\n",
       "   spleen_high  \n",
       "0     0.039494  \n",
       "1     0.002176  \n",
       "2     0.002378  \n",
       "3     0.002401  "
      ]
     },
     "execution_count": 115,
     "metadata": {},
     "output_type": "execute_result"
    }
   ],
   "source": [
    "preds = np.mean(all_preds, 0).astype(np.float64)\n",
    "\n",
    "for i in range(preds.shape[1]):\n",
    "    df[f'pred_{i}'] = preds[:, i]\n",
    "\n",
    "dfg = df.drop(['series', 'path', 'frame', 'patient_id'], axis=1).groupby('patient').mean().reset_index()\n",
    "sub = to_sub_format(dfg)\n",
    "\n",
    "sub"
   ]
  },
  {
   "cell_type": "markdown",
   "metadata": {},
   "source": [
    "### Checks"
   ]
  },
  {
   "cell_type": "code",
   "execution_count": 116,
   "metadata": {},
   "outputs": [
    {
     "data": {
      "text/html": [
       "<div>\n",
       "<style scoped>\n",
       "    .dataframe tbody tr th:only-of-type {\n",
       "        vertical-align: middle;\n",
       "    }\n",
       "\n",
       "    .dataframe tbody tr th {\n",
       "        vertical-align: top;\n",
       "    }\n",
       "\n",
       "    .dataframe thead th {\n",
       "        text-align: right;\n",
       "    }\n",
       "</style>\n",
       "<table border=\"1\" class=\"dataframe\">\n",
       "  <thead>\n",
       "    <tr style=\"text-align: right;\">\n",
       "      <th></th>\n",
       "      <th>patient_id</th>\n",
       "      <th>bowel_healthy</th>\n",
       "      <th>bowel_injury</th>\n",
       "      <th>extravasation_healthy</th>\n",
       "      <th>extravasation_injury</th>\n",
       "      <th>kidney_healthy</th>\n",
       "      <th>kidney_low</th>\n",
       "      <th>kidney_high</th>\n",
       "      <th>liver_healthy</th>\n",
       "      <th>liver_low</th>\n",
       "      <th>liver_high</th>\n",
       "      <th>spleen_healthy</th>\n",
       "      <th>spleen_low</th>\n",
       "      <th>spleen_high</th>\n",
       "      <th>fold</th>\n",
       "      <th>diff</th>\n",
       "    </tr>\n",
       "  </thead>\n",
       "  <tbody>\n",
       "    <tr>\n",
       "      <th>0</th>\n",
       "      <td>10004</td>\n",
       "      <td>0.989967</td>\n",
       "      <td>0.010033</td>\n",
       "      <td>0.787567</td>\n",
       "      <td>0.212433</td>\n",
       "      <td>0.989258</td>\n",
       "      <td>0.008587</td>\n",
       "      <td>0.002188</td>\n",
       "      <td>0.942871</td>\n",
       "      <td>0.053329</td>\n",
       "      <td>0.003949</td>\n",
       "      <td>0.846436</td>\n",
       "      <td>0.115829</td>\n",
       "      <td>0.037846</td>\n",
       "      <td>3</td>\n",
       "      <td>0.005371</td>\n",
       "    </tr>\n",
       "    <tr>\n",
       "      <th>1</th>\n",
       "      <td>10005</td>\n",
       "      <td>0.997379</td>\n",
       "      <td>0.002621</td>\n",
       "      <td>0.903137</td>\n",
       "      <td>0.096863</td>\n",
       "      <td>0.997070</td>\n",
       "      <td>0.002768</td>\n",
       "      <td>0.000298</td>\n",
       "      <td>0.976074</td>\n",
       "      <td>0.021423</td>\n",
       "      <td>0.002449</td>\n",
       "      <td>0.961914</td>\n",
       "      <td>0.029068</td>\n",
       "      <td>0.009041</td>\n",
       "      <td>2</td>\n",
       "      <td>0.015625</td>\n",
       "    </tr>\n",
       "    <tr>\n",
       "      <th>2</th>\n",
       "      <td>10007</td>\n",
       "      <td>0.996727</td>\n",
       "      <td>0.003273</td>\n",
       "      <td>0.892395</td>\n",
       "      <td>0.107605</td>\n",
       "      <td>0.995117</td>\n",
       "      <td>0.004143</td>\n",
       "      <td>0.000694</td>\n",
       "      <td>0.973633</td>\n",
       "      <td>0.021988</td>\n",
       "      <td>0.004162</td>\n",
       "      <td>0.962891</td>\n",
       "      <td>0.028656</td>\n",
       "      <td>0.008682</td>\n",
       "      <td>2</td>\n",
       "      <td>0.013672</td>\n",
       "    </tr>\n",
       "    <tr>\n",
       "      <th>3</th>\n",
       "      <td>10082</td>\n",
       "      <td>0.996702</td>\n",
       "      <td>0.003298</td>\n",
       "      <td>0.904663</td>\n",
       "      <td>0.095337</td>\n",
       "      <td>0.993164</td>\n",
       "      <td>0.005733</td>\n",
       "      <td>0.000989</td>\n",
       "      <td>0.979004</td>\n",
       "      <td>0.018906</td>\n",
       "      <td>0.002167</td>\n",
       "      <td>0.978027</td>\n",
       "      <td>0.016464</td>\n",
       "      <td>0.005634</td>\n",
       "      <td>0</td>\n",
       "      <td>0.040527</td>\n",
       "    </tr>\n",
       "  </tbody>\n",
       "</table>\n",
       "</div>"
      ],
      "text/plain": [
       "   patient_id  bowel_healthy  bowel_injury  extravasation_healthy  \\\n",
       "0       10004       0.989967      0.010033               0.787567   \n",
       "1       10005       0.997379      0.002621               0.903137   \n",
       "2       10007       0.996727      0.003273               0.892395   \n",
       "3       10082       0.996702      0.003298               0.904663   \n",
       "\n",
       "   extravasation_injury  kidney_healthy  kidney_low  kidney_high  \\\n",
       "0              0.212433        0.989258    0.008587     0.002188   \n",
       "1              0.096863        0.997070    0.002768     0.000298   \n",
       "2              0.107605        0.995117    0.004143     0.000694   \n",
       "3              0.095337        0.993164    0.005733     0.000989   \n",
       "\n",
       "   liver_healthy  liver_low  liver_high  spleen_healthy  spleen_low  \\\n",
       "0       0.942871   0.053329    0.003949        0.846436    0.115829   \n",
       "1       0.976074   0.021423    0.002449        0.961914    0.029068   \n",
       "2       0.973633   0.021988    0.004162        0.962891    0.028656   \n",
       "3       0.979004   0.018906    0.002167        0.978027    0.016464   \n",
       "\n",
       "   spleen_high  fold      diff  \n",
       "0     0.037846     3  0.005371  \n",
       "1     0.009041     2  0.015625  \n",
       "2     0.008682     2  0.013672  \n",
       "3     0.005634     0  0.040527  "
      ]
     },
     "execution_count": 116,
     "metadata": {},
     "output_type": "execute_result"
    }
   ],
   "source": [
    "df_oof = pd.read_csv(exp_folder + 'df_oof.csv')\n",
    "df_oof = df_oof[df_oof['patient_id'].isin(sub['patient_id'].values.astype(int))]\n",
    "\n",
    "df_oof = df_oof[[\"patient_id\", \"fold\"] + list(df_oof.columns[-11:])]\n",
    "df_oof.columns = [\"patient_id\", \"fold\", \"bowel_injury\", \"extravasation_injury\"] + list(sub.columns[-9:])\n",
    "df_oof[\"extravasation_healthy\"] = 1 - df_oof[\"extravasation_injury\"]\n",
    "df_oof[\"bowel_healthy\"] = 1 - df_oof[\"bowel_injury\"]\n",
    "\n",
    "df_oof = df_oof.sort_values('patient_id', ignore_index=True)\n",
    "\n",
    "df_oof['diff'] = (sub[sub.columns[1:]] - df_oof[sub.columns[1:]]).abs().max(1)\n",
    "\n",
    "df_oof = df_oof[list(sub.columns) + ['fold', 'diff']]\n",
    "# df_oof[df_oof['fold'] == FOLD]\n",
    "df_oof"
   ]
  },
  {
   "cell_type": "code",
   "execution_count": 87,
   "metadata": {},
   "outputs": [],
   "source": [
    "# sub.to_csv(SAVE_FOLDER + \"submission.csv\", index=False)\n",
    "# sub"
   ]
  },
  {
   "cell_type": "markdown",
   "metadata": {},
   "source": [
    "Done ! "
   ]
  }
 ],
 "metadata": {
  "kernelspec": {
   "display_name": "Python 3 (ipykernel)",
   "language": "python",
   "name": "python3"
  },
  "language_info": {
   "codemirror_mode": {
    "name": "ipython",
    "version": 3
   },
   "file_extension": ".py",
   "mimetype": "text/x-python",
   "name": "python",
   "nbconvert_exporter": "python",
   "pygments_lexer": "ipython3",
   "version": "3.10.12"
  },
  "vscode": {
   "interpreter": {
    "hash": "f7241b2af102f7e024509099765066b36197b195077f7bfac6e5bc041ba17c8c"
   }
  }
 },
 "nbformat": 4,
 "nbformat_minor": 4
}
