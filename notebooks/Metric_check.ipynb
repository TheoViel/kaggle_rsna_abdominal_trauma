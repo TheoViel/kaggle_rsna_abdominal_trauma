{
 "cells": [
  {
   "cell_type": "markdown",
   "id": "f684e1d0",
   "metadata": {
    "papermill": {
     "duration": 0.006121,
     "end_time": "2023-07-29T19:37:48.194155",
     "exception": false,
     "start_time": "2023-07-29T19:37:48.188034",
     "status": "completed"
    },
    "tags": []
   },
   "source": [
    "### Imports"
   ]
  },
  {
   "cell_type": "code",
   "execution_count": null,
   "id": "dd5e31f9",
   "metadata": {
    "_cell_guid": "b1076dfc-b9ad-4769-8c92-a6c4dae69d19",
    "_uuid": "8f2839f25d086af736a60e9eeb907d3b93b6e0e5",
    "papermill": {
     "duration": 1.228174,
     "end_time": "2023-07-29T19:37:49.429275",
     "exception": false,
     "start_time": "2023-07-29T19:37:48.201101",
     "status": "completed"
    },
    "tags": []
   },
   "outputs": [],
   "source": [
    "import numpy as np\n",
    "import pandas as pd\n",
    "import pandas.api.types\n",
    "import sklearn.metrics"
   ]
  },
  {
   "cell_type": "code",
   "execution_count": null,
   "id": "3b455acd",
   "metadata": {
    "papermill": {
     "duration": 0.018596,
     "end_time": "2023-07-29T19:37:49.532162",
     "exception": false,
     "start_time": "2023-07-29T19:37:49.513566",
     "status": "completed"
    },
    "tags": []
   },
   "outputs": [],
   "source": [
    "# List of Targets\n",
    "Injuries = ['bowel_healthy', 'bowel_injury', \n",
    "            'extravasation_healthy', 'extravasation_injury', \n",
    "            'kidney_healthy', 'kidney_low', 'kidney_high', \n",
    "            'liver_healthy', 'liver_low', 'liver_high', \n",
    "            'spleen_healthy', 'spleen_low', 'spleen_high', \n",
    "            'any_injury']"
   ]
  },
  {
   "cell_type": "code",
   "execution_count": null,
   "id": "dd6d7cd2",
   "metadata": {
    "papermill": {
     "duration": 0.030396,
     "end_time": "2023-07-29T19:37:49.686880",
     "exception": false,
     "start_time": "2023-07-29T19:37:49.656484",
     "status": "completed"
    },
    "tags": []
   },
   "outputs": [],
   "source": [
    "# I'm not sure if this is needed!\n",
    "# class ParticipantVisibleError(Exception):\n",
    "#     pass\n",
    "\n",
    "def normalize_probabilities_to_one(df: pd.DataFrame, group_columns: list) -> pd.DataFrame:\n",
    "    # Normalize the sum of each row's probabilities to 100%.\n",
    "    # 0.75, 0.75 => 0.5, 0.5\n",
    "    # 0.1, 0.1 => 0.5, 0.5\n",
    "    row_totals = df[group_columns].sum(axis=1)\n",
    "    if row_totals.min() == 0:\n",
    "        raise ParticipantVisibleError('All rows must contain at least one non-zero prediction')\n",
    "    for col in group_columns:\n",
    "        df[col] /= row_totals\n",
    "    return df\n",
    "\n",
    "\n",
    "def score(solution: pd.DataFrame, submission: pd.DataFrame, row_id_column_name: str) -> float:\n",
    "    '''\n",
    "    Pseudocode:\n",
    "    1. For every label group (liver, bowel, etc):\n",
    "        - Normalize the sum of each row's probabilities to 100%.\n",
    "        - Calculate the sample weighted log loss.\n",
    "    2. Derive a new any_injury label by taking the max of 1 - p(healthy) for each label group\n",
    "    3. Calculate the sample weighted log loss for the new label group\n",
    "    4. Return the average of all of the label group log losses as the final score.\n",
    "    '''\n",
    "    del solution[row_id_column_name]\n",
    "    del submission[row_id_column_name]\n",
    "\n",
    "    # Run basic QC checks on the inputs\n",
    "    if not pandas.api.types.is_numeric_dtype(submission.values):\n",
    "        raise ParticipantVisibleError('All submission values must be numeric')\n",
    "\n",
    "    if not np.isfinite(submission.values).all():\n",
    "        raise ParticipantVisibleError('All submission values must be finite')\n",
    "\n",
    "    if solution.min().min() < 0:\n",
    "        raise ParticipantVisibleError('All labels must be at least zero')\n",
    "    if submission.min().min() < 0:\n",
    "        raise ParticipantVisibleError('All predictions must be at least zero')\n",
    "\n",
    "    # Calculate the label group log losses\n",
    "    binary_targets = ['bowel', 'extravasation']\n",
    "    triple_level_targets = ['kidney', 'liver', 'spleen']\n",
    "    all_target_categories = binary_targets + triple_level_targets\n",
    "\n",
    "    label_group_losses = []\n",
    "    for category in all_target_categories:\n",
    "        if category in binary_targets:\n",
    "            col_group = [f'{category}_healthy', f'{category}_injury']\n",
    "        else:\n",
    "            col_group = [f'{category}_healthy', f'{category}_low', f'{category}_high']\n",
    "\n",
    "        solution = normalize_probabilities_to_one(solution, col_group)\n",
    "\n",
    "        for col in col_group:\n",
    "            if col not in submission.columns:\n",
    "                raise ParticipantVisibleError(f'Missing submission column {col}')\n",
    "        submission = normalize_probabilities_to_one(submission, col_group)\n",
    "        label_group_losses.append(\n",
    "            sklearn.metrics.log_loss(\n",
    "                y_true=solution[col_group].values,\n",
    "                y_pred=submission[col_group].values,\n",
    "                sample_weight=solution[f'{category}_weight'].values\n",
    "            )\n",
    "        )\n",
    "\n",
    "    # Derive a new any_injury label by taking the max of 1 - p(healthy) for each label group\n",
    "    healthy_cols = [x + '_healthy' for x in all_target_categories]\n",
    "    any_injury_labels = (1 - solution[healthy_cols]).max(axis=1)\n",
    "    any_injury_predictions = (1 - submission[healthy_cols]).max(axis=1)\n",
    "    any_injury_loss = sklearn.metrics.log_loss(\n",
    "        y_true=any_injury_labels.values,\n",
    "        y_pred=any_injury_predictions.values,\n",
    "        sample_weight=solution['any_injury_weight'].values,\n",
    "        labels=[0, 1],\n",
    "    )\n",
    "\n",
    "    label_group_losses.append(any_injury_loss)\n",
    "    return label_group_losses, np.mean(label_group_losses)"
   ]
  },
  {
   "cell_type": "code",
   "execution_count": null,
   "id": "0cb7d747",
   "metadata": {
    "papermill": {
     "duration": 0.021942,
     "end_time": "2023-07-29T19:37:49.731008",
     "exception": false,
     "start_time": "2023-07-29T19:37:49.709066",
     "status": "completed"
    },
    "tags": []
   },
   "outputs": [],
   "source": [
    "# Assign the appropriate weights to each category\n",
    "def create_training_solution(y_train):\n",
    "    sol_train = y_train.copy()\n",
    "    \n",
    "    # bowel healthy|injury sample weight = 1|2\n",
    "    sol_train['bowel_weight'] = np.where(sol_train['bowel_injury'] == 1, 2, 1)\n",
    "    \n",
    "    # extravasation healthy/injury sample weight = 1|6\n",
    "    sol_train['extravasation_weight'] = np.where(sol_train['extravasation_injury'] == 1, 6, 1)\n",
    "    \n",
    "    # kidney healthy|low|high sample weight = 1|2|4\n",
    "    sol_train['kidney_weight'] = np.where(sol_train['kidney_low'] == 1, 2, np.where(sol_train['kidney_high'] == 1, 4, 1))\n",
    "    \n",
    "    # liver healthy|low|high sample weight = 1|2|4\n",
    "    sol_train['liver_weight'] = np.where(sol_train['liver_low'] == 1, 2, np.where(sol_train['liver_high'] == 1, 4, 1))\n",
    "    \n",
    "    # spleen healthy|low|high sample weight = 1|2|4\n",
    "    sol_train['spleen_weight'] = np.where(sol_train['spleen_low'] == 1, 2, np.where(sol_train['spleen_high'] == 1, 4, 1))\n",
    "    \n",
    "    # any healthy|injury sample weight = 1|6\n",
    "    sol_train['any_injury_weight'] = np.where(sol_train['any_injury'] == 1, 6, 1)\n",
    "    return sol_train"
   ]
  },
  {
   "cell_type": "code",
   "execution_count": null,
   "id": "6c11f558",
   "metadata": {
    "papermill": {
     "duration": 0.056813,
     "end_time": "2023-07-29T19:37:49.506506",
     "exception": false,
     "start_time": "2023-07-29T19:37:49.449693",
     "status": "completed"
    },
    "tags": []
   },
   "outputs": [],
   "source": [
    "y_train = pd.read_csv('../input/train.csv')\n",
    "y_train = y_train.sort_values('patient_id')\n",
    "# y_train = y_train[y_train['patient_id'] == 10082]\n",
    "solution_train = create_training_solution(y_train)"
   ]
  },
  {
   "cell_type": "code",
   "execution_count": null,
   "id": "34964844",
   "metadata": {
    "papermill": {
     "duration": 0.095194,
     "end_time": "2023-07-29T19:37:49.835052",
     "exception": false,
     "start_time": "2023-07-29T19:37:49.739858",
     "status": "completed"
    },
    "tags": []
   },
   "outputs": [],
   "source": [
    "# predict a constant using the mean of the training data\n",
    "# y_pred = pd.read_csv('../output/submission_352.csv').sort_values('patient_id')\n",
    "y_pred = pd.read_csv('../output/sub4.csv').sort_values('patient_id')\n",
    "solution_train = solution_train[solution_train['patient_id'].isin(y_pred['patient_id'].values)]\n",
    "\n",
    "losses, avg = score(solution_train.copy(), y_pred.copy(), 'patient_id')\n",
    "print(f'Loss: {avg:.4f}')"
   ]
  },
  {
   "cell_type": "code",
   "execution_count": null,
   "id": "db95dc64",
   "metadata": {},
   "outputs": [],
   "source": [
    "losses"
   ]
  },
  {
   "cell_type": "code",
   "execution_count": null,
   "id": "3ca0c7fa",
   "metadata": {},
   "outputs": [],
   "source": [
    "y_train.head()"
   ]
  },
  {
   "cell_type": "code",
   "execution_count": null,
   "id": "ce46ba91",
   "metadata": {},
   "outputs": [],
   "source": [
    "y_pred.head()"
   ]
  },
  {
   "cell_type": "code",
   "execution_count": null,
   "id": "8462e559",
   "metadata": {
    "papermill": {
     "duration": 0.095194,
     "end_time": "2023-07-29T19:37:49.835052",
     "exception": false,
     "start_time": "2023-07-29T19:37:49.739858",
     "status": "completed"
    },
    "tags": []
   },
   "outputs": [],
   "source": [
    "solution_train = create_training_solution(y_train)\n",
    "\n",
    "# predict a constant using the mean of the training data\n",
    "y_pred = y_train.copy()\n",
    "y_pred[Injuries] = y_train[Injuries].mean().tolist()\n",
    "\n",
    "no_scale_score = score(solution_train, y_pred, 'patient_id')\n",
    "print(f'Training score without scaling: {no_scale_score}')"
   ]
  },
  {
   "cell_type": "code",
   "execution_count": null,
   "id": "2be7ef82",
   "metadata": {},
   "outputs": [],
   "source": [
    "preds = [\n",
    "    y_pred['bowel_injury'] / (y_pred['bowel_healthy'] +  y_pred['bowel_injury']),\n",
    "    y_pred['extravasation_injury'] / (y_pred['extravasation_healthy'] +  y_pred['extravasation_injury']),\n",
    "    y_pred['kidney_healthy'] / (y_pred['kidney_healthy'] +  y_pred['kidney_low']  +  y_pred['kidney_high']),\n",
    "    y_pred['kidney_low'] / (y_pred['kidney_healthy'] +  y_pred['kidney_low']  +  y_pred['kidney_high']),\n",
    "    y_pred['kidney_high'] / (y_pred['kidney_healthy'] +  y_pred['kidney_low']  +  y_pred['kidney_high']),\n",
    "    y_pred['liver_healthy'] / (y_pred['liver_healthy'] +  y_pred['liver_low']  +  y_pred['liver_high']),\n",
    "    y_pred['liver_low'] / (y_pred['liver_healthy'] +  y_pred['liver_low']  +  y_pred['liver_high']),\n",
    "    y_pred['liver_high'] / (y_pred['liver_healthy'] +  y_pred['liver_low']  +  y_pred['liver_high']),\n",
    "    y_pred['spleen_healthy'] / (y_pred['spleen_healthy'] +  y_pred['spleen_low']  +  y_pred['spleen_high']),\n",
    "    y_pred['spleen_low'] / (y_pred['spleen_healthy'] +  y_pred['spleen_low']  +  y_pred['spleen_high']),\n",
    "    y_pred['spleen_high'] / (y_pred['spleen_healthy'] +  y_pred['spleen_low']  +  y_pred['spleen_high']),\n",
    "]\n",
    "\n",
    "preds = [p.values for p in preds]\n",
    "\n",
    "preds = np.array(preds).T\n",
    "\n",
    "losses, avg_loss = rsna_loss(preds, df_patient)\n",
    "\n",
    "for k, v in losses.items():\n",
    "    print(f\"- {k.split('_')[0][:8]} loss\\t: {v:.3f}\")"
   ]
  },
  {
   "cell_type": "code",
   "execution_count": null,
   "id": "70abdf80",
   "metadata": {},
   "outputs": [],
   "source": [
    "preds.shape"
   ]
  },
  {
   "cell_type": "markdown",
   "id": "15a52a7c",
   "metadata": {},
   "source": [
    "### Mine"
   ]
  },
  {
   "cell_type": "code",
   "execution_count": null,
   "id": "3a948396",
   "metadata": {},
   "outputs": [],
   "source": [
    "cd ../src"
   ]
  },
  {
   "cell_type": "code",
   "execution_count": null,
   "id": "c95e97b6",
   "metadata": {},
   "outputs": [],
   "source": [
    "import os\n",
    "import sys\n",
    "import glob\n",
    "import torch\n",
    "import warnings\n",
    "import numpy as np\n",
    "import pandas as pd\n",
    "import seaborn as sns\n",
    "import matplotlib.pyplot as plt\n",
    "\n",
    "from tqdm import tqdm\n",
    "from sklearn.metrics import *\n",
    "\n",
    "pd.set_option('display.width', 500)\n",
    "pd.set_option('max_colwidth', 100)"
   ]
  },
  {
   "cell_type": "code",
   "execution_count": null,
   "id": "4e8ee5a5",
   "metadata": {},
   "outputs": [],
   "source": [
    "from training.main import k_fold\n",
    "\n",
    "from util.metrics import rsna_loss\n",
    "\n",
    "from params import *\n",
    "from data.dataset import *\n",
    "from data.preparation import *\n",
    "from data.transforms import get_transfos\n",
    "\n",
    "from model_zoo.models import define_model\n",
    "from training.losses import *"
   ]
  },
  {
   "cell_type": "code",
   "execution_count": null,
   "id": "49e58b5e",
   "metadata": {},
   "outputs": [],
   "source": [
    "df_patient, df_img = prepare_data(DATA_PATH)"
   ]
  },
  {
   "cell_type": "code",
   "execution_count": null,
   "id": "494ed60a",
   "metadata": {},
   "outputs": [],
   "source": [
    "losses, avg_loss = rsna_loss(preds, df_patient)\n",
    "\n",
    "for k, v in losses.items():\n",
    "    print(f\"- {k.split('_')[0][:8]} loss\\t: {v:.3f}\")"
   ]
  },
  {
   "cell_type": "code",
   "execution_count": null,
   "id": "42544d7e",
   "metadata": {},
   "outputs": [],
   "source": [
    "no_scale_score"
   ]
  },
  {
   "cell_type": "markdown",
   "id": "9589d0ae",
   "metadata": {},
   "source": [
    "### ??"
   ]
  },
  {
   "cell_type": "code",
   "execution_count": null,
   "id": "45b2428f",
   "metadata": {
    "papermill": {
     "duration": 0.098706,
     "end_time": "2023-07-29T19:37:49.957312",
     "exception": false,
     "start_time": "2023-07-29T19:37:49.858606",
     "status": "completed"
    },
    "tags": []
   },
   "outputs": [],
   "source": [
    "# Group by different sample weights\n",
    "scale_by_2 = ['bowel_injury','kidney_low','liver_low','spleen_low']\n",
    "scale_by_4 = ['kidney_high','liver_high','spleen_high']\n",
    "scale_by_6 = ['extravasation_injury','any_injury']\n",
    "\n",
    "# Scale factors based on described metric \n",
    "sf_2 = 2\n",
    "sf_4 = 4\n",
    "sf_6 = 6\n",
    "\n",
    "# The score function deletes the ID column so we remake it\n",
    "solution_train = create_training_solution(y_train)\n",
    "\n",
    "# Reset the prediction\n",
    "y_pred = y_train.copy()\n",
    "y_pred[Injuries] = y_train[Injuries].mean().tolist()\n",
    "\n",
    "# Scale each target \n",
    "y_pred[scale_by_2] *=sf_2\n",
    "y_pred[scale_by_4] *=sf_4\n",
    "y_pred[scale_by_6] *=sf_6\n",
    "\n",
    "weight_scale_score = score(solution_train, y_pred, 'patient_id')\n",
    "print(f'Training score with weight scaling: {weight_scale_score}')"
   ]
  },
  {
   "cell_type": "markdown",
   "id": "3fea239b",
   "metadata": {
    "papermill": {
     "duration": 0.007341,
     "end_time": "2023-07-29T19:37:49.972476",
     "exception": false,
     "start_time": "2023-07-29T19:37:49.965135",
     "status": "completed"
    },
    "tags": []
   },
   "source": [
    "We can do even better by increasing the scale factors. We will investigate one alternative option. The goal is to highlight that the most accurate prediction doesn't necessarily give the highest score!"
   ]
  },
  {
   "cell_type": "code",
   "execution_count": null,
   "id": "24575884",
   "metadata": {
    "papermill": {
     "duration": 0.106422,
     "end_time": "2023-07-29T19:37:50.086520",
     "exception": false,
     "start_time": "2023-07-29T19:37:49.980098",
     "status": "completed"
    },
    "tags": []
   },
   "outputs": [],
   "source": [
    "# Update scale factors to improve score\n",
    "# sf_2 = 2\n",
    "# sf_4 = 4\n",
    "sf_6 = 14\n",
    "\n",
    "# The score function deletes the ID column so we remake it\n",
    "solution_train = create_training_solution(y_train)\n",
    "\n",
    "# Reset the prediction, again\n",
    "y_pred = y_train.copy()\n",
    "y_pred[Injuries] = y_train[Injuries].mean().tolist()\n",
    "\n",
    "# Scale each target \n",
    "y_pred[scale_by_2] *=sf_2\n",
    "y_pred[scale_by_4] *=sf_4\n",
    "y_pred[scale_by_6] *=sf_6\n",
    "\n",
    "improved_scale_score = score(solution_train,y_pred,'patient_id')\n",
    "print(f'Training score with better scaling: {improved_scale_score}')\n"
   ]
  },
  {
   "cell_type": "code",
   "execution_count": null,
   "id": "d28aac09",
   "metadata": {},
   "outputs": [],
   "source": [
    "preds = [\n",
    "    y_pred['bowel_injury'] / (y_pred['bowel_healthy'] +  y_pred['bowel_injury']),\n",
    "    y_pred['extravasation_injury'] / (y_pred['extravasation_healthy'] +  y_pred['extravasation_injury']),\n",
    "    y_pred['kidney_healthy'] / (y_pred['kidney_healthy'] +  y_pred['kidney_low']  +  y_pred['kidney_high']),\n",
    "    y_pred['kidney_low'] / (y_pred['kidney_healthy'] +  y_pred['kidney_low']  +  y_pred['kidney_high']),\n",
    "    y_pred['kidney_high'] / (y_pred['kidney_healthy'] +  y_pred['kidney_low']  +  y_pred['kidney_high']),\n",
    "    y_pred['liver_healthy'] / (y_pred['liver_healthy'] +  y_pred['liver_low']  +  y_pred['liver_high']),\n",
    "    y_pred['liver_low'] / (y_pred['liver_healthy'] +  y_pred['liver_low']  +  y_pred['liver_high']),\n",
    "    y_pred['liver_high'] / (y_pred['liver_healthy'] +  y_pred['liver_low']  +  y_pred['liver_high']),\n",
    "    y_pred['spleen_healthy'] / (y_pred['spleen_healthy'] +  y_pred['spleen_low']  +  y_pred['spleen_high']),\n",
    "    y_pred['spleen_low'] / (y_pred['spleen_healthy'] +  y_pred['spleen_low']  +  y_pred['spleen_high']),\n",
    "    y_pred['spleen_high'] / (y_pred['spleen_healthy'] +  y_pred['spleen_low']  +  y_pred['spleen_high']),\n",
    "]\n",
    "\n",
    "preds = [p.values for p in preds]\n",
    "\n",
    "preds = np.array(preds).T\n",
    "\n",
    "losses, avg_loss = rsna_loss(preds, df_patient)\n",
    "\n",
    "for k, v in losses.items():\n",
    "    print(f\"- {k.split('_')[0][:8]} loss\\t: {v:.3f}\")"
   ]
  },
  {
   "cell_type": "code",
   "execution_count": null,
   "id": "fe9e36d2",
   "metadata": {},
   "outputs": [],
   "source": [
    "print(np.mean(improved_scale_score), avg_loss)"
   ]
  },
  {
   "cell_type": "markdown",
   "id": "4ac0cc78",
   "metadata": {
    "papermill": {
     "duration": 0.008033,
     "end_time": "2023-07-29T19:37:50.102470",
     "exception": false,
     "start_time": "2023-07-29T19:37:50.094437",
     "status": "completed"
    },
    "tags": []
   },
   "source": [
    "We will stick with this choice of scale factors as it appears to be better. Note, this appears to be near the optimal choice of scale factors for the mean, it is not necessarily the optimal choice of constant solution even for the training data. The optimal choice may given equal scaling to each injury which should have the same weight!\n",
    "\n",
    "When producing proper predictions, a constant scale factor may not be the optimal choice!"
   ]
  },
  {
   "cell_type": "markdown",
   "id": "07f5e442",
   "metadata": {
    "papermill": {
     "duration": 0.007567,
     "end_time": "2023-07-29T19:37:50.119045",
     "exception": false,
     "start_time": "2023-07-29T19:37:50.111478",
     "status": "completed"
    },
    "tags": []
   },
   "source": [
    "# Submission"
   ]
  },
  {
   "cell_type": "code",
   "execution_count": null,
   "id": "149421a3",
   "metadata": {
    "papermill": {
     "duration": 0.040736,
     "end_time": "2023-07-29T19:37:50.167538",
     "exception": false,
     "start_time": "2023-07-29T19:37:50.126802",
     "status": "completed"
    },
    "tags": []
   },
   "outputs": [],
   "source": [
    "# Load submission template \n",
    "submission = pd.read_csv('/kaggle/input/rsna-2023-abdominal-trauma-detection/sample_submission.csv')\n",
    "\n",
    "# Set output to mean of training data\n",
    "submission[Injuries] = y_train[Injuries].mean().tolist()\n",
    "\n",
    "# Scale each category by desired scale factor\n",
    "submission[scale_by_2] *=sf_2\n",
    "submission[scale_by_4] *=sf_4\n",
    "submission[scale_by_6] *=sf_6\n",
    "\n",
    "# Save Submission!\n",
    "submission.to_csv('submission.csv', index=False)"
   ]
  }
 ],
 "metadata": {
  "kernelspec": {
   "display_name": "Python 3 (ipykernel)",
   "language": "python",
   "name": "python3"
  },
  "language_info": {
   "codemirror_mode": {
    "name": "ipython",
    "version": 3
   },
   "file_extension": ".py",
   "mimetype": "text/x-python",
   "name": "python",
   "nbconvert_exporter": "python",
   "pygments_lexer": "ipython3",
   "version": "3.10.12"
  },
  "papermill": {
   "default_parameters": {},
   "duration": 17.122138,
   "end_time": "2023-07-29T19:37:51.098079",
   "environment_variables": {},
   "exception": null,
   "input_path": "__notebook__.ipynb",
   "output_path": "__notebook__.ipynb",
   "parameters": {},
   "start_time": "2023-07-29T19:37:33.975941",
   "version": "2.4.0"
  }
 },
 "nbformat": 4,
 "nbformat_minor": 5
}
