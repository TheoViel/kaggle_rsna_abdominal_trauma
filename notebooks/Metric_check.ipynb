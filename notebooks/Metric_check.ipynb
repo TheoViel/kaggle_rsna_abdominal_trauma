{
 "cells": [
  {
   "cell_type": "markdown",
   "id": "0fd47323",
   "metadata": {
    "papermill": {
     "duration": 0.007054,
     "end_time": "2023-07-29T19:37:48.181436",
     "exception": false,
     "start_time": "2023-07-29T19:37:48.174382",
     "status": "completed"
    },
    "tags": []
   },
   "source": [
    "# Weighted Mean Baseline\n",
    "\n",
    "**Goal:** Create a simple baseline using a constant prediction for all test sample. This will come from the mean value of each target variable scaled by proposed sample weights: \n",
    "\n",
    "- 1 for all healthy labels.\n",
    "- 2 for low grade solid organ injuries (liver, spleen, kidney).\n",
    "- 4 for high grade solid organ injuries.\n",
    "- 2 for bowel injuries.\n",
    "- 6 for extravasation.\n",
    "- 6 for the auto-generated any_injury label.\n",
    "\n",
    "In addition, we provide a method to evaluate the score for the training data and investigate alternative scale factors. This will be used to highlight the challenges of unbalanced data and weighted scoring metrics. "
   ]
  },
  {
   "cell_type": "markdown",
   "id": "3fe7969f",
   "metadata": {
    "papermill": {
     "duration": 0.006121,
     "end_time": "2023-07-29T19:37:48.194155",
     "exception": false,
     "start_time": "2023-07-29T19:37:48.188034",
     "status": "completed"
    },
    "tags": []
   },
   "source": [
    "# Imports"
   ]
  },
  {
   "cell_type": "code",
   "execution_count": null,
   "id": "ea3621a2",
   "metadata": {
    "_cell_guid": "b1076dfc-b9ad-4769-8c92-a6c4dae69d19",
    "_uuid": "8f2839f25d086af736a60e9eeb907d3b93b6e0e5",
    "papermill": {
     "duration": 1.228174,
     "end_time": "2023-07-29T19:37:49.429275",
     "exception": false,
     "start_time": "2023-07-29T19:37:48.201101",
     "status": "completed"
    },
    "tags": []
   },
   "outputs": [],
   "source": [
    "import numpy as np\n",
    "import pandas as pd\n",
    "import pandas.api.types\n",
    "import sklearn.metrics"
   ]
  },
  {
   "cell_type": "markdown",
   "id": "98c21cd1",
   "metadata": {
    "papermill": {
     "duration": 0.00669,
     "end_time": "2023-07-29T19:37:49.443051",
     "exception": false,
     "start_time": "2023-07-29T19:37:49.436361",
     "status": "completed"
    },
    "tags": []
   },
   "source": [
    "# Load Data"
   ]
  },
  {
   "cell_type": "code",
   "execution_count": null,
   "id": "cd77de3e",
   "metadata": {
    "papermill": {
     "duration": 0.056813,
     "end_time": "2023-07-29T19:37:49.506506",
     "exception": false,
     "start_time": "2023-07-29T19:37:49.449693",
     "status": "completed"
    },
    "tags": []
   },
   "outputs": [],
   "source": [
    "# Only requires the training target data. \n",
    "y_train = pd.read_csv('../input/train.csv')\n",
    "\n",
    "y_train.head()"
   ]
  },
  {
   "cell_type": "code",
   "execution_count": null,
   "id": "f91f15df",
   "metadata": {
    "papermill": {
     "duration": 0.018596,
     "end_time": "2023-07-29T19:37:49.532162",
     "exception": false,
     "start_time": "2023-07-29T19:37:49.513566",
     "status": "completed"
    },
    "tags": []
   },
   "outputs": [],
   "source": [
    "# List of Targets\n",
    "Injuries = ['bowel_healthy', 'bowel_injury', \n",
    "            'extravasation_healthy', 'extravasation_injury', \n",
    "            'kidney_healthy', 'kidney_low', 'kidney_high', \n",
    "            'liver_healthy', 'liver_low', 'liver_high', \n",
    "            'spleen_healthy', 'spleen_low', 'spleen_high', \n",
    "            'any_injury']"
   ]
  },
  {
   "cell_type": "markdown",
   "id": "0eeb8008",
   "metadata": {
    "papermill": {
     "duration": 0.006633,
     "end_time": "2023-07-29T19:37:49.545941",
     "exception": false,
     "start_time": "2023-07-29T19:37:49.539308",
     "status": "completed"
    },
    "tags": []
   },
   "source": [
    "# Target EDA"
   ]
  },
  {
   "cell_type": "code",
   "execution_count": null,
   "id": "51638ec6",
   "metadata": {
    "papermill": {
     "duration": 0.081224,
     "end_time": "2023-07-29T19:37:49.634228",
     "exception": false,
     "start_time": "2023-07-29T19:37:49.553004",
     "status": "completed"
    },
    "tags": []
   },
   "outputs": [],
   "source": [
    "y_train[Injuries].describe()"
   ]
  },
  {
   "cell_type": "markdown",
   "id": "f7442ee9",
   "metadata": {
    "papermill": {
     "duration": 0.007182,
     "end_time": "2023-07-29T19:37:49.648993",
     "exception": false,
     "start_time": "2023-07-29T19:37:49.641811",
     "status": "completed"
    },
    "tags": []
   },
   "source": [
    "# [Score](https://www.kaggle.com/code/metric/rsna-trauma-metric/notebook)"
   ]
  },
  {
   "cell_type": "code",
   "execution_count": null,
   "id": "c5c5613a",
   "metadata": {
    "papermill": {
     "duration": 0.030396,
     "end_time": "2023-07-29T19:37:49.686880",
     "exception": false,
     "start_time": "2023-07-29T19:37:49.656484",
     "status": "completed"
    },
    "tags": []
   },
   "outputs": [],
   "source": [
    "# I'm not sure if this is needed!\n",
    "# class ParticipantVisibleError(Exception):\n",
    "#     pass\n",
    "\n",
    "def normalize_probabilities_to_one(df: pd.DataFrame, group_columns: list) -> pd.DataFrame:\n",
    "    # Normalize the sum of each row's probabilities to 100%.\n",
    "    # 0.75, 0.75 => 0.5, 0.5\n",
    "    # 0.1, 0.1 => 0.5, 0.5\n",
    "    row_totals = df[group_columns].sum(axis=1)\n",
    "    if row_totals.min() == 0:\n",
    "        raise ParticipantVisibleError('All rows must contain at least one non-zero prediction')\n",
    "    for col in group_columns:\n",
    "        df[col] /= row_totals\n",
    "    return df\n",
    "\n",
    "\n",
    "def score(solution: pd.DataFrame, submission: pd.DataFrame, row_id_column_name: str) -> float:\n",
    "    '''\n",
    "    Pseudocode:\n",
    "    1. For every label group (liver, bowel, etc):\n",
    "        - Normalize the sum of each row's probabilities to 100%.\n",
    "        - Calculate the sample weighted log loss.\n",
    "    2. Derive a new any_injury label by taking the max of 1 - p(healthy) for each label group\n",
    "    3. Calculate the sample weighted log loss for the new label group\n",
    "    4. Return the average of all of the label group log losses as the final score.\n",
    "    '''\n",
    "    del solution[row_id_column_name]\n",
    "    del submission[row_id_column_name]\n",
    "\n",
    "    # Run basic QC checks on the inputs\n",
    "    if not pandas.api.types.is_numeric_dtype(submission.values):\n",
    "        raise ParticipantVisibleError('All submission values must be numeric')\n",
    "\n",
    "    if not np.isfinite(submission.values).all():\n",
    "        raise ParticipantVisibleError('All submission values must be finite')\n",
    "\n",
    "    if solution.min().min() < 0:\n",
    "        raise ParticipantVisibleError('All labels must be at least zero')\n",
    "    if submission.min().min() < 0:\n",
    "        raise ParticipantVisibleError('All predictions must be at least zero')\n",
    "\n",
    "    # Calculate the label group log losses\n",
    "    binary_targets = ['bowel', 'extravasation']\n",
    "    triple_level_targets = ['kidney', 'liver', 'spleen']\n",
    "    all_target_categories = binary_targets + triple_level_targets\n",
    "\n",
    "    label_group_losses = []\n",
    "    for category in all_target_categories:\n",
    "        if category in binary_targets:\n",
    "            col_group = [f'{category}_healthy', f'{category}_injury']\n",
    "        else:\n",
    "            col_group = [f'{category}_healthy', f'{category}_low', f'{category}_high']\n",
    "\n",
    "        solution = normalize_probabilities_to_one(solution, col_group)\n",
    "\n",
    "        for col in col_group:\n",
    "            if col not in submission.columns:\n",
    "                raise ParticipantVisibleError(f'Missing submission column {col}')\n",
    "        submission = normalize_probabilities_to_one(submission, col_group)\n",
    "        label_group_losses.append(\n",
    "            sklearn.metrics.log_loss(\n",
    "                y_true=solution[col_group].values,\n",
    "                y_pred=submission[col_group].values,\n",
    "                sample_weight=solution[f'{category}_weight'].values\n",
    "            )\n",
    "        )\n",
    "\n",
    "    # Derive a new any_injury label by taking the max of 1 - p(healthy) for each label group\n",
    "    healthy_cols = [x + '_healthy' for x in all_target_categories]\n",
    "    any_injury_labels = (1 - solution[healthy_cols]).max(axis=1)\n",
    "    any_injury_predictions = (1 - submission[healthy_cols]).max(axis=1)\n",
    "    any_injury_loss = sklearn.metrics.log_loss(\n",
    "        y_true=any_injury_labels.values,\n",
    "        y_pred=any_injury_predictions.values,\n",
    "        sample_weight=solution['any_injury_weight'].values\n",
    "    )\n",
    "\n",
    "    label_group_losses.append(any_injury_loss)\n",
    "    return label_group_losses  # np.mean(label_group_losses)"
   ]
  },
  {
   "cell_type": "markdown",
   "id": "53c0ba09",
   "metadata": {
    "papermill": {
     "duration": 0.007181,
     "end_time": "2023-07-29T19:37:49.701583",
     "exception": false,
     "start_time": "2023-07-29T19:37:49.694402",
     "status": "completed"
    },
    "tags": []
   },
   "source": [
    "In order to evaluate the score, the appropriate weights need to be assigned. The score function defined above expects sample weights for each category of injury (bowel, extravasation, kidney, liver, spleen, any). The sample weight is assigned based on the true target for a given category. For example, if a sample has a low grade kidney injury, then \n",
    "\n",
    "    [kidney_healthy, kidney_low, kidney_high] = [0,1,0]\n",
    "\n",
    "and we would set kidney_weight = 2 for for that sample."
   ]
  },
  {
   "cell_type": "code",
   "execution_count": null,
   "id": "18b4dd7c",
   "metadata": {
    "papermill": {
     "duration": 0.021942,
     "end_time": "2023-07-29T19:37:49.731008",
     "exception": false,
     "start_time": "2023-07-29T19:37:49.709066",
     "status": "completed"
    },
    "tags": []
   },
   "outputs": [],
   "source": [
    "# Assign the appropriate weights to each category\n",
    "def create_training_solution(y_train):\n",
    "    sol_train = y_train.copy()\n",
    "    \n",
    "    # bowel healthy|injury sample weight = 1|2\n",
    "    sol_train['bowel_weight'] = np.where(sol_train['bowel_injury'] == 1, 2, 1)\n",
    "    \n",
    "    # extravasation healthy/injury sample weight = 1|6\n",
    "    sol_train['extravasation_weight'] = np.where(sol_train['extravasation_injury'] == 1, 6, 1)\n",
    "    \n",
    "    # kidney healthy|low|high sample weight = 1|2|4\n",
    "    sol_train['kidney_weight'] = np.where(sol_train['kidney_low'] == 1, 2, np.where(sol_train['kidney_high'] == 1, 4, 1))\n",
    "    \n",
    "    # liver healthy|low|high sample weight = 1|2|4\n",
    "    sol_train['liver_weight'] = np.where(sol_train['liver_low'] == 1, 2, np.where(sol_train['liver_high'] == 1, 4, 1))\n",
    "    \n",
    "    # spleen healthy|low|high sample weight = 1|2|4\n",
    "    sol_train['spleen_weight'] = np.where(sol_train['spleen_low'] == 1, 2, np.where(sol_train['spleen_high'] == 1, 4, 1))\n",
    "    \n",
    "    # any healthy|injury sample weight = 1|6\n",
    "    sol_train['any_injury_weight'] = np.where(sol_train['any_injury'] == 1, 6, 1)\n",
    "    return sol_train"
   ]
  },
  {
   "cell_type": "code",
   "execution_count": null,
   "id": "6467d195",
   "metadata": {
    "papermill": {
     "duration": 0.095194,
     "end_time": "2023-07-29T19:37:49.835052",
     "exception": false,
     "start_time": "2023-07-29T19:37:49.739858",
     "status": "completed"
    },
    "tags": []
   },
   "outputs": [],
   "source": [
    "solution_train = create_training_solution(y_train)\n",
    "\n",
    "# predict a constant using the mean of the training data\n",
    "y_pred = y_train.copy()\n",
    "y_pred[Injuries] = y_train[Injuries].mean().tolist()\n",
    "\n",
    "no_scale_score = score(solution_train,y_pred,'patient_id')\n",
    "print(f'Training score without scaling: {no_scale_score}')"
   ]
  },
  {
   "cell_type": "code",
   "execution_count": null,
   "id": "9180bb59",
   "metadata": {},
   "outputs": [],
   "source": [
    "y_pred"
   ]
  },
  {
   "cell_type": "code",
   "execution_count": null,
   "id": "05e0e8a8",
   "metadata": {},
   "outputs": [],
   "source": [
    "preds = [\n",
    "    y_pred['bowel_injury'] / (y_pred['bowel_healthy'] +  y_pred['bowel_injury']),\n",
    "    y_pred['extravasation_injury'] / (y_pred['extravasation_healthy'] +  y_pred['extravasation_injury']),\n",
    "    y_pred['kidney_healthy'] / (y_pred['kidney_healthy'] +  y_pred['kidney_low']  +  y_pred['kidney_high']),\n",
    "    y_pred['kidney_low'] / (y_pred['kidney_healthy'] +  y_pred['kidney_low']  +  y_pred['kidney_high']),\n",
    "    y_pred['kidney_high'] / (y_pred['kidney_healthy'] +  y_pred['kidney_low']  +  y_pred['kidney_high']),\n",
    "    y_pred['liver_healthy'] / (y_pred['liver_healthy'] +  y_pred['liver_low']  +  y_pred['liver_high']),\n",
    "    y_pred['liver_low'] / (y_pred['liver_healthy'] +  y_pred['liver_low']  +  y_pred['liver_high']),\n",
    "    y_pred['liver_high'] / (y_pred['liver_healthy'] +  y_pred['liver_low']  +  y_pred['liver_high']),\n",
    "    y_pred['spleen_healthy'] / (y_pred['spleen_healthy'] +  y_pred['spleen_low']  +  y_pred['spleen_high']),\n",
    "    y_pred['spleen_low'] / (y_pred['spleen_healthy'] +  y_pred['spleen_low']  +  y_pred['spleen_high']),\n",
    "    y_pred['spleen_high'] / (y_pred['spleen_healthy'] +  y_pred['spleen_low']  +  y_pred['spleen_high']),\n",
    "]\n",
    "\n",
    "preds = [p.values for p in preds]\n",
    "\n",
    "preds = np.array(preds).T\n",
    "\n",
    "losses, avg_loss = rsna_loss(preds, df_patient)\n",
    "\n",
    "for k, v in losses.items():\n",
    "    print(f\"- {k.split('_')[0][:8]} loss\\t: {v:.3f}\")"
   ]
  },
  {
   "cell_type": "code",
   "execution_count": null,
   "id": "985fc2c4",
   "metadata": {},
   "outputs": [],
   "source": [
    "preds.shape"
   ]
  },
  {
   "cell_type": "markdown",
   "id": "c22b9804",
   "metadata": {},
   "source": [
    "### Mine"
   ]
  },
  {
   "cell_type": "code",
   "execution_count": null,
   "id": "856f6ce3",
   "metadata": {},
   "outputs": [],
   "source": [
    "cd ../src"
   ]
  },
  {
   "cell_type": "code",
   "execution_count": null,
   "id": "cb7c31d3",
   "metadata": {},
   "outputs": [],
   "source": [
    "import os\n",
    "import sys\n",
    "import glob\n",
    "import torch\n",
    "import warnings\n",
    "import numpy as np\n",
    "import pandas as pd\n",
    "import seaborn as sns\n",
    "import matplotlib.pyplot as plt\n",
    "\n",
    "from tqdm import tqdm\n",
    "from sklearn.metrics import *\n",
    "\n",
    "pd.set_option('display.width', 500)\n",
    "pd.set_option('max_colwidth', 100)"
   ]
  },
  {
   "cell_type": "code",
   "execution_count": null,
   "id": "963ff77a",
   "metadata": {},
   "outputs": [],
   "source": [
    "from training.main import k_fold\n",
    "\n",
    "from util.metrics import rsna_loss\n",
    "\n",
    "from params import *\n",
    "from data.dataset import *\n",
    "from data.preparation import *\n",
    "from data.transforms import get_transfos\n",
    "\n",
    "from model_zoo.models import define_model\n",
    "from training.losses import *"
   ]
  },
  {
   "cell_type": "code",
   "execution_count": null,
   "id": "0b80122d",
   "metadata": {},
   "outputs": [],
   "source": [
    "df_patient, df_img = prepare_data(DATA_PATH)"
   ]
  },
  {
   "cell_type": "code",
   "execution_count": null,
   "id": "3a531f67",
   "metadata": {},
   "outputs": [],
   "source": [
    "losses, avg_loss = rsna_loss(preds, df_patient)\n",
    "\n",
    "for k, v in losses.items():\n",
    "    print(f\"- {k.split('_')[0][:8]} loss\\t: {v:.3f}\")"
   ]
  },
  {
   "cell_type": "code",
   "execution_count": null,
   "id": "f96b8836",
   "metadata": {},
   "outputs": [],
   "source": [
    "no_scale_score"
   ]
  },
  {
   "cell_type": "markdown",
   "id": "6e01710c",
   "metadata": {},
   "source": [
    "### ??"
   ]
  },
  {
   "cell_type": "code",
   "execution_count": null,
   "id": "50e4c181",
   "metadata": {
    "papermill": {
     "duration": 0.098706,
     "end_time": "2023-07-29T19:37:49.957312",
     "exception": false,
     "start_time": "2023-07-29T19:37:49.858606",
     "status": "completed"
    },
    "tags": []
   },
   "outputs": [],
   "source": [
    "# Group by different sample weights\n",
    "scale_by_2 = ['bowel_injury','kidney_low','liver_low','spleen_low']\n",
    "scale_by_4 = ['kidney_high','liver_high','spleen_high']\n",
    "scale_by_6 = ['extravasation_injury','any_injury']\n",
    "\n",
    "# Scale factors based on described metric \n",
    "sf_2 = 2\n",
    "sf_4 = 4\n",
    "sf_6 = 6\n",
    "\n",
    "# The score function deletes the ID column so we remake it\n",
    "solution_train = create_training_solution(y_train)\n",
    "\n",
    "# Reset the prediction\n",
    "y_pred = y_train.copy()\n",
    "y_pred[Injuries] = y_train[Injuries].mean().tolist()\n",
    "\n",
    "# Scale each target \n",
    "y_pred[scale_by_2] *=sf_2\n",
    "y_pred[scale_by_4] *=sf_4\n",
    "y_pred[scale_by_6] *=sf_6\n",
    "\n",
    "weight_scale_score = score(solution_train, y_pred, 'patient_id')\n",
    "print(f'Training score with weight scaling: {weight_scale_score}')"
   ]
  },
  {
   "cell_type": "markdown",
   "id": "35785b1f",
   "metadata": {
    "papermill": {
     "duration": 0.007341,
     "end_time": "2023-07-29T19:37:49.972476",
     "exception": false,
     "start_time": "2023-07-29T19:37:49.965135",
     "status": "completed"
    },
    "tags": []
   },
   "source": [
    "We can do even better by increasing the scale factors. We will investigate one alternative option. The goal is to highlight that the most accurate prediction doesn't necessarily give the highest score!"
   ]
  },
  {
   "cell_type": "code",
   "execution_count": null,
   "id": "d15cf2a6",
   "metadata": {
    "papermill": {
     "duration": 0.106422,
     "end_time": "2023-07-29T19:37:50.086520",
     "exception": false,
     "start_time": "2023-07-29T19:37:49.980098",
     "status": "completed"
    },
    "tags": []
   },
   "outputs": [],
   "source": [
    "# Update scale factors to improve score\n",
    "# sf_2 = 2\n",
    "# sf_4 = 4\n",
    "sf_6 = 14\n",
    "\n",
    "# The score function deletes the ID column so we remake it\n",
    "solution_train = create_training_solution(y_train)\n",
    "\n",
    "# Reset the prediction, again\n",
    "y_pred = y_train.copy()\n",
    "y_pred[Injuries] = y_train[Injuries].mean().tolist()\n",
    "\n",
    "# Scale each target \n",
    "y_pred[scale_by_2] *=sf_2\n",
    "y_pred[scale_by_4] *=sf_4\n",
    "y_pred[scale_by_6] *=sf_6\n",
    "\n",
    "improved_scale_score = score(solution_train,y_pred,'patient_id')\n",
    "print(f'Training score with better scaling: {improved_scale_score}')\n"
   ]
  },
  {
   "cell_type": "code",
   "execution_count": null,
   "id": "c98bacb1",
   "metadata": {},
   "outputs": [],
   "source": [
    "preds = [\n",
    "    y_pred['bowel_injury'] / (y_pred['bowel_healthy'] +  y_pred['bowel_injury']),\n",
    "    y_pred['extravasation_injury'] / (y_pred['extravasation_healthy'] +  y_pred['extravasation_injury']),\n",
    "    y_pred['kidney_healthy'] / (y_pred['kidney_healthy'] +  y_pred['kidney_low']  +  y_pred['kidney_high']),\n",
    "    y_pred['kidney_low'] / (y_pred['kidney_healthy'] +  y_pred['kidney_low']  +  y_pred['kidney_high']),\n",
    "    y_pred['kidney_high'] / (y_pred['kidney_healthy'] +  y_pred['kidney_low']  +  y_pred['kidney_high']),\n",
    "    y_pred['liver_healthy'] / (y_pred['liver_healthy'] +  y_pred['liver_low']  +  y_pred['liver_high']),\n",
    "    y_pred['liver_low'] / (y_pred['liver_healthy'] +  y_pred['liver_low']  +  y_pred['liver_high']),\n",
    "    y_pred['liver_high'] / (y_pred['liver_healthy'] +  y_pred['liver_low']  +  y_pred['liver_high']),\n",
    "    y_pred['spleen_healthy'] / (y_pred['spleen_healthy'] +  y_pred['spleen_low']  +  y_pred['spleen_high']),\n",
    "    y_pred['spleen_low'] / (y_pred['spleen_healthy'] +  y_pred['spleen_low']  +  y_pred['spleen_high']),\n",
    "    y_pred['spleen_high'] / (y_pred['spleen_healthy'] +  y_pred['spleen_low']  +  y_pred['spleen_high']),\n",
    "]\n",
    "\n",
    "preds = [p.values for p in preds]\n",
    "\n",
    "preds = np.array(preds).T\n",
    "\n",
    "losses, avg_loss = rsna_loss(preds, df_patient)\n",
    "\n",
    "for k, v in losses.items():\n",
    "    print(f\"- {k.split('_')[0][:8]} loss\\t: {v:.3f}\")"
   ]
  },
  {
   "cell_type": "code",
   "execution_count": null,
   "id": "c88ed101",
   "metadata": {},
   "outputs": [],
   "source": [
    "print(np.mean(improved_scale_score), avg_loss)"
   ]
  },
  {
   "cell_type": "markdown",
   "id": "606dab82",
   "metadata": {
    "papermill": {
     "duration": 0.008033,
     "end_time": "2023-07-29T19:37:50.102470",
     "exception": false,
     "start_time": "2023-07-29T19:37:50.094437",
     "status": "completed"
    },
    "tags": []
   },
   "source": [
    "We will stick with this choice of scale factors as it appears to be better. Note, this appears to be near the optimal choice of scale factors for the mean, it is not necessarily the optimal choice of constant solution even for the training data. The optimal choice may given equal scaling to each injury which should have the same weight!\n",
    "\n",
    "When producing proper predictions, a constant scale factor may not be the optimal choice!"
   ]
  },
  {
   "cell_type": "markdown",
   "id": "9b97e4db",
   "metadata": {
    "papermill": {
     "duration": 0.007567,
     "end_time": "2023-07-29T19:37:50.119045",
     "exception": false,
     "start_time": "2023-07-29T19:37:50.111478",
     "status": "completed"
    },
    "tags": []
   },
   "source": [
    "# Submission"
   ]
  },
  {
   "cell_type": "code",
   "execution_count": null,
   "id": "25444262",
   "metadata": {
    "papermill": {
     "duration": 0.040736,
     "end_time": "2023-07-29T19:37:50.167538",
     "exception": false,
     "start_time": "2023-07-29T19:37:50.126802",
     "status": "completed"
    },
    "tags": []
   },
   "outputs": [],
   "source": [
    "# Load submission template \n",
    "submission = pd.read_csv('/kaggle/input/rsna-2023-abdominal-trauma-detection/sample_submission.csv')\n",
    "\n",
    "# Set output to mean of training data\n",
    "submission[Injuries] = y_train[Injuries].mean().tolist()\n",
    "\n",
    "# Scale each category by desired scale factor\n",
    "submission[scale_by_2] *=sf_2\n",
    "submission[scale_by_4] *=sf_4\n",
    "submission[scale_by_6] *=sf_6\n",
    "\n",
    "# Save Submission!\n",
    "submission.to_csv('submission.csv', index=False)"
   ]
  }
 ],
 "metadata": {
  "kernelspec": {
   "display_name": "Python 3 (ipykernel)",
   "language": "python",
   "name": "python3"
  },
  "language_info": {
   "codemirror_mode": {
    "name": "ipython",
    "version": 3
   },
   "file_extension": ".py",
   "mimetype": "text/x-python",
   "name": "python",
   "nbconvert_exporter": "python",
   "pygments_lexer": "ipython3",
   "version": "3.10.6"
  },
  "papermill": {
   "default_parameters": {},
   "duration": 17.122138,
   "end_time": "2023-07-29T19:37:51.098079",
   "environment_variables": {},
   "exception": null,
   "input_path": "__notebook__.ipynb",
   "output_path": "__notebook__.ipynb",
   "parameters": {},
   "start_time": "2023-07-29T19:37:33.975941",
   "version": "2.4.0"
  }
 },
 "nbformat": 4,
 "nbformat_minor": 5
}
