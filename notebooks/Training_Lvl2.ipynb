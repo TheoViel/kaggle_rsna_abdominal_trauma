{
 "cells": [
  {
   "cell_type": "markdown",
   "metadata": {},
   "source": [
    "**About** : This notebook is used to train RNN models."
   ]
  },
  {
   "cell_type": "code",
   "execution_count": null,
   "metadata": {},
   "outputs": [],
   "source": [
    "%load_ext autoreload\n",
    "%autoreload 2"
   ]
  },
  {
   "cell_type": "code",
   "execution_count": null,
   "metadata": {},
   "outputs": [],
   "source": [
    "cd ../src/"
   ]
  },
  {
   "cell_type": "markdown",
   "metadata": {},
   "source": [
    "### Imports"
   ]
  },
  {
   "cell_type": "code",
   "execution_count": null,
   "metadata": {},
   "outputs": [],
   "source": [
    "import os\n",
    "import sys\n",
    "import glob\n",
    "import json\n",
    "import torch\n",
    "import operator\n",
    "import warnings\n",
    "import numpy as np\n",
    "import pandas as pd\n",
    "import seaborn as sns\n",
    "import matplotlib.pyplot as plt\n",
    "\n",
    "from tqdm import tqdm\n",
    "from sklearn.metrics import *\n",
    "\n",
    "warnings.simplefilter(action=\"ignore\", category=UserWarning)"
   ]
  },
  {
   "cell_type": "code",
   "execution_count": null,
   "metadata": {},
   "outputs": [],
   "source": [
    "from util.logger import (\n",
    "    prepare_log_folder,\n",
    "    save_config,\n",
    "    create_logger,\n",
    ")\n",
    "\n",
    "from params import *\n",
    "from data.preparation import prepare_data\n",
    "from inference.extract_features import Config as ConfigInf\n",
    "from training.main_lvl2 import k_fold, retrieve_preds"
   ]
  },
  {
   "cell_type": "markdown",
   "metadata": {},
   "source": [
    "### Data"
   ]
  },
  {
   "cell_type": "code",
   "execution_count": null,
   "metadata": {},
   "outputs": [],
   "source": [
    "df_patient, df_img = prepare_data(DATA_PATH)"
   ]
  },
  {
   "cell_type": "code",
   "execution_count": null,
   "metadata": {},
   "outputs": [],
   "source": [
    "EXP_FOLDERS = [\n",
    "    (\"../logs/2023-09-20/14/\", \"seg\"),\n",
    "    (\"../logs/2023-09-20/36_r/\", \"probas_2d\"),  # 0.358 - convnext-tiny best  <-\n",
    "    (\"../logs/2023-10-05/13/\", \"probas_2d\"),  # 0.353 - maxvit_tiny_tf_384   (+36_r - 0.347)       <- \n",
    "]\n",
    "EXP_FOLDER = EXP_FOLDERS[0][0]"
   ]
  },
  {
   "cell_type": "code",
   "execution_count": null,
   "metadata": {},
   "outputs": [],
   "source": [
    "config = ConfigInf(json.load(open(EXP_FOLDER + \"config.json\", \"r\")))"
   ]
  },
  {
   "cell_type": "code",
   "execution_count": null,
   "metadata": {},
   "outputs": [],
   "source": [
    "if \"fold\" not in df_patient.columns:\n",
    "    folds = pd.read_csv(config.folds_file)\n",
    "    df_img = df_img.merge(folds)\n",
    "    df_patient = df_patient.merge(folds)"
   ]
  },
  {
   "cell_type": "markdown",
   "metadata": {},
   "source": [
    "### Training"
   ]
  },
  {
   "cell_type": "code",
   "execution_count": null,
   "metadata": {},
   "outputs": [],
   "source": [
    "class Config:\n",
    "    \"\"\"\n",
    "    Parameters used for training\n",
    "    \"\"\"\n",
    "    # General\n",
    "    seed = 42\n",
    "    verbose = 1\n",
    "    device = \"cuda\"\n",
    "    save_weights = True\n",
    "\n",
    "    # Data\n",
    "    exp_folders = [\n",
    "        (\"../logs/2023-09-20/14/\", \"seg\"),  # v2-rw-t stride+ 384\n",
    "        (\"../logs/2023-10-10/27/\", \"probas_2d\"),  # 0.346  - maxvit_tiny_tf_512   <-\n",
    "        (\"../logs/2023-10-05/31/\", \"crop\"),  # coatnet_1_rw_224 -1 11       -> 0.320  +0.0016\n",
    "    ]\n",
    "\n",
    "    restrict = True\n",
    "    max_len = 600\n",
    "    resize = 200\n",
    "    n_fts = 9 * len([p for p in exp_folders if \"crop\" in p[1]])\n",
    "\n",
    "    # k-fold\n",
    "    k = 4\n",
    "    folds_file = f\"../input/folds_{k}.csv\"\n",
    "    selected_folds = [0, 1, 2, 3]\n",
    "\n",
    "    # Model\n",
    "    name = \"rnn_att\"\n",
    "    ft_dim = (\n",
    "        22 * len([p for p in exp_folders if \"probas\" in p[1]]) + \n",
    "        4 * len([p for p in exp_folders if \"bowel_extrav\" in p[1]]) + \n",
    "        5\n",
    "    )\n",
    "\n",
    "    dense_dim = 384  # 384\n",
    "    layer_dim = 256\n",
    "    n_layers = 1\n",
    "\n",
    "    p = 0.\n",
    "    num_classes = 11\n",
    "    num_classes_aux = 0\n",
    "\n",
    "    # Training    \n",
    "    loss_config = {\n",
    "        \"name\": \"patient\",\n",
    "        \"weighted\": True,\n",
    "        \"use_any\": True,\n",
    "        \"accentuate\": False,\n",
    "        \"smoothing\": 0,\n",
    "        \"activation\": \"patient\",\n",
    "        \"aux_loss_weight\": 0,\n",
    "        \"name_aux\": \"patient\",\n",
    "        \"smoothing_aux\": 0,\n",
    "        \"activation_aux\": \"\",\n",
    "    }\n",
    "\n",
    "    data_config = {\n",
    "        \"batch_size\": 64,\n",
    "        \"val_bs\": 256,\n",
    "        \"mix\": \"mixup\",\n",
    "        \"mix_proba\": 0.,\n",
    "        \"sched\": False,\n",
    "        \"mix_alpha\": 4.,\n",
    "        \"additive_mix\": False,\n",
    "        \"num_classes\": num_classes,\n",
    "        \"num_workers\": 8,\n",
    "    }\n",
    "\n",
    "    optimizer_config = {\n",
    "        \"name\": \"AdamW\",\n",
    "        \"lr\": 4e-4,  # 4e-4, 5e-4\n",
    "        \"warmup_prop\": 0.,\n",
    "        \"betas\": (0.9, 0.999),\n",
    "        \"max_grad_norm\": 10.,\n",
    "        \"weight_decay\": 0.,\n",
    "    }\n",
    "\n",
    "    epochs = 10\n",
    "\n",
    "    use_fp16 = True\n",
    "    verbose = 1\n",
    "    verbose_eval = 50\n",
    "\n",
    "    fullfit = False\n",
    "    n_fullfit = 1\n",
    "\n",
    "    local_rank = 0\n",
    "    distributed = False\n",
    "    world_size = 1"
   ]
  },
  {
   "cell_type": "code",
   "execution_count": null,
   "metadata": {},
   "outputs": [],
   "source": [
    "DEBUG = True\n",
    "log_folder = None"
   ]
  },
  {
   "cell_type": "code",
   "execution_count": null,
   "metadata": {},
   "outputs": [],
   "source": [
    "if not DEBUG:\n",
    "    log_folder = prepare_log_folder(LOG_PATH)\n",
    "    print(f\"Logging results to {log_folder}\")\n",
    "    config_df = save_config(Config, log_folder + \"config.json\")\n",
    "    create_logger(directory=log_folder, name=\"logs.txt\")\n",
    "\n",
    "preds, preds_aux = k_fold(Config, df_patient, df_img, log_folder=log_folder, run=None)"
   ]
  },
  {
   "cell_type": "markdown",
   "metadata": {},
   "source": [
    "### Eval"
   ]
  },
  {
   "cell_type": "code",
   "execution_count": null,
   "metadata": {},
   "outputs": [],
   "source": [
    "EXP_FOLDERS = [\n",
    "    # SUB 1 - 0.3096\n",
    "    \"../logs/2023-10-10/45/\",   # 0.3111  - rnn_att - 36_r 25 27   - 11 36 41 6 20 21 31 31    <------ BEST LB 0.35\n",
    "    \"../logs/2023-10-10/42/\",   # 0.3120  - rnn_att - 25 27   - 11 36 41 6 20 21 31 31\n",
    "    \"../logs/2023-10-10/46/\",   # 0.3126  - rnn_att - 36_r 27   - 11 36 41 6 20 21 31 31\n",
    "]"
   ]
  },
  {
   "cell_type": "code",
   "execution_count": null,
   "metadata": {},
   "outputs": [],
   "source": [
    "preds_oof = []\n",
    "for exp_folder in EXP_FOLDERS:\n",
    "    cfg = ConfigInf(json.load(open(exp_folder + \"config.json\", \"r\")))\n",
    "    print(\n",
    "        exp_folder, \" --> \",\n",
    "        \"proba :\",\n",
    "        \" - \".join(e[8:] for e, m in cfg.exp_folders if \"proba\" in m),\n",
    "        \"\\t crop : \",\n",
    "        \" - \".join(e[8:] for e, m in cfg.exp_folders if \"crop\" in m),\n",
    "    )\n",
    "\n",
    "    df_oof, pred_oof = retrieve_preds(\n",
    "        df_patient,\n",
    "        df_img,\n",
    "        cfg,\n",
    "        exp_folder,\n",
    "        custom_agg=False,\n",
    "#         folds=[0]\n",
    "    )\n",
    "    preds_oof.append(pred_oof)\n",
    "    \n",
    "    losses, avg_loss = rsna_loss(pred_oof, df_oof)\n",
    "    print(f'-> CV Score : {avg_loss :.4f}\\n')\n",
    "\n",
    "#     df_oof.to_csv(exp_folder + 'df_oof.csv', index=False)\n",
    "\n",
    "pred_oof = np.mean(preds_oof, 0)"
   ]
  },
  {
   "cell_type": "code",
   "execution_count": null,
   "metadata": {},
   "outputs": [],
   "source": [
    "losses, avg_loss = rsna_loss(pred_oof, df_oof)\n",
    "\n",
    "for k, v in losses.items():\n",
    "    print(f\"- {k.split('_')[0][:8]} loss\\t: {v:.3f}\")\n",
    "\n",
    "print(f'\\n -> CV Score : {avg_loss :.4f}')"
   ]
  },
  {
   "cell_type": "markdown",
   "metadata": {},
   "source": [
    "Done ! "
   ]
  }
 ],
 "metadata": {
  "kernelspec": {
   "display_name": "Python 3 (ipykernel)",
   "language": "python",
   "name": "python3"
  },
  "language_info": {
   "codemirror_mode": {
    "name": "ipython",
    "version": 3
   },
   "file_extension": ".py",
   "mimetype": "text/x-python",
   "name": "python",
   "nbconvert_exporter": "python",
   "pygments_lexer": "ipython3",
   "version": "3.10.12"
  }
 },
 "nbformat": 4,
 "nbformat_minor": 4
}
