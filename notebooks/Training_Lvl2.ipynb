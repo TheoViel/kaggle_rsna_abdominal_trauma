{
 "cells": [
  {
   "cell_type": "markdown",
   "metadata": {},
   "source": [
    "**About** : This notebook is used to train models."
   ]
  },
  {
   "cell_type": "code",
   "execution_count": null,
   "metadata": {},
   "outputs": [],
   "source": [
    "%load_ext autoreload\n",
    "%autoreload 2"
   ]
  },
  {
   "cell_type": "code",
   "execution_count": null,
   "metadata": {},
   "outputs": [],
   "source": [
    "cd ../src/"
   ]
  },
  {
   "cell_type": "markdown",
   "metadata": {},
   "source": [
    "## Initialization"
   ]
  },
  {
   "cell_type": "markdown",
   "metadata": {},
   "source": [
    "### Imports"
   ]
  },
  {
   "cell_type": "code",
   "execution_count": null,
   "metadata": {},
   "outputs": [],
   "source": [
    "import os\n",
    "import torch\n",
    "\n",
    "print(torch.__version__)\n",
    "os.environ['CUDA_VISIBLE_DEVICES'] = \"0\"\n",
    "device = torch.cuda.get_device_name(0)\n",
    "print(device)"
   ]
  },
  {
   "cell_type": "code",
   "execution_count": null,
   "metadata": {},
   "outputs": [],
   "source": [
    "import os\n",
    "import sys\n",
    "import glob\n",
    "import json\n",
    "import torch\n",
    "import operator\n",
    "import warnings\n",
    "import numpy as np\n",
    "import pandas as pd\n",
    "import seaborn as sns\n",
    "import matplotlib.pyplot as plt\n",
    "\n",
    "from tqdm import tqdm\n",
    "from sklearn.metrics import *"
   ]
  },
  {
   "cell_type": "code",
   "execution_count": null,
   "metadata": {},
   "outputs": [],
   "source": [
    "from util.logger import (\n",
    "    prepare_log_folder,\n",
    "    save_config,\n",
    "    create_logger,\n",
    "#     init_neptune,\n",
    ")\n",
    "\n",
    "from params import *\n",
    "from data.dataset import *\n",
    "from data.preparation import *\n",
    "from util.metrics import rsna_loss\n",
    "from model_zoo.models_lvl2 import define_model\n",
    "\n",
    "from training.main_lvl2 import k_fold, retrieve_preds"
   ]
  },
  {
   "cell_type": "markdown",
   "metadata": {},
   "source": [
    "## Data"
   ]
  },
  {
   "cell_type": "code",
   "execution_count": null,
   "metadata": {},
   "outputs": [],
   "source": [
    "df_patient, df_img = prepare_data(DATA_PATH)"
   ]
  },
  {
   "cell_type": "code",
   "execution_count": null,
   "metadata": {},
   "outputs": [],
   "source": [
    "EXP_FOLDERS = [\n",
    "    (\"../logs/2023-09-06/4/\", \"seg\"),\n",
    "#     (\"../logs/2023-09-15/2/\", \"probas\"),\n",
    "#     (\"../logs/2023-09-15/11/\", \"probas\"),\n",
    "#     (\"../logs/2023-09-15/22/\", \"probas\"),\n",
    "#     (\"../logs/2023-09-15/37/\", \"probas\"),\n",
    "    (\"../logs/2023-09-18/79/\", \"probas\"),\n",
    "    (\"../logs/2023-09-18/78/\", \"probas\"),\n",
    "#     (\"../logs/2023-09-18/77/\", \"probas\"),\n",
    "#     (\"../logs/2023-09-18/76/\", \"probas\"),\n",
    "    (\"../logs/2023-09-18/75/\", \"probas\"),\n",
    "    (\"../logs/2023-09-18/74/\", \"probas\"),\n",
    "]\n",
    "EXP_FOLDER = EXP_FOLDERS[0][0]"
   ]
  },
  {
   "cell_type": "code",
   "execution_count": null,
   "metadata": {},
   "outputs": [],
   "source": [
    "from inference.extract_features import Config\n",
    "config = Config(json.load(open(EXP_FOLDER + \"config.json\", \"r\")))"
   ]
  },
  {
   "cell_type": "code",
   "execution_count": null,
   "metadata": {},
   "outputs": [],
   "source": [
    "if \"fold\" not in df_patient.columns:\n",
    "    folds = pd.read_csv(config.folds_file)\n",
    "    df_img = df_img.merge(folds)\n",
    "    df_patient = df_patient.merge(folds)"
   ]
  },
  {
   "cell_type": "code",
   "execution_count": null,
   "metadata": {},
   "outputs": [],
   "source": [
    "dataset = PatientFeatureDataset(df_patient[df_patient['fold'] == 0], df_img[df_img['fold'] == 0], EXP_FOLDERS, max_len=1000)"
   ]
  },
  {
   "cell_type": "code",
   "execution_count": null,
   "metadata": {},
   "outputs": [],
   "source": [
    "fts, y, _ = dataset[0]\n",
    "fts.size(), y"
   ]
  },
  {
   "cell_type": "code",
   "execution_count": null,
   "metadata": {},
   "outputs": [],
   "source": [
    "# lens = []\n",
    "# for i in tqdm(range(len(dataset))):\n",
    "#     x = dataset[i][0]\n",
    "#     lens.append(len(x))\n",
    "    \n",
    "# #     break"
   ]
  },
  {
   "cell_type": "code",
   "execution_count": null,
   "metadata": {},
   "outputs": [],
   "source": [
    "# sns.histplot(lens)"
   ]
  },
  {
   "cell_type": "markdown",
   "metadata": {},
   "source": [
    "## Model"
   ]
  },
  {
   "cell_type": "code",
   "execution_count": null,
   "metadata": {},
   "outputs": [],
   "source": [
    "model = define_model(\"rnn\", ft_dim=fts.size(-1), layer_dim=128, n_layers=2, dense_dim=256, num_classes=11, num_classes_aux=0)"
   ]
  },
  {
   "cell_type": "code",
   "execution_count": null,
   "metadata": {},
   "outputs": [],
   "source": [
    "x = torch.cat([fts.unsqueeze(0)] * 2)\n",
    "\n",
    "pred, pred_aux = model(x)\n",
    "pred.size()"
   ]
  },
  {
   "cell_type": "markdown",
   "metadata": {},
   "source": [
    "## Training\n",
    "- Handle variable sequence length more cleverly\n",
    "- Tweak CNN\n",
    "- Tweak fancier archs"
   ]
  },
  {
   "cell_type": "code",
   "execution_count": null,
   "metadata": {},
   "outputs": [],
   "source": [
    "class Config:\n",
    "    \"\"\"\n",
    "    Parameters used for training\n",
    "    \"\"\"\n",
    "    # General\n",
    "    seed = 42\n",
    "    verbose = 1\n",
    "    device = \"cuda\"\n",
    "    save_weights = True\n",
    "\n",
    "    # Data\n",
    "    exp_folders = [\n",
    "#         (\"../logs/2023-09-06/4/\", \"seg\"),  # v2-s\n",
    "        (\"../logs/2023-09-19/10/\", \"seg\"),  # v2-rw-t stride+\n",
    "\n",
    "#         (\"../logs/2023-09-18/79/\", \"probas\"),  # b5\n",
    "#         (\"../logs/2023-09-18/94/\", \"probas\"),  # v2m\n",
    "#         (\"../logs/2023-09-18/91/\", \"probas\"),  # v2s\n",
    "        (\"../logs/2023-09-18/90/\", \"probas\"),  # convnext-tiny\n",
    "    ]\n",
    "    max_len = 1000\n",
    "    n_fts = 0  # already pooled features, not supported yet\n",
    "\n",
    "    # k-fold\n",
    "    k = 4\n",
    "    folds_file = f\"../input/folds_{k}.csv\"\n",
    "    selected_folds = [0, 1, 2, 3]\n",
    "\n",
    "    # Model\n",
    "    name = \"rnn\"\n",
    "    ft_dim = (11 + 11) * (len(exp_folders) - 1) + 5  # 1240 + 5\n",
    "\n",
    "    dense_dim = 512\n",
    "    layer_dim = 512\n",
    "    n_layers = 1\n",
    "    \n",
    "    p = 0.\n",
    "    use_msd = False\n",
    "    num_classes = 11\n",
    "    num_classes_aux = 0\n",
    "\n",
    "    # Training    \n",
    "    loss_config = {\n",
    "        \"name\": \"patient\",\n",
    "        \"weighted\": True,\n",
    "        \"use_any\": True,\n",
    "        \"smoothing\": 0,\n",
    "        \"activation\": \"patient\",\n",
    "        \"aux_loss_weight\": 0,\n",
    "        \"name_aux\": \"patient\",\n",
    "        \"smoothing_aux\": 0,\n",
    "        \"activation_aux\": \"\",\n",
    "    }\n",
    "\n",
    "    data_config = {\n",
    "        \"batch_size\": 64,\n",
    "        \"val_bs\": 256,\n",
    "        \"mix\": \"mixup\",\n",
    "        \"mix_proba\": 0.,\n",
    "        \"sched\": False,\n",
    "        \"mix_alpha\": 4.,\n",
    "        \"additive_mix\": False,\n",
    "        \"num_classes\": num_classes,\n",
    "        \"num_workers\": 8,\n",
    "    }\n",
    "\n",
    "    optimizer_config = {\n",
    "        \"name\": \"AdamW\",\n",
    "        \"lr\": 5e-4,  # 7e-4, 9e-4\n",
    "        \"warmup_prop\": 0.,\n",
    "        \"betas\": (0.9, 0.999),\n",
    "        \"max_grad_norm\": 10.,\n",
    "        \"weight_decay\": 0.2,\n",
    "    }\n",
    "\n",
    "    epochs = 10\n",
    "\n",
    "    use_fp16 = True\n",
    "    verbose = 1\n",
    "    verbose_eval = 50\n",
    "\n",
    "    fullfit = False\n",
    "    n_fullfit = 1\n",
    "\n",
    "    local_rank = 0\n",
    "    distributed = False\n",
    "    world_size = 1"
   ]
  },
  {
   "cell_type": "code",
   "execution_count": null,
   "metadata": {},
   "outputs": [],
   "source": [
    "DEBUG = False\n",
    "log_folder = None"
   ]
  },
  {
   "cell_type": "code",
   "execution_count": null,
   "metadata": {},
   "outputs": [],
   "source": [
    "if not DEBUG:\n",
    "    log_folder = prepare_log_folder(LOG_PATH)\n",
    "    print(f\"Logging results to {log_folder}\")\n",
    "    config_df = save_config(Config, log_folder + \"config.json\")\n",
    "    create_logger(directory=log_folder, name=\"logs.txt\")\n",
    "\n",
    "preds, preds_aux = k_fold(Config, df_patient, df_img, log_folder=log_folder, run=None)"
   ]
  },
  {
   "cell_type": "markdown",
   "metadata": {},
   "source": [
    "### Eval"
   ]
  },
  {
   "cell_type": "code",
   "execution_count": null,
   "metadata": {},
   "outputs": [],
   "source": [
    "# !cat ../logs/2023-09-19/11/logs.txt"
   ]
  },
  {
   "cell_type": "code",
   "execution_count": null,
   "metadata": {},
   "outputs": [],
   "source": [
    "LOG_FOLDER = \"../logs/2023-09-15/33/\"  # 0.419 - v2s\n",
    "LOG_FOLDER = \"../logs/2023-09-15/36/\"  # 0.407 - v2s aug4\n",
    "\n",
    "LOG_FOLDER = \"../logs/2023-09-18/81/\"  # 0.388 - b5\n",
    "# LOG_FOLDER =\"../logs/2023-09-18/82/\"  # 0.394 - b5\n",
    "# LOG_FOLDER =\"../logs/2023-09-18/84/\"  # 0.402 - v2s\n",
    "LOG_FOLDER = \"../logs/2023-09-19/0/\"  # 0.388 - v2m\n",
    "LOG_FOLDER = \"../logs/2023-09-19/2/\"  # 0.389 - v2s\n",
    "\n",
    "LOG_FOLDER = \"../logs/2023-09-19/11/\"  # 0.369 - convnext-tiny"
   ]
  },
  {
   "cell_type": "code",
   "execution_count": null,
   "metadata": {},
   "outputs": [],
   "source": [
    "df_oof, pred_oof = retrieve_preds(df_patient, df_img, Config, LOG_FOLDER)"
   ]
  },
  {
   "cell_type": "code",
   "execution_count": null,
   "metadata": {},
   "outputs": [],
   "source": [
    "LOG_FOLDER = \"../logs/2023-09-15/33/\"  # 0.419 - v2s\n",
    "LOG_FOLDER = \"../logs/2023-09-15/36/\"  # 0.407 - v2s aug4\n",
    "\n",
    "LOG_FOLDER = \"../logs/2023-09-18/81/\"  # 0.388 - b5\n",
    "# LOG_FOLDER =\"../logs/2023-09-18/82/\"  # 0.394 - b5\n",
    "# LOG_FOLDER =\"../logs/2023-09-18/84/\"  # 0.402 - v2s\n",
    "# LOG_FOLDER = \"../logs/2023-09-19/0/\"  # 0.388 - v2m"
   ]
  },
  {
   "cell_type": "code",
   "execution_count": null,
   "metadata": {},
   "outputs": [],
   "source": [
    "df_oof_, pred_oof_ = retrieve_preds(df_patient, df_img, Config, LOG_FOLDER)"
   ]
  },
  {
   "cell_type": "code",
   "execution_count": null,
   "metadata": {},
   "outputs": [],
   "source": [
    "pred_oof = (pred_oof_ + pred_oof) / 2"
   ]
  },
  {
   "cell_type": "code",
   "execution_count": null,
   "metadata": {},
   "outputs": [],
   "source": [
    "losses, avg_loss = rsna_loss(pred_oof, df_oof)\n",
    "\n",
    "for k, v in losses.items():\n",
    "    print(f\"- {k.split('_')[0][:8]} loss\\t: {v:.3f}\")\n",
    "    \n",
    "print(f'\\n -> CV Score : {avg_loss :.3f}')"
   ]
  },
  {
   "cell_type": "code",
   "execution_count": null,
   "metadata": {},
   "outputs": [],
   "source": [
    "# pred_oof_ = pred_oof.copy()\n",
    "# losses, avg_loss = rsna_loss(pred_oof, df_oof)\n",
    "# best_score = avg_loss\n",
    "\n",
    "# for _ in range(2):\n",
    "#     factors = []\n",
    "#     for i in range(pred_oof.shape[1]):\n",
    "#         scores = {}\n",
    "#         for factor in np.round(np.arange(0.5, 1.5, 0.1), 2):\n",
    "#             for shift in np.round(np.arange(-0.1, 0.11, 0.1), 2):\n",
    "# #             for shift in [-0.1, 0, 0.1]:\n",
    "#                 pred_oof_r = pred_oof_.copy()\n",
    "#                 pred_oof_r[:, i] = pred_oof_r[:, i] * factor + shift\n",
    "#                 pred_oof_r[:, i] = np.clip(pred_oof_r[:, i], 0.00001, 0.99999)\n",
    "\n",
    "#                 losses, avg_loss = rsna_loss(pred_oof_r, df_oof)\n",
    "#                 scores[(factor, shift)] = avg_loss\n",
    "\n",
    "#     #     print(scores)\n",
    "#         best_coefs, best_loss = min(scores.items(), key=operator.itemgetter(1))\n",
    "#         pred_oof_[:, i] = np.clip(pred_oof_[:, i] * best_coefs[0] + best_coefs[1], 0.00001, 0.99999)\n",
    "#         best_score = best_loss\n",
    "#         print(f'{i} - {best_coefs}  -  {best_loss :.3f}')\n",
    "#         factors.append(best_coefs)"
   ]
  },
  {
   "cell_type": "code",
   "execution_count": null,
   "metadata": {},
   "outputs": [],
   "source": [
    "dummy = np.array(\n",
    "    [\n",
    "        [0.04] * len(df_oof),\n",
    "        [0.3] * len(df_oof),\n",
    "        [0.6] * len(df_oof), [0.05] * len(df_oof), [0.05] * len(df_oof),\n",
    "        [0.4] * len(df_oof), [0.07] * len(df_oof), [0.03] * len(df_oof),\n",
    "        [0.3] * len(df_oof), [0.04] * len(df_oof), [0.07] * len(df_oof),\n",
    "    ]\n",
    ").T\n",
    "losses, avg_loss = rsna_loss(dummy, df_oof)\n",
    "\n",
    "for k, v in losses.items():\n",
    "    print(f\"- {k.split('_')[0][:8]} loss\\t: {v:.3f}\")\n",
    "    \n",
    "print(f'\\n -> CV Score : {avg_loss :.3f}')"
   ]
  },
  {
   "cell_type": "code",
   "execution_count": null,
   "metadata": {},
   "outputs": [],
   "source": [
    "# for i in range(2):\n",
    "#     sns.histplot(preds[:, i])\n",
    "    \n",
    "#     auc = roc_auc_score(df_val[PATIENT_TARGETS[i]], preds[:, i])\n",
    "#     print(f'- {PATIENT_TARGETS[i]} auc : {auc:.3f}')\n",
    "    \n",
    "#     plt.show()"
   ]
  },
  {
   "cell_type": "markdown",
   "metadata": {},
   "source": [
    "Done ! "
   ]
  }
 ],
 "metadata": {
  "kernelspec": {
   "display_name": "Python 3 (ipykernel)",
   "language": "python",
   "name": "python3"
  },
  "language_info": {
   "codemirror_mode": {
    "name": "ipython",
    "version": 3
   },
   "file_extension": ".py",
   "mimetype": "text/x-python",
   "name": "python",
   "nbconvert_exporter": "python",
   "pygments_lexer": "ipython3",
   "version": "3.10.12"
  }
 },
 "nbformat": 4,
 "nbformat_minor": 4
}
