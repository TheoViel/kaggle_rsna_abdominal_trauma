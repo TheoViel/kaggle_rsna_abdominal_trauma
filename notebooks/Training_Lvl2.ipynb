{
 "cells": [
  {
   "cell_type": "markdown",
   "metadata": {},
   "source": [
    "**About** : This notebook is used to train models."
   ]
  },
  {
   "cell_type": "code",
   "execution_count": null,
   "metadata": {},
   "outputs": [],
   "source": [
    "%load_ext autoreload\n",
    "%autoreload 2"
   ]
  },
  {
   "cell_type": "code",
   "execution_count": null,
   "metadata": {},
   "outputs": [],
   "source": [
    "cd ../src/"
   ]
  },
  {
   "cell_type": "markdown",
   "metadata": {},
   "source": [
    "## Initialization"
   ]
  },
  {
   "cell_type": "markdown",
   "metadata": {},
   "source": [
    "### Imports"
   ]
  },
  {
   "cell_type": "code",
   "execution_count": null,
   "metadata": {},
   "outputs": [],
   "source": [
    "import os\n",
    "import torch\n",
    "\n",
    "print(torch.__version__)\n",
    "os.environ['CUDA_VISIBLE_DEVICES'] = \"0\"\n",
    "device = torch.cuda.get_device_name(0)\n",
    "print(device)"
   ]
  },
  {
   "cell_type": "code",
   "execution_count": null,
   "metadata": {},
   "outputs": [],
   "source": [
    "import os\n",
    "import sys\n",
    "import glob\n",
    "import json\n",
    "import torch\n",
    "import operator\n",
    "import warnings\n",
    "import numpy as np\n",
    "import pandas as pd\n",
    "import seaborn as sns\n",
    "import matplotlib.pyplot as plt\n",
    "\n",
    "from tqdm import tqdm\n",
    "from sklearn.metrics import *\n",
    "\n",
    "warnings.simplefilter(action=\"ignore\", category=UserWarning)"
   ]
  },
  {
   "cell_type": "code",
   "execution_count": null,
   "metadata": {},
   "outputs": [],
   "source": [
    "from util.logger import (\n",
    "    prepare_log_folder,\n",
    "    save_config,\n",
    "    create_logger,\n",
    "#     init_neptune,\n",
    ")\n",
    "\n",
    "from params import *\n",
    "from data.dataset import *\n",
    "from data.preparation import *\n",
    "from util.metrics import rsna_loss\n",
    "from util.plots import plot_confusion_matrix\n",
    "from model_zoo.models_lvl2 import define_model\n",
    "from inference.extract_features import Config\n",
    "from training.main_lvl2 import k_fold, retrieve_preds"
   ]
  },
  {
   "cell_type": "markdown",
   "metadata": {},
   "source": [
    "## Data"
   ]
  },
  {
   "cell_type": "code",
   "execution_count": null,
   "metadata": {},
   "outputs": [],
   "source": [
    "df_patient, df_img = prepare_data(DATA_PATH)"
   ]
  },
  {
   "cell_type": "code",
   "execution_count": null,
   "metadata": {},
   "outputs": [],
   "source": [
    "EXP_FOLDERS = [\n",
    "#         (\"../logs/2023-09-06/4/\", \"seg\"),  # v2-s\n",
    "        (\"../logs/2023-09-19/10/\", \"seg\"),  # v2-rw-t stride+\n",
    "        (\"../logs/2023-09-24/20/\", \"seg3d\"),\n",
    "#         (\"../logs/2023-09-18/79/\", \"probas\"),  # b5\n",
    "#         (\"../logs/2023-09-18/94/\", \"probas\"),  # v2m\n",
    "#         (\"../logs/2023-09-19/7/\", \"probas\"),  # v2s\n",
    "        (\"../logs/2023-09-18/90/\", \"probas\"),  # convnext-tiny\n",
    "    ]\n",
    "EXP_FOLDER = EXP_FOLDERS[0][0]"
   ]
  },
  {
   "cell_type": "code",
   "execution_count": null,
   "metadata": {},
   "outputs": [],
   "source": [
    "config = Config(json.load(open(EXP_FOLDER + \"config.json\", \"r\")))"
   ]
  },
  {
   "cell_type": "code",
   "execution_count": null,
   "metadata": {},
   "outputs": [],
   "source": [
    "if \"fold\" not in df_patient.columns:\n",
    "    folds = pd.read_csv(config.folds_file)\n",
    "    df_img = df_img.merge(folds)\n",
    "    df_patient = df_patient.merge(folds)"
   ]
  },
  {
   "cell_type": "code",
   "execution_count": null,
   "metadata": {},
   "outputs": [],
   "source": [
    "dataset = PatientFeatureDataset(\n",
    "    df_patient[df_patient['fold'] == 0],\n",
    "    df_img[df_img['fold'] == 0],\n",
    "    EXP_FOLDERS,\n",
    "    max_len=200,\n",
    "    resize=None\n",
    ")"
   ]
  },
  {
   "cell_type": "code",
   "execution_count": null,
   "metadata": {},
   "outputs": [],
   "source": [
    "ft, y, y_aux = dataset[0]"
   ]
  },
  {
   "cell_type": "code",
   "execution_count": null,
   "metadata": {},
   "outputs": [],
   "source": [
    "# lens = []\n",
    "# for i in tqdm(range(len(dataset))):\n",
    "#     x = dataset[i][0]\n",
    "#     lens.append(len(x))\n",
    "# #     break\n",
    "\n",
    "# sns.histplot(lens)\n",
    "# plt.show()"
   ]
  },
  {
   "cell_type": "code",
   "execution_count": null,
   "metadata": {},
   "outputs": [],
   "source": [
    "lens = []\n",
    "for i in tqdm(range(len(dataset))):\n",
    "    fts = dataset[i][0]\n",
    "    x = fts.numpy()\n",
    "    lens.append(len(x))\n",
    "    \n",
    "#     start, end = detect_start_end(x)\n",
    "    \n",
    "    if len(x) > 1000:\n",
    "#         plt.subplot(1, 2, 1)\n",
    "        plt.plot(x[:, :5])\n",
    "#         plt.axvline(start, c=\"salmon\")\n",
    "#         plt.axvline(end, c=\"salmon\")\n",
    "        \n",
    "#         plt.subplot(1, 2, 2)\n",
    "#         plt.plot(kept)\n",
    "        plt.show()\n",
    "    \n",
    "    break"
   ]
  },
  {
   "cell_type": "code",
   "execution_count": null,
   "metadata": {},
   "outputs": [],
   "source": [
    "# sns.histplot(lens)"
   ]
  },
  {
   "cell_type": "markdown",
   "metadata": {},
   "source": [
    "## Model"
   ]
  },
  {
   "cell_type": "code",
   "execution_count": null,
   "metadata": {},
   "outputs": [],
   "source": [
    "model = define_model(\"transfo\", ft_dim=x.shape[-1], layer_dim=512, n_layers=1, dense_dim=256, num_classes=11, num_classes_aux=0)"
   ]
  },
  {
   "cell_type": "code",
   "execution_count": null,
   "metadata": {},
   "outputs": [],
   "source": [
    "model = model.cuda()"
   ]
  },
  {
   "cell_type": "code",
   "execution_count": null,
   "metadata": {},
   "outputs": [],
   "source": [
    "pred, pred_aux = model(fts.unsqueeze(0).cuda())\n",
    "pred.size()"
   ]
  },
  {
   "cell_type": "markdown",
   "metadata": {},
   "source": [
    "## Training\n",
    "- Handle variable sequence length more cleverly\n",
    "- Tweak CNN\n",
    "- Tweak fancier archs"
   ]
  },
  {
   "cell_type": "code",
   "execution_count": null,
   "metadata": {},
   "outputs": [],
   "source": [
    "class Config:\n",
    "    \"\"\"\n",
    "    Parameters used for training\n",
    "    \"\"\"\n",
    "    # General\n",
    "    seed = 42\n",
    "    verbose = 1\n",
    "    device = \"cuda\"\n",
    "    save_weights = True\n",
    "\n",
    "    # Data\n",
    "    exp_folders = [\n",
    "#         (\"../logs/2023-09-06/4/\", \"seg\"),  # v2-s\n",
    "#         (\"../logs/2023-09-19/10/\", \"seg\"),  # v2-rw-t stride+\n",
    "        (\"../logs/2023-09-20/14/\", \"seg\"),  # v2-rw-t stride+ 384\n",
    "#         (\"../logs/2023-09-25/26/\", \"seg\"),  # v2-rw-t stride+ 384 4 classes\n",
    "#         (\"../logs/2023-09-24/20/\", \"seg3d\"),  # resnet18d 3D\n",
    "\n",
    "        (\"../logs/2023-09-20/36/\", \"probas\"),  # convnext-tiny\n",
    "#         (\"../logs/2023-09-22/9/\", \"probas\"),  # v2m\n",
    "#         (\"../logs/2023-09-21/32/\", \"probas\"),  # v2m\n",
    "#         (\"../logs/2023-09-22/24/\", \"probas\"),  # convnext-nano\n",
    "    ]\n",
    "\n",
    "    restrict = True\n",
    "    max_len = 600 if restrict else 1000\n",
    "    resize = 200\n",
    "    n_fts = 0  # already pooled features, not supported yet\n",
    "\n",
    "    # k-fold\n",
    "    k = 4\n",
    "    folds_file = f\"../input/folds_{k}.csv\"\n",
    "    selected_folds = [0, 1, 2, 3]\n",
    "\n",
    "    # Model\n",
    "#     name = \"rnn\"\n",
    "    name = \"transfo\"\n",
    "    ft_dim = (11 + 11) * len([p for p in exp_folders if \"probas\" in p[1]]) + 5 # + 4\n",
    "\n",
    "    dense_dim = 256  # 384\n",
    "    layer_dim = 128\n",
    "    n_layers = 1\n",
    "\n",
    "    p = 0.1\n",
    "    use_msd = False\n",
    "    num_classes = 11\n",
    "    num_classes_aux = 0\n",
    "\n",
    "    # Training    \n",
    "    loss_config = {\n",
    "        \"name\": \"patient\",\n",
    "        \"weighted\": True,\n",
    "        \"use_any\": True,\n",
    "        \"smoothing\": 0,\n",
    "        \"activation\": \"patient\",\n",
    "        \"aux_loss_weight\": 0,\n",
    "        \"name_aux\": \"patient\",\n",
    "        \"smoothing_aux\": 0,\n",
    "        \"activation_aux\": \"\",\n",
    "    }\n",
    "\n",
    "    data_config = {\n",
    "        \"batch_size\": 64,\n",
    "        \"val_bs\": 256,\n",
    "        \"mix\": \"mixup\",\n",
    "        \"mix_proba\": 0.,\n",
    "        \"sched\": False,\n",
    "        \"mix_alpha\": 4.,\n",
    "        \"additive_mix\": False,\n",
    "        \"num_classes\": num_classes,\n",
    "        \"num_workers\": 8,\n",
    "    }\n",
    "\n",
    "    optimizer_config = {\n",
    "        \"name\": \"AdamW\",\n",
    "        \"lr\": 5e-4,  # 7e-4, 9e-4\n",
    "        \"warmup_prop\": 0.,\n",
    "        \"betas\": (0.9, 0.999),\n",
    "        \"max_grad_norm\": 10.,\n",
    "        \"weight_decay\": 0.2,\n",
    "    }\n",
    "\n",
    "    epochs = 8\n",
    "\n",
    "    use_fp16 = True\n",
    "    verbose = 1\n",
    "    verbose_eval = 50\n",
    "\n",
    "    fullfit = False\n",
    "    n_fullfit = 1\n",
    "\n",
    "    local_rank = 0\n",
    "    distributed = False\n",
    "    world_size = 1"
   ]
  },
  {
   "cell_type": "code",
   "execution_count": null,
   "metadata": {},
   "outputs": [],
   "source": [
    "class Config:\n",
    "    \"\"\"\n",
    "    Parameters used for training\n",
    "    \"\"\"\n",
    "    # General\n",
    "    seed = 42\n",
    "    verbose = 1\n",
    "    device = \"cuda\"\n",
    "    save_weights = True\n",
    "\n",
    "    # Data\n",
    "    exp_folders = [\n",
    "#         (\"../logs/2023-09-06/4/\", \"seg\"),  # v2-s\n",
    "#         (\"../logs/2023-09-19/10/\", \"seg\"),  # v2-rw-t stride+\n",
    "        (\"../logs/2023-09-20/14/\", \"seg\"),  # v2-rw-t stride+ 384\n",
    "#         (\"../logs/2023-09-25/26/\", \"seg\"),  # v2-rw-t stride+ 384 4 classes\n",
    "#         (\"../logs/2023-09-24/20/\", \"seg3d\"),  # resnet18d 3D\n",
    "\n",
    "        (\"../logs/2023-09-20/36/\", \"probas\"),  # convnext-tiny\n",
    "#         (\"../logs/2023-09-22/9/\", \"probas\"),  # v2m\n",
    "#         (\"../logs/2023-09-21/32/\", \"probas\"),  # v2m\n",
    "#         (\"../logs/2023-09-22/24/\", \"probas\"),  # convnext-nano\n",
    "#         (\"../logs/2023-09-25/22/\", \"probas\"),  # convnext-tiny \n",
    "#         (\"../logs/2023-09-25/15/\", \"probas\"),  # convnext-tiny \n",
    "    ]\n",
    "\n",
    "    restrict = True\n",
    "    max_len = 600 if restrict else 1000\n",
    "    resize = 200\n",
    "    n_fts = 0  # already pooled features, not supported yet\n",
    "\n",
    "    # k-fold\n",
    "    k = 4\n",
    "    folds_file = f\"../input/folds_{k}.csv\"\n",
    "    selected_folds = [0, 1, 2, 3]\n",
    "\n",
    "    # Model\n",
    "#     name = \"rnn\"\n",
    "    name = \"rnn_att\"\n",
    "    ft_dim = (11 + 11) * len([p for p in exp_folders if \"probas\" in p[1]]) + 5 # + 4\n",
    "\n",
    "    dense_dim = 384  # 384\n",
    "    layer_dim = 256\n",
    "    n_layers = 1\n",
    "    \n",
    "    p = 0.\n",
    "    use_msd = False\n",
    "    num_classes = 11\n",
    "    num_classes_aux = 0\n",
    "\n",
    "    # Training    \n",
    "    loss_config = {\n",
    "        \"name\": \"patient\",\n",
    "        \"weighted\": True,\n",
    "        \"use_any\": True,\n",
    "        \"smoothing\": 0,\n",
    "        \"activation\": \"patient\",\n",
    "        \"aux_loss_weight\": 0,\n",
    "        \"name_aux\": \"patient\",\n",
    "        \"smoothing_aux\": 0,\n",
    "        \"activation_aux\": \"\",\n",
    "    }\n",
    "\n",
    "    data_config = {\n",
    "        \"batch_size\": 64,\n",
    "        \"val_bs\": 256,\n",
    "        \"mix\": \"mixup\",\n",
    "        \"mix_proba\": 0.,\n",
    "        \"sched\": False,\n",
    "        \"mix_alpha\": 4.,\n",
    "        \"additive_mix\": False,\n",
    "        \"num_classes\": num_classes,\n",
    "        \"num_workers\": 8,\n",
    "    }\n",
    "\n",
    "    optimizer_config = {\n",
    "        \"name\": \"AdamW\",\n",
    "        \"lr\": 5e-4,  # 7e-4, 9e-4\n",
    "        \"warmup_prop\": 0.,\n",
    "        \"betas\": (0.9, 0.999),\n",
    "        \"max_grad_norm\": 10.,\n",
    "        \"weight_decay\": 0.2,\n",
    "    }\n",
    "\n",
    "    epochs = 8\n",
    "\n",
    "    use_fp16 = True\n",
    "    verbose = 1\n",
    "    verbose_eval = 50\n",
    "\n",
    "    fullfit = False\n",
    "    n_fullfit = 1\n",
    "\n",
    "    local_rank = 0\n",
    "    distributed = False\n",
    "    world_size = 1"
   ]
  },
  {
   "cell_type": "code",
   "execution_count": null,
   "metadata": {},
   "outputs": [],
   "source": [
    "DEBUG = False\n",
    "log_folder = None"
   ]
  },
  {
   "cell_type": "code",
   "execution_count": null,
   "metadata": {},
   "outputs": [],
   "source": [
    "# if not DEBUG:\n",
    "#     log_folder = prepare_log_folder(LOG_PATH)\n",
    "#     print(f\"Logging results to {log_folder}\")\n",
    "#     config_df = save_config(Config, log_folder + \"config.json\")\n",
    "#     create_logger(directory=log_folder, name=\"logs.txt\")\n",
    "\n",
    "# preds, preds_aux = k_fold(Config, df_patient, df_img, log_folder=log_folder, run=None)"
   ]
  },
  {
   "cell_type": "markdown",
   "metadata": {},
   "source": [
    "### Eval"
   ]
  },
  {
   "cell_type": "code",
   "execution_count": null,
   "metadata": {},
   "outputs": [],
   "source": [
    "# !cat ../logs/2023-09-25/17/logs.txt\n",
    "# !cat ../logs/2023-09-25/17/config.json"
   ]
  },
  {
   "cell_type": "code",
   "execution_count": null,
   "metadata": {},
   "outputs": [],
   "source": [
    "# !cat ../logs/2023-09-21/27/logs.txt\n",
    "# !cat ../logs/2023-09-21/27/config.json"
   ]
  },
  {
   "cell_type": "code",
   "execution_count": null,
   "metadata": {},
   "outputs": [],
   "source": [
    "EXP_FOLDERS = [\n",
    "#     \"../logs/2023-09-18/82/\",  # 0.394 - b5\n",
    "#     \"../logs/2023-09-19/0/\",  # 0.388 - v2m\n",
    "#     \"../logs/2023-09-19/12/\",  # 0.380 - v2s\n",
    "#     \"../logs/2023-09-19/11/\",  # 0.369 - convnext-tiny\n",
    "#     \"../logs/2023-09-19/19/\",  # 0.370 - convnext-tiny rest\n",
    "#     \"../logs/2023-09-19/27/\",  # 0.370 - convnext-tiny rest\n",
    "#     \"../logs/2023-09-20/31/\",  # 0.369 - convnext-tiny 384\n",
    "#     \"../logs/2023-09-20/28/\",  # 0.370 - convnext-tiny 384 x seg 384\n",
    "#     \"../logs/2023-09-21/0/\",  # 0.366 - convnext-tiny 384 x seg 384\n",
    "#     \"../logs/2023-09-21/24/\",  # 0.363 - convnext-tiny 384 x seg 384 rnn_att\n",
    "#     \"../logs/2023-09-21/25/\",  # 0.360 - convnext-tiny 384 x seg 384 rnn_att\n",
    "    \"../logs/2023-09-21/27/\",  # 0.358 - convnext-tiny 384 x seg 384 rnn_att resize      <---\n",
    "#     \"../logs/2023-09-21/28/\",  # 0.358 - convnext-tiny 384 x seg 384 rnn_att resize\n",
    "#     \"../logs/2023-09-21/31/\",  # 0.361 - convnext-tiny 384 x seg 384 cnn_att resize\n",
    "#     \"../logs/2023-09-22/20/\",  # 0.360 - convnext-tiny mixup 384 x seg 384 rnn_att \n",
    "    \"../logs/2023-09-25/28/\",  # 0.361 - convnext-tiny 384 x seg 384 transfo resize       <---\n",
    "#     \"../logs/2023-09-25/30/\",  # 0.360 - convnext-tiny 384 x seg 384 rnn_att resize maxlen\n",
    "#     \"../logs/2023-09-25/32/\",  # 0.358 - convnext-tiny 384 x seg 384 rnn_att resize seg 4 classes\n",
    "#     \"../logs/2023-09-25/36/\",   # 0.361 - convnext-tiny 384 x seg 384 transfo resize + 3d\n",
    "#     \"../logs/2023-09-25/17/\",   # 0.357 - convnext-tiny 384 x seg 384 rnn_att resize + 3d      <---\n",
    "]"
   ]
  },
  {
   "cell_type": "code",
   "execution_count": null,
   "metadata": {},
   "outputs": [],
   "source": [
    "preds_oof = []\n",
    "for exp_folder in tqdm(EXP_FOLDERS):\n",
    "    df_oof, pred_oof = retrieve_preds(df_patient, df_img, Config, exp_folder)\n",
    "    preds_oof.append(pred_oof)\n",
    "\n",
    "pred_oof = np.mean(preds_oof, 0)"
   ]
  },
  {
   "cell_type": "code",
   "execution_count": null,
   "metadata": {},
   "outputs": [],
   "source": [
    "losses, avg_loss = rsna_loss(pred_oof, df_oof)\n",
    "\n",
    "for k, v in losses.items():\n",
    "    print(f\"- {k.split('_')[0][:8]} loss\\t: {v:.3f}\")\n",
    "    \n",
    "print(f'\\n -> CV Score : {avg_loss :.3f}')"
   ]
  },
  {
   "cell_type": "code",
   "execution_count": null,
   "metadata": {},
   "outputs": [],
   "source": [
    "PATIENT_TARGETS[0]"
   ]
  },
  {
   "cell_type": "code",
   "execution_count": null,
   "metadata": {},
   "outputs": [],
   "source": [
    "plt.figure(figsize=(22, 4))\n",
    "\n",
    "plt.subplot(1, 5, 1)\n",
    "plot_confusion_matrix(pred_oof[:, 0] > 0.5, df_oof[PATIENT_TARGETS[0]], display_labels=[\"ok\", \"injury\"], normalize=None, show_label=True)\n",
    "plt.title(PATIENT_TARGETS[0])\n",
    "\n",
    "plt.subplot(1, 5, 2)\n",
    "plot_confusion_matrix(pred_oof[:, 1] > 0.5, df_oof[PATIENT_TARGETS[1]], display_labels=[\"ok\", \"injury\"], normalize=None)\n",
    "plt.title(PATIENT_TARGETS[1])\n",
    "\n",
    "plt.subplot(1, 5, 3)\n",
    "plot_confusion_matrix(pred_oof[:, 2:5].argmax(-1), df_oof[PATIENT_TARGETS[2]], display_labels=[\"ok\", \"low\", \"high\"], normalize=None)\n",
    "plt.title(PATIENT_TARGETS[2])\n",
    "\n",
    "plt.subplot(1, 5, 4)\n",
    "plot_confusion_matrix(pred_oof[:, 5:8].argmax(-1), df_oof[PATIENT_TARGETS[3]], display_labels=[\"ok\", \"low\", \"high\"], normalize=None)\n",
    "plt.title(PATIENT_TARGETS[3])\n",
    "\n",
    "plt.subplot(1, 5, 5)\n",
    "plot_confusion_matrix(pred_oof[:, 9:].argmax(-1), df_oof[PATIENT_TARGETS[4]], display_labels=[\"ok\", \"low\", \"high\"], normalize=None)\n",
    "plt.title(PATIENT_TARGETS[4])\n",
    "\n",
    "plt.show()"
   ]
  },
  {
   "cell_type": "code",
   "execution_count": null,
   "metadata": {},
   "outputs": [],
   "source": [
    "# max_frame = df_img.groupby('series').max()[['frame']].reset_index().rename(columns={\"frame\": \"max_frame\"})\n",
    "# df_img = df_img.merge(max_frame, on=\"series\")\n",
    "# df_img[\"frame_r\"] = df_img[\"max_frame\"] - df_img[\"frame\"]\n",
    "\n",
    "# df_img[\"frame_pct\"] = df_img[\"frame\"] / df_img[\"max_frame\"]"
   ]
  },
  {
   "cell_type": "code",
   "execution_count": null,
   "metadata": {},
   "outputs": [],
   "source": [
    "# # dfe = df_img[df_img['bowel_injury'] == 1]\n",
    "# # dfe = df_img[df_img['pred_liver'] >= 0.99]\n",
    "# # dfe = df_img[df_img['pred_spleen'] >= 0.99]\n",
    "# # dfe = df_img[df_img['pred_kidney'] >= 0.99]\n",
    "\n",
    "# l = 600\n",
    "# dfe = dfe[dfe['max_frame'] > l]\n",
    "\n",
    "# plt.title((dfe['frame_pct'] < 0.4).mean())\n",
    "# sns.histplot(dfe['frame_pct'])\n",
    "# plt.show()"
   ]
  },
  {
   "cell_type": "code",
   "execution_count": null,
   "metadata": {},
   "outputs": [],
   "source": [
    "# pred_oof_ = pred_oof.copy()\n",
    "# losses, avg_loss = rsna_loss(pred_oof, df_oof)\n",
    "# best_score = avg_loss\n",
    "\n",
    "# for _ in range(2):\n",
    "#     factors = []\n",
    "#     for i in range(pred_oof.shape[1]):\n",
    "#         scores = {}\n",
    "#         for factor in np.round(np.arange(0.5, 1.5, 0.1), 2):\n",
    "#             for shift in np.round(np.arange(-0.1, 0.11, 0.1), 2):\n",
    "# #             for shift in [-0.1, 0, 0.1]:\n",
    "#                 pred_oof_r = pred_oof_.copy()\n",
    "#                 pred_oof_r[:, i] = pred_oof_r[:, i] * factor + shift\n",
    "#                 pred_oof_r[:, i] = np.clip(pred_oof_r[:, i], 0.00001, 0.99999)\n",
    "\n",
    "#                 losses, avg_loss = rsna_loss(pred_oof_r, df_oof)\n",
    "#                 scores[(factor, shift)] = avg_loss\n",
    "\n",
    "#     #     print(scores)\n",
    "#         best_coefs, best_loss = min(scores.items(), key=operator.itemgetter(1))\n",
    "#         pred_oof_[:, i] = np.clip(pred_oof_[:, i] * best_coefs[0] + best_coefs[1], 0.00001, 0.99999)\n",
    "#         best_score = best_loss\n",
    "#         print(f'{i} - {best_coefs}  -  {best_loss :.3f}')\n",
    "#         factors.append(best_coefs)"
   ]
  },
  {
   "cell_type": "code",
   "execution_count": null,
   "metadata": {},
   "outputs": [],
   "source": [
    "dummy = np.array(\n",
    "    [\n",
    "        [0.04] * len(df_oof),\n",
    "        [0.3] * len(df_oof),\n",
    "        [0.6] * len(df_oof), [0.05] * len(df_oof), [0.05] * len(df_oof),\n",
    "        [0.4] * len(df_oof), [0.07] * len(df_oof), [0.03] * len(df_oof),\n",
    "        [0.3] * len(df_oof), [0.04] * len(df_oof), [0.07] * len(df_oof),\n",
    "    ]\n",
    ").T\n",
    "losses, avg_loss = rsna_loss(dummy, df_oof)\n",
    "\n",
    "for k, v in losses.items():\n",
    "    print(f\"- {k.split('_')[0][:8]} loss\\t: {v:.3f}\")\n",
    "    \n",
    "print(f'\\n -> CV Score : {avg_loss :.3f}')"
   ]
  },
  {
   "cell_type": "code",
   "execution_count": null,
   "metadata": {},
   "outputs": [],
   "source": [
    "# for i in range(2):\n",
    "#     sns.histplot(preds[:, i])\n",
    "    \n",
    "#     auc = roc_auc_score(df_val[PATIENT_TARGETS[i]], preds[:, i])\n",
    "#     print(f'- {PATIENT_TARGETS[i]} auc : {auc:.3f}')\n",
    "    \n",
    "#     plt.show()"
   ]
  },
  {
   "cell_type": "markdown",
   "metadata": {},
   "source": [
    "Done ! "
   ]
  }
 ],
 "metadata": {
  "kernelspec": {
   "display_name": "Python 3 (ipykernel)",
   "language": "python",
   "name": "python3"
  },
  "language_info": {
   "codemirror_mode": {
    "name": "ipython",
    "version": 3
   },
   "file_extension": ".py",
   "mimetype": "text/x-python",
   "name": "python",
   "nbconvert_exporter": "python",
   "pygments_lexer": "ipython3",
   "version": "3.10.12"
  }
 },
 "nbformat": 4,
 "nbformat_minor": 4
}
