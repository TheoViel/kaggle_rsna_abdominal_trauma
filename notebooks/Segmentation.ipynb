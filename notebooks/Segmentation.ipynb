{
 "cells": [
  {
   "cell_type": "markdown",
   "metadata": {},
   "source": [
    "**About** : This notebook is used to train models."
   ]
  },
  {
   "cell_type": "code",
   "execution_count": null,
   "metadata": {},
   "outputs": [],
   "source": [
    "%load_ext autoreload\n",
    "%autoreload 2"
   ]
  },
  {
   "cell_type": "code",
   "execution_count": null,
   "metadata": {},
   "outputs": [],
   "source": [
    "cd ../src/"
   ]
  },
  {
   "cell_type": "markdown",
   "metadata": {},
   "source": [
    "## Initialization"
   ]
  },
  {
   "cell_type": "markdown",
   "metadata": {},
   "source": [
    "### Imports"
   ]
  },
  {
   "cell_type": "code",
   "execution_count": null,
   "metadata": {},
   "outputs": [],
   "source": [
    "import os\n",
    "import torch\n",
    "\n",
    "print(torch.__version__)\n",
    "os.environ['CUDA_VISIBLE_DEVICES'] = \"0\"\n",
    "device = torch.cuda.get_device_name(0)\n",
    "print(device)"
   ]
  },
  {
   "cell_type": "code",
   "execution_count": null,
   "metadata": {},
   "outputs": [],
   "source": [
    "import os\n",
    "import re\n",
    "import sys\n",
    "import glob\n",
    "import torch\n",
    "import warnings\n",
    "import numpy as np\n",
    "import pandas as pd\n",
    "import seaborn as sns\n",
    "import matplotlib.pyplot as plt\n",
    "\n",
    "from tqdm import tqdm\n",
    "from sklearn.metrics import *\n",
    "\n",
    "pd.set_option('display.width', 500)\n",
    "pd.set_option('max_colwidth', 100)"
   ]
  },
  {
   "cell_type": "code",
   "execution_count": null,
   "metadata": {},
   "outputs": [],
   "source": [
    "from params import *\n",
    "from data.dataset import *\n",
    "from data.preparation import *\n",
    "from data.transforms import get_transfos\n",
    "\n",
    "from model_zoo.models import define_model\n",
    "from training.main_seg import k_fold\n",
    "\n",
    "from util.plots import *"
   ]
  },
  {
   "cell_type": "markdown",
   "metadata": {},
   "source": [
    "## Preparation"
   ]
  },
  {
   "cell_type": "code",
   "execution_count": null,
   "metadata": {},
   "outputs": [],
   "source": [
    "df_patient, df_img = prepare_data(DATA_PATH)"
   ]
  },
  {
   "cell_type": "code",
   "execution_count": null,
   "metadata": {},
   "outputs": [],
   "source": [
    "series = df_img.groupby('series')[['patient_id', \"frame\"]].max().reset_index()\n",
    "\n",
    "segs = pd.DataFrame({\"path\": glob.glob(\"../input/segmentations/*.nii\")})\n",
    "segs['series'] = segs['path'].apply(lambda x: int(x.split('/')[-1][:-4]))\n",
    "segs = segs.merge(series)\n",
    "segs = segs[[\"patient_id\", \"series\", \"frame\", \"path\"]]"
   ]
  },
  {
   "cell_type": "code",
   "execution_count": null,
   "metadata": {},
   "outputs": [],
   "source": [
    "segs = segs[segs['series'] == 21057].reset_index(drop=True)"
   ]
  },
  {
   "cell_type": "code",
   "execution_count": null,
   "metadata": {},
   "outputs": [],
   "source": [
    "SAVE = False\n",
    "PLOT = True\n",
    "\n",
    "SAVE_FOLDER = \"../input/segs/\"\n",
    "os.makedirs(SAVE_FOLDER, exist_ok=True)"
   ]
  },
  {
   "cell_type": "code",
   "execution_count": null,
   "metadata": {},
   "outputs": [],
   "source": [
    "show_cmap()\n",
    "\n",
    "for idx in tqdm(range(len(segs))):\n",
    "    patient_id = segs['patient_id'][idx]\n",
    "    series = segs['series'][idx]\n",
    "\n",
    "    imgs = sorted(glob.glob(\"../input/imgs/\" + f\"{patient_id}_{series}_*\"))\n",
    "    seg = load_segmentation(segs['path'][idx])\n",
    "    \n",
    "    ids = [i * len(imgs) // 5 for i in range(1, 5)]\n",
    "\n",
    "    if PLOT:\n",
    "        plt.figure(figsize=(20, 5))\n",
    "    for i, frame in enumerate(seg):\n",
    "        if SAVE:\n",
    "            cv2.imwrite(SAVE_FOLDER + f\"{patient_id}_{series}_{i:04d}.png\", frame)\n",
    "        \n",
    "        if i in ids and PLOT:\n",
    "            plt.subplot(1, len(ids), ids.index(i) + 1)\n",
    "            img = cv2.imread(imgs[i], cv2.IMREAD_GRAYSCALE)\n",
    "            \n",
    "            plot_mask(img, frame)\n",
    "            plt.title(f'Frame {i}')\n",
    "\n",
    "    if PLOT:\n",
    "        plt.show()\n",
    "#         if idx > 10:\n",
    "    break"
   ]
  },
  {
   "cell_type": "code",
   "execution_count": null,
   "metadata": {},
   "outputs": [],
   "source": [
    "# df_seg = pd.DataFrame({\"mask_path\": sorted(glob.glob('../input/segs/*.png'))})\n",
    "# df_seg['patient_id'] = df_seg['mask_path'].apply(lambda x: int(x.split('/')[-1].split('_')[0]))\n",
    "# df_seg['series'] = df_seg['mask_path'].apply(lambda x: int(x.split('/')[-1].split('_')[1]))\n",
    "# df_seg['frame'] = df_seg['mask_path'].apply(lambda x: int(x.split('/')[-1].split('_')[2][:-4]))\n",
    "\n",
    "# df_seg['img_path'] = df_seg['mask_path'].apply(lambda x: re.sub(\"/segs/\", \"/imgs/\", x))\n",
    "# df_seg = df_seg[[\"patient_id\", \"series\", \"frame\", \"img_path\", \"mask_path\"]]\n",
    "\n",
    "# df_seg.head()"
   ]
  },
  {
   "cell_type": "code",
   "execution_count": null,
   "metadata": {},
   "outputs": [],
   "source": [
    "# pixel_counts = []\n",
    "# ph = np.zeros(6)\n",
    "\n",
    "# for i in tqdm(range(len(df_seg))):\n",
    "#     mask = cv2.imread(df_seg['mask_path'][i], cv2.IMREAD_GRAYSCALE)\n",
    "\n",
    "#     cts = np.zeros(6)\n",
    "#     counts = np.bincount(mask.flatten())\n",
    "#     cts[:len(counts)] = counts\n",
    "\n",
    "#     pixel_counts.append(cts)\n",
    "    \n",
    "# pixel_counts = np.array(pixel_counts)\n",
    "# for k in labels:\n",
    "#     df_seg[f'pixel_count_{labels[k]}'] = pixel_counts[:, k]"
   ]
  },
  {
   "cell_type": "code",
   "execution_count": null,
   "metadata": {},
   "outputs": [],
   "source": [
    "# df_seg.to_csv('../input/df_seg.csv', index=False)\n",
    "# print('-> Saved df to ', '../input/df_seg.csv')"
   ]
  },
  {
   "cell_type": "code",
   "execution_count": null,
   "metadata": {},
   "outputs": [],
   "source": [
    "# i = np.random.choice(df_seg[df_seg['pixel_count_bowel'] > 10000].index)\n",
    "\n",
    "# img = cv2.imread(df_seg['img_path'][i], cv2.IMREAD_GRAYSCALE)\n",
    "# mask = cv2.imread(df_seg['mask_path'][i], cv2.IMREAD_GRAYSCALE)\n",
    "            \n",
    "# plt.imshow(img, cmap='gray')\n",
    "# plt.imshow(np.where(mask, mask, np.nan), cmap='Set3', alpha=0.3)        \n",
    "# plt.axis(False)\n",
    "# plt.title(f'Frame {i}')\n",
    "# plt.show()"
   ]
  },
  {
   "cell_type": "markdown",
   "metadata": {},
   "source": [
    "## Data"
   ]
  },
  {
   "cell_type": "code",
   "execution_count": null,
   "metadata": {},
   "outputs": [],
   "source": [
    "df_seg = pd.read_csv('../input/df_seg.csv')"
   ]
  },
  {
   "cell_type": "code",
   "execution_count": null,
   "metadata": {},
   "outputs": [],
   "source": [
    "df_seg = df_seg[(df_seg[SEG_TARGETS] > 0).max(1)].reset_index(drop=True)"
   ]
  },
  {
   "cell_type": "code",
   "execution_count": null,
   "metadata": {},
   "outputs": [],
   "source": [
    "df_seg.columns"
   ]
  },
  {
   "cell_type": "code",
   "execution_count": null,
   "metadata": {},
   "outputs": [],
   "source": [
    "tgt_cols = ['pixel_count_liver', 'pixel_count_spleen', 'pixel_count_left-kidney', 'pixel_count_right-kidney', 'pixel_count_bowel']"
   ]
  },
  {
   "cell_type": "code",
   "execution_count": null,
   "metadata": {},
   "outputs": [],
   "source": [
    "transforms = get_transfos(augment=True, resize=(512, 512), strength=0)\n",
    "\n",
    "dataset = SegDataset(df_seg, transforms=transforms, for_classification=False)\n",
    "\n",
    "dataset_cls = SegDataset(df_seg, transforms=transforms, for_classification=True)"
   ]
  },
  {
   "cell_type": "code",
   "execution_count": null,
   "metadata": {},
   "outputs": [],
   "source": [
    "plt.figure(figsize=(20, 5))\n",
    "\n",
    "for i, idx in enumerate(np.random.choice(len(dataset), 5)):\n",
    "    img, mask, y = dataset[idx]\n",
    "    \n",
    "#     _, y_cls, _ = dataset_cls[idx]\n",
    "#     print(y, y_cls)\n",
    "\n",
    "    img_ = img.numpy()[1].squeeze()\n",
    "    mask_ = mask.numpy().squeeze()\n",
    "\n",
    "    plt.subplot(1, 5, i + 1)\n",
    "    plt.imshow(img_, cmap='gray')\n",
    "    plt.imshow(np.where(mask_, mask_, np.nan), cmap='Set3', alpha=0.3)     \n",
    "    plt.title(str(y.numpy().astype(int)))\n",
    "    plt.axis(False)\n",
    "\n",
    "plt.show()"
   ]
  },
  {
   "cell_type": "markdown",
   "metadata": {},
   "source": [
    "## Training"
   ]
  },
  {
   "cell_type": "code",
   "execution_count": null,
   "metadata": {},
   "outputs": [],
   "source": [
    "class Config:\n",
    "    \"\"\"\n",
    "    Parameters used for training\n",
    "    \"\"\"\n",
    "    # General\n",
    "    seed = 42\n",
    "    verbose = 1\n",
    "    device = \"cuda\"\n",
    "    save_weights = True\n",
    "\n",
    "    # Data\n",
    "    resize = (512, 512)\n",
    "    aug_strength = 3\n",
    "    for_classification = True\n",
    "\n",
    "    # k-fold\n",
    "    k = 4\n",
    "    folds_file = f\"../input/folds_{k}.csv\"\n",
    "    selected_folds = [0]  # , 1, 2, 3]\n",
    "\n",
    "    # Model\n",
    "    name = \"tf_efficientnetv2_s\"\n",
    "    pretrained_weights = None\n",
    "    \n",
    "    num_classes = 5\n",
    "    num_classes_aux = 0\n",
    "    drop_rate = 0\n",
    "    drop_path_rate = 0\n",
    "    n_channels = 3\n",
    "    reduce_stride = False\n",
    "    replace_pad_conv = False\n",
    "    use_gem = True\n",
    "\n",
    "    # Training    \n",
    "    loss_config = {\n",
    "        \"name\": \"bce\",\n",
    "        \"smoothing\": 0,\n",
    "        \"activation\": \"sigmoid\",\n",
    "        \"aux_loss_weight\": 0,\n",
    "        \"name_aux\": \"patient\",\n",
    "        \"smoothing_aux\": 0,\n",
    "        \"activation_aux\": \"\",\n",
    "        \"ousm_k\": 0,  # todo ?\n",
    "    }\n",
    "\n",
    "    data_config = {\n",
    "        \"batch_size\": 16,\n",
    "        \"val_bs\": 16,\n",
    "        \"mix\": \"mixup\",\n",
    "        \"mix_proba\": 0.,\n",
    "        \"mix_alpha\": 4.,\n",
    "        \"additive_mix\": False,\n",
    "        \"num_classes\": num_classes,\n",
    "        \"num_workers\": 8,\n",
    "    }\n",
    "\n",
    "    optimizer_config = {\n",
    "        \"name\": \"AdamW\",\n",
    "        \"lr\": 5e-4,\n",
    "        \"warmup_prop\": 0.,\n",
    "        \"betas\": (0.9, 0.999),\n",
    "        \"max_grad_norm\": 10.,\n",
    "        \"weight_decay\": 0.,\n",
    "    }\n",
    "\n",
    "    epochs = 1\n",
    "\n",
    "    use_fp16 = True\n",
    "    verbose = 1\n",
    "    verbose_eval = 100\n",
    "    \n",
    "    fullfit = False\n",
    "    n_fullfit = 1\n",
    "    \n",
    "    local_rank = 0\n",
    "    distributed = False\n",
    "    world_size = 1"
   ]
  },
  {
   "cell_type": "code",
   "execution_count": null,
   "metadata": {},
   "outputs": [],
   "source": [
    "DEBUG = True\n",
    "log_folder = None\n",
    "run = None"
   ]
  },
  {
   "cell_type": "code",
   "execution_count": null,
   "metadata": {},
   "outputs": [],
   "source": [
    "if not DEBUG:\n",
    "    log_folder = prepare_log_folder(LOG_PATH)\n",
    "    print(f\"Logging results to {log_folder}\")\n",
    "    config_df = save_config(Config, log_folder + \"config.json\")\n",
    "    create_logger(directory=log_folder, name=\"logs.txt\")\n",
    "\n",
    "preds = k_fold(Config, df_seg, log_folder=log_folder, run=run)"
   ]
  },
  {
   "cell_type": "markdown",
   "metadata": {},
   "source": [
    "Done ! "
   ]
  }
 ],
 "metadata": {
  "kernelspec": {
   "display_name": "Python 3 (ipykernel)",
   "language": "python",
   "name": "python3"
  },
  "language_info": {
   "codemirror_mode": {
    "name": "ipython",
    "version": 3
   },
   "file_extension": ".py",
   "mimetype": "text/x-python",
   "name": "python",
   "nbconvert_exporter": "python",
   "pygments_lexer": "ipython3",
   "version": "3.10.12"
  }
 },
 "nbformat": 4,
 "nbformat_minor": 4
}
