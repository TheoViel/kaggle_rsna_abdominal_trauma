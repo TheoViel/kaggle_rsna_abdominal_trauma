{
 "cells": [
  {
   "cell_type": "markdown",
   "metadata": {},
   "source": [
    "**About** : This notebook is used to train models."
   ]
  },
  {
   "cell_type": "code",
   "execution_count": null,
   "metadata": {},
   "outputs": [],
   "source": [
    "%load_ext autoreload\n",
    "%autoreload 2"
   ]
  },
  {
   "cell_type": "code",
   "execution_count": null,
   "metadata": {},
   "outputs": [],
   "source": [
    "cd ../src/"
   ]
  },
  {
   "cell_type": "markdown",
   "metadata": {},
   "source": [
    "## Initialization"
   ]
  },
  {
   "cell_type": "markdown",
   "metadata": {},
   "source": [
    "### Imports"
   ]
  },
  {
   "cell_type": "code",
   "execution_count": null,
   "metadata": {},
   "outputs": [],
   "source": [
    "import os\n",
    "import torch\n",
    "\n",
    "print(torch.__version__)\n",
    "os.environ['CUDA_VISIBLE_DEVICES'] = \"0\"\n",
    "device = torch.cuda.get_device_name(0)\n",
    "print(device)"
   ]
  },
  {
   "cell_type": "code",
   "execution_count": null,
   "metadata": {},
   "outputs": [],
   "source": [
    "import os\n",
    "import re\n",
    "import sys\n",
    "import glob\n",
    "import json\n",
    "import time\n",
    "import torch\n",
    "import warnings\n",
    "import numpy as np\n",
    "import pandas as pd\n",
    "import seaborn as sns\n",
    "import matplotlib.pyplot as plt\n",
    "import torch.nn.functional as F\n",
    "\n",
    "from tqdm import tqdm\n",
    "from sklearn.metrics import *\n",
    "\n",
    "pd.set_option('display.width', 500)\n",
    "pd.set_option('max_colwidth', 100)"
   ]
  },
  {
   "cell_type": "code",
   "execution_count": null,
   "metadata": {},
   "outputs": [],
   "source": [
    "from params import *\n",
    "from data.dataset import *\n",
    "from data.preparation import *\n",
    "from data.transforms import get_transfos\n",
    "\n",
    "from model_zoo.models_seg import define_model, convert_3d\n",
    "from training.main_seg import k_fold\n",
    "from inference.extract_features import Config\n",
    "\n",
    "from util.plots import *"
   ]
  },
  {
   "cell_type": "code",
   "execution_count": null,
   "metadata": {},
   "outputs": [],
   "source": [
    "from model_zoo.models_seg import define_model\n",
    "from util.torch import load_model_weights\n",
    "from training.losses import SegLoss"
   ]
  },
  {
   "cell_type": "markdown",
   "metadata": {},
   "source": [
    "### Preparation"
   ]
  },
  {
   "cell_type": "code",
   "execution_count": null,
   "metadata": {},
   "outputs": [],
   "source": [
    "df_patient, df_img = prepare_data(DATA_PATH)"
   ]
  },
  {
   "cell_type": "code",
   "execution_count": null,
   "metadata": {},
   "outputs": [],
   "source": [
    "series = df_img.groupby('series')[['patient_id', \"frame\"]].max().reset_index()\n",
    "\n",
    "segs = pd.DataFrame({\"path\": glob.glob(\"../input/segmentations/*.nii\")})\n",
    "segs['series'] = segs['path'].apply(lambda x: int(x.split('/')[-1][:-4]))\n",
    "segs = segs.merge(series)\n",
    "segs = segs[[\"patient_id\", \"series\", \"frame\", \"path\"]]"
   ]
  },
  {
   "cell_type": "code",
   "execution_count": null,
   "metadata": {},
   "outputs": [],
   "source": [
    "SAVE_FOLDER = \"../input/3ds_2/\"\n",
    "os.makedirs(SAVE_FOLDER, exist_ok=True)\n",
    "\n",
    "MAX_LEN = 600\n",
    "SIZE = 256\n",
    "\n",
    "SAVE = False\n",
    "PLOT = False"
   ]
  },
  {
   "cell_type": "code",
   "execution_count": null,
   "metadata": {},
   "outputs": [],
   "source": [
    "# %%time\n",
    "# if PLOT:\n",
    "#     show_cmap()\n",
    "\n",
    "# for idx in tqdm(range(len(segs))):\n",
    "#     patient_id = segs['patient_id'][idx]\n",
    "#     series = segs['series'][idx]\n",
    "\n",
    "#     imgs = sorted(glob.glob(\"../input/imgs/\" + f\"{patient_id}_{series}_*\"))\n",
    "#     imgs = np.array([cv2.imread(f, 0) for f in imgs[-MAX_LEN:]])\n",
    "#     imgs = center_crop_pad(imgs, 384)\n",
    "\n",
    "#     imgs = F.interpolate(torch.from_numpy(imgs).unsqueeze(0).unsqueeze(0), size=(SIZE, SIZE, SIZE), mode=\"nearest\")[0][0]\n",
    "    \n",
    "# #     imgs = imgs[::2, ::2, ::2]\n",
    "# #     imgs = F.interpolate(  # Only downsample on x\n",
    "# #         torch.from_numpy(imgs).contiguous().view(-1, SIZE * SIZE).transpose(0, 1).unsqueeze(1),\n",
    "# #         size=SIZE,\n",
    "# #         mode=\"nearest\"\n",
    "# #     )[:, 0].transpose(0, 1).view(SIZE, SIZE, SIZE)\n",
    "    \n",
    "#     imgs = imgs.numpy().astype(np.uint8)\n",
    "    \n",
    "#     seg = load_segmentation(segs['path'][idx])[-MAX_LEN:]\n",
    "#     seg = center_crop_pad(seg, 384).copy()\n",
    "    \n",
    "# #     seg = seg[::2, ::2, ::2]\n",
    "# #     seg = F.interpolate(  # Only downsample on x\n",
    "# #         torch.from_numpy(seg).contiguous().view(-1, SIZE * SIZE).transpose(0, 1).unsqueeze(1),\n",
    "# #         size=SIZE,\n",
    "# #         mode=\"nearest\"\n",
    "# #     )[:, 0].transpose(0, 1).view(SIZE, SIZE, SIZE)\n",
    "    \n",
    "#     seg = F.interpolate(torch.from_numpy(seg).unsqueeze(0).unsqueeze(0), size=(SIZE, SIZE, SIZE), mode=\"nearest\")[0][0]\n",
    "#     seg = seg.numpy().astype(np.uint8)\n",
    "    \n",
    "#     if SAVE:\n",
    "#         np.save(SAVE_FOLDER + \"imgs/\" + f\"{patient_id}_{series}.npy\", imgs)\n",
    "#         np.save(SAVE_FOLDER + \"segs/\" + f\"{patient_id}_{series}.npy\", seg)\n",
    "    \n",
    "#     if PLOT:\n",
    "#         ids = [i * len(imgs) // 5 for i in range(1, 5)]\n",
    "#         plt.figure(figsize=(20, 5))\n",
    "#         for i, id_ in enumerate(ids):\n",
    "#             plt.subplot(1, len(ids), i + 1)\n",
    "#             plot_mask(imgs[id_], seg[id_])\n",
    "#             plt.title(f'Frame {id_}')\n",
    "#         plt.show()\n",
    "        \n",
    "#         ids = [i * imgs.shape[1] // 5 for i in range(1, 5)]\n",
    "#         plt.figure(figsize=(20, 5))\n",
    "#         for i, id_ in enumerate(ids):\n",
    "#             plt.subplot(1, len(ids), i + 1)\n",
    "#             plot_mask(imgs[:, id_], seg[:, id_])\n",
    "#             plt.title(f'Frame {id_}')\n",
    "#         plt.show()\n",
    "        \n",
    "#         ids = [i * imgs.shape[2] // 5 for i in range(1, 5)]\n",
    "#         plt.figure(figsize=(20, 5))\n",
    "#         for i, id_ in enumerate(ids):\n",
    "#             plt.subplot(1, len(ids), i + 1)\n",
    "#             plot_mask(imgs[:, :, id_], seg[:, :, id_])\n",
    "#             plt.title(f'Frame {id_}')\n",
    "#         plt.show()\n",
    "# #         if idx > 10:\n",
    "#     break"
   ]
  },
  {
   "cell_type": "code",
   "execution_count": null,
   "metadata": {},
   "outputs": [],
   "source": [
    "# df_seg = pd.DataFrame({\n",
    "#     \"mask_path\": sorted(glob.glob(f'{SAVE_FOLDER}/segs/*.npy'))\n",
    "# })\n",
    "# df_seg['patient_id'] = df_seg['mask_path'].apply(lambda x: int(x.split('/')[-1].split('_')[0]))\n",
    "# df_seg['series'] = df_seg['mask_path'].apply(lambda x: int(x.split('/')[-1].split('_')[1][:-4]))\n",
    "\n",
    "# df_seg['img_path'] = df_seg['mask_path'].apply(lambda x: re.sub(\"/segs/\", \"/imgs/\", x))\n",
    "# df_seg = df_seg[[\"patient_id\", \"series\", \"img_path\", \"mask_path\"]]\n",
    "\n",
    "# df_seg.to_csv('../input/df_seg_3d.csv', index=False)\n",
    "# df_seg.head()"
   ]
  },
  {
   "cell_type": "markdown",
   "metadata": {},
   "source": [
    "### Preparation Extra"
   ]
  },
  {
   "cell_type": "code",
   "execution_count": null,
   "metadata": {},
   "outputs": [],
   "source": [
    "# PLOT = False\n",
    "# SAVE = True\n",
    "\n",
    "# SIZE = 256\n",
    "\n",
    "# SAVE_FOLDER = '../input/3ds_extra/'\n",
    "\n",
    "# os.makedirs(SAVE_FOLDER, exist_ok=True)\n",
    "# os.makedirs(SAVE_FOLDER + \"imgs/\", exist_ok=True)\n",
    "# os.makedirs(SAVE_FOLDER + \"segs/\", exist_ok=True)\n",
    "\n",
    "# segs_extra = glob.glob('../input/extra_segs/segs/*')"
   ]
  },
  {
   "cell_type": "code",
   "execution_count": null,
   "metadata": {},
   "outputs": [],
   "source": [
    "# for i, path in enumerate(tqdm(segs_extra)):\n",
    "#     study = path.split('/')[-1].split('_')[0]\n",
    "    \n",
    "#     if os.path.exists(SAVE_FOLDER + \"imgs/\" + f\"{study}_{study}.npy\"):\n",
    "#         continue\n",
    "\n",
    "#     try:\n",
    "#         seg = load_segmentation(path)[::-1]\n",
    "#         imgs = load_segmentation(f'../input/extra_segs/imgs/{study}/ct.nii.gz')[::-1]\n",
    "#     except:\n",
    "#         continue\n",
    "\n",
    "#     kept = (seg > 0).sum(-1).sum(-1) > 1000\n",
    "#     start, end = np.argmax(kept), len(kept) - np.argmax(kept[::-1])\n",
    "#     imgs = imgs[start: end]\n",
    "#     seg = seg[start: end]\n",
    "    \n",
    "#     all_present = all((seg == i).sum() > 1000 for i in range(1, 6))\n",
    "#     if not all_present:\n",
    "#         continue\n",
    "\n",
    "#     imgs, (start, end) = auto_windowing(imgs)\n",
    "    \n",
    "#     crop_size = int(0.75 * imgs.shape[1])\n",
    "\n",
    "#     imgs = center_crop_pad(imgs, crop_size)\n",
    "#     imgs = F.interpolate(torch.from_numpy(imgs).unsqueeze(0).unsqueeze(0), size=(SIZE, SIZE, SIZE), mode=\"nearest\")[0][0]\n",
    "#     imgs = imgs.numpy().astype(np.uint8)\n",
    "    \n",
    "#     seg = center_crop_pad(seg, crop_size).copy()\n",
    "#     seg = F.interpolate(torch.from_numpy(seg).unsqueeze(0).unsqueeze(0), size=(SIZE, SIZE, SIZE), mode=\"nearest\")[0][0]\n",
    "#     seg = seg.numpy().astype(np.uint8)\n",
    "    \n",
    "#     if SAVE:\n",
    "#         np.save(SAVE_FOLDER + \"imgs/\" + f\"{study}_{study}.npy\", imgs)\n",
    "#         np.save(SAVE_FOLDER + \"segs/\" + f\"{study}_{study}.npy\", seg)\n",
    "    \n",
    "#     if PLOT or (not (i % 100)):\n",
    "#         ids = [i * len(imgs) // 5 for i in range(1, 5)]\n",
    "#         plt.figure(figsize=(20, 5))\n",
    "#         for i, id_ in enumerate(ids):\n",
    "#             plt.subplot(1, len(ids), i + 1)\n",
    "#             plot_mask(imgs[id_], seg[id_])\n",
    "#             plt.title(f'Frame {id_}')\n",
    "#         plt.show()\n",
    "        \n",
    "#         ids = [i * imgs.shape[1] // 5 for i in range(1, 5)]\n",
    "#         plt.figure(figsize=(20, 5))\n",
    "#         for i, id_ in enumerate(ids):\n",
    "#             plt.subplot(1, len(ids), i + 1)\n",
    "#             plot_mask(imgs[:, id_], seg[:, id_])\n",
    "#             plt.title(f'Frame {id_}')\n",
    "#         plt.show()\n",
    "        \n",
    "#         ids = [i * imgs.shape[2] // 5 for i in range(1, 5)]\n",
    "#         plt.figure(figsize=(20, 5))\n",
    "#         for i, id_ in enumerate(ids):\n",
    "#             plt.subplot(1, len(ids), i + 1)\n",
    "#             plot_mask(imgs[:, :, id_], seg[:, :, id_])\n",
    "#             plt.title(f'Frame {id_}')\n",
    "#         plt.show()\n",
    "        \n",
    "# #     if idx > 10:\n",
    "# #         break"
   ]
  },
  {
   "cell_type": "code",
   "execution_count": null,
   "metadata": {},
   "outputs": [],
   "source": [
    "# df_seg = pd.DataFrame({\n",
    "#     \"mask_path\": sorted(glob.glob(f'{SAVE_FOLDER}/segs/*.npy'))\n",
    "# })\n",
    "# df_seg['patient_id'] = df_seg['mask_path'].apply(lambda x: x.split('/')[-1].split('_')[0])\n",
    "# df_seg['series'] = df_seg['mask_path'].apply(lambda x: x.split('/')[-1].split('_')[1][:-4])\n",
    "\n",
    "# df_seg['img_path'] = df_seg['mask_path'].apply(lambda x: re.sub(\"/segs/\", \"/imgs/\", x))\n",
    "# df_seg = df_seg[[\"patient_id\", \"series\", \"img_path\", \"mask_path\"]]\n",
    "\n",
    "# df_seg.to_csv('../input/df_seg_3d_extra.csv', index=False)\n",
    "\n",
    "# print(f\"-> Saved {len(df_seg)} extra segmentations\")\n",
    "# df_seg.head()"
   ]
  },
  {
   "cell_type": "markdown",
   "metadata": {},
   "source": [
    "### 3D Inference"
   ]
  },
  {
   "cell_type": "code",
   "execution_count": null,
   "metadata": {},
   "outputs": [],
   "source": [
    "EXP_FOLDER = \"../logs/2023-09-24/20/\"\n",
    "# EXP_FOLDER = \"../logs/2023-09-22/31/\"   # slow\n",
    "\n",
    "SAVE_FOLDER = \"../input/3ds/\"\n",
    "\n",
    "os.makedirs(EXP_FOLDER + \"masks/\", exist_ok=True)"
   ]
  },
  {
   "cell_type": "code",
   "execution_count": null,
   "metadata": {},
   "outputs": [],
   "source": [
    "config = Config(json.load(open(EXP_FOLDER + \"config.json\", \"r\")))"
   ]
  },
  {
   "cell_type": "code",
   "execution_count": null,
   "metadata": {},
   "outputs": [],
   "source": [
    "df_patient, df_img = prepare_data(DATA_PATH)"
   ]
  },
  {
   "cell_type": "code",
   "execution_count": null,
   "metadata": {},
   "outputs": [],
   "source": [
    "df_series = df_img[[\"patient_id\", 'series', 'frame']].groupby([\"patient_id\", 'series']).max().reset_index()\n",
    "\n",
    "folds = pd.read_csv(\"../input/folds_4.csv\")\n",
    "df_series = df_series.merge(folds, how=\"left\")"
   ]
  },
  {
   "cell_type": "code",
   "execution_count": null,
   "metadata": {},
   "outputs": [],
   "source": [
    "PLOT = False\n",
    "SAVE = True"
   ]
  },
  {
   "cell_type": "code",
   "execution_count": null,
   "metadata": {},
   "outputs": [],
   "source": [
    "# %%time\n",
    "# # for fold in range(4):\n",
    "# for fold in [0]:\n",
    "#     df_seg = df_series[df_series['fold'] == fold].reset_index(drop=True)\n",
    "\n",
    "#     model = define_model(\n",
    "#         config.decoder_name,\n",
    "#         config.name,\n",
    "#         num_classes=config.num_classes,\n",
    "#         num_classes_aux=config.num_classes_aux,\n",
    "#         n_channels=config.n_channels,\n",
    "#         increase_stride=config.increase_stride,\n",
    "#     )\n",
    "\n",
    "#     model = convert_3d(model)\n",
    "#     model = load_model_weights(model, EXP_FOLDER + f\"{config.name}_{fold}.pt\")\n",
    "#     model = model.cuda()\n",
    "    \n",
    "#     for idx in tqdm(range(len(df_seg))):\n",
    "#         patient_id = df_seg['patient_id'][idx]\n",
    "#         series = df_seg['series'][idx]\n",
    "#         n_frames = df_seg['frame'][idx]\n",
    "\n",
    "#         imgs = sorted(glob.glob(\"../input/imgs/\" + f\"{patient_id}_{series}_*\"))\n",
    "#         imgs = np.array([cv2.imread(f, 0) for f in imgs[-MAX_LEN:]])\n",
    "#         n_frames = int(len(imgs))\n",
    "#         imgs = center_crop_pad(imgs, 384)\n",
    "\n",
    "#         x = torch.from_numpy(imgs).cuda().float() / 255.\n",
    "        \n",
    "# #         t0 = time.time()\n",
    "        \n",
    "#         with torch.cuda.amp.autocast(enabled=True):\n",
    "#             x = x.unsqueeze(0).unsqueeze(0)\n",
    "#             x = F.interpolate(x, size=(SIZE, SIZE, SIZE), mode=\"nearest\")\n",
    "\n",
    "#             pred = model(x)[0].argmax(1, keepdims=True).float()\n",
    "#             pred = F.interpolate(pred, size=(n_frames, 384, 384), mode=\"nearest\")\n",
    "\n",
    "# #         t1 = time.time()\n",
    "# #         print(f\"inf {t1 - t0 :.3f}\")\n",
    "            \n",
    "#         msk = pred.cpu().numpy()[0][0].astype(int)\n",
    "        \n",
    "#         assert msk.shape == imgs.shape\n",
    "        \n",
    "#         counts = np.array([(msk == i).sum(-1).sum(-1) for i in range(1, 5)])\n",
    "\n",
    "#         if SAVE:\n",
    "#             np.save(EXP_FOLDER + \"masks/\" + f\"mask_{patient_id}_{series}.npy\", msk.astype(np.uint8))\n",
    "#             np.save(EXP_FOLDER + \"masks/\" + f\"mask_counts_{patient_id}_{series}.npy\", counts.astype(int))\n",
    "\n",
    "#         if PLOT or not (idx % 100):\n",
    "#             plt.figure(figsize=(20, 4))\n",
    "#             ids = [i * n_frames // 6 for i in range(1, 5)]\n",
    "\n",
    "#             plt.subplot(1, 5, 1)\n",
    "#             plot_mask(imgs[ids[-1]], msk[ids[-1]])\n",
    "#             plt.title(f'Frame {ids[-1]}')\n",
    "            \n",
    "#             ids = [i * 384 // 6 for i in range(1, 5)]\n",
    "\n",
    "#             plt.subplot(1, 5, 2)\n",
    "#             plot_mask(imgs[:, ids[2]], msk[:, ids[2]])\n",
    "#             plt.title(f'Frame {ids[2]}')\n",
    "            \n",
    "#             plt.subplot(1, 5, 3)\n",
    "#             plot_mask(imgs[:, ids[3]], msk[:, ids[3]])\n",
    "#             plt.title(f'Frame {ids[3]}')\n",
    "\n",
    "#             plt.subplot(1, 5, 4)\n",
    "#             plot_mask(imgs[:, :, ids[1]], msk[:, :, ids[1]])\n",
    "#             plt.title(f'Frame {ids[1]}')\n",
    "\n",
    "#             plt.subplot(1, 5, 5)\n",
    "#             plt.plot(counts.T)\n",
    "#             plt.yticks([], [])\n",
    "#             plt.title(f'Counts')\n",
    "            \n",
    "#             plt.show()\n",
    "\n",
    "# #         if idx > 5:\n",
    "# #             break\n",
    "# #     break"
   ]
  },
  {
   "cell_type": "code",
   "execution_count": null,
   "metadata": {},
   "outputs": [],
   "source": [
    "%%time\n",
    "\n",
    "df_img = pd.DataFrame({\"path\": sorted(glob.glob(\"../input/imgs/*\"))})\n",
    "df_img['series'] = df_img['path'].apply(lambda x: x.split('_')[-2])\n",
    "d = df_img.groupby('series').agg(list)[['path']].to_dict()['path']"
   ]
  },
  {
   "cell_type": "code",
   "execution_count": null,
   "metadata": {},
   "outputs": [],
   "source": [
    "%%time\n",
    "for fold in [0]:\n",
    "    df_seg = df_series[df_series['fold'] == fold].reset_index(drop=True)\n",
    "\n",
    "    for idx in tqdm(range(len(df_seg))):\n",
    "        patient_id = df_seg['patient_id'][idx]\n",
    "        series = df_seg['series'][idx]\n",
    "\n",
    "        imgs = sorted(d[str(series)])[-MAX_LEN:]\n",
    "\n",
    "        msk = np.load(EXP_FOLDER + \"masks/\" + f\"mask_{patient_id}_{series}.npy\")\n",
    "        for i, m in enumerate(msk):\n",
    "            frame = imgs[i].split('_')[-1][:4]\n",
    "            cv2.imwrite(EXP_FOLDER + \"masks/\" + f\"mask_{patient_id}_{series}_{frame}.png\", m)\n",
    "#         break\n",
    "#     break"
   ]
  },
  {
   "cell_type": "markdown",
   "metadata": {},
   "source": [
    "## Explo"
   ]
  },
  {
   "cell_type": "code",
   "execution_count": null,
   "metadata": {},
   "outputs": [],
   "source": [
    "df_seg = pd.read_csv('../input/df_seg_3d.csv')"
   ]
  },
  {
   "cell_type": "code",
   "execution_count": null,
   "metadata": {},
   "outputs": [],
   "source": [
    "folds = pd.read_csv(\"../input/folds_4.csv\")\n",
    "df_seg = df_seg.merge(folds, how=\"left\")"
   ]
  },
  {
   "cell_type": "code",
   "execution_count": null,
   "metadata": {},
   "outputs": [],
   "source": [
    "df_seg = df_seg[df_seg['fold'] == 0].reset_index(drop=True)"
   ]
  },
  {
   "cell_type": "code",
   "execution_count": null,
   "metadata": {},
   "outputs": [],
   "source": [
    "dataset = Seg3dDataset(df_seg.head(), train=False)"
   ]
  },
  {
   "cell_type": "code",
   "execution_count": null,
   "metadata": {},
   "outputs": [],
   "source": [
    "# for i in tqdm(range(len(dataset))):\n",
    "#     _ = dataset[i]\n",
    "#     break"
   ]
  },
  {
   "cell_type": "code",
   "execution_count": null,
   "metadata": {},
   "outputs": [],
   "source": [
    "idx = 1\n",
    "x, seg, _ = dataset[idx]\n",
    "imgs, seg = x[0].numpy(), seg[0].numpy()"
   ]
  },
  {
   "cell_type": "code",
   "execution_count": null,
   "metadata": {},
   "outputs": [],
   "source": [
    "show_cmap(True)"
   ]
  },
  {
   "cell_type": "code",
   "execution_count": null,
   "metadata": {},
   "outputs": [],
   "source": [
    "plt.figure(figsize=(20, 15))\n",
    "ids = [i * len(imgs) // 6 for i in range(1, 5)]\n",
    "\n",
    "for i, id_ in enumerate(ids):\n",
    "    plt.subplot(3, len(ids), i + 1)\n",
    "    plot_mask(imgs[id_], seg[id_])\n",
    "    plt.title(f'Frame {id_}')\n",
    "\n",
    "for i, id_ in enumerate(ids):\n",
    "    plt.subplot(3, len(ids), i + 1 + 4)\n",
    "    plot_mask(imgs[:, id_], seg[:, id_])\n",
    "    plt.title(f'Frame {id_}')\n",
    "\n",
    "for i, id_ in enumerate(ids):\n",
    "    plt.subplot(3, len(ids), i + 1 + 8)\n",
    "    plot_mask(imgs[:, :, id_], seg[:, :, id_])\n",
    "    plt.title(f'Frame {id_}')\n",
    "\n",
    "plt.show()"
   ]
  },
  {
   "cell_type": "code",
   "execution_count": null,
   "metadata": {},
   "outputs": [],
   "source": [
    "model = define_model(\n",
    "    \"Unet\",\n",
    "    'resnet18d',\n",
    "    num_classes=5,\n",
    "    num_classes_aux=0,\n",
    "    n_channels=1,\n",
    "    use_cls=False,\n",
    "    increase_stride=False\n",
    ")\n",
    "\n",
    "model = convert_3d(model)\n",
    "model = load_model_weights(model, \"../logs/2023-09-22/31/resnet18d_0.pt\")\n",
    "model = model.cuda()"
   ]
  },
  {
   "cell_type": "code",
   "execution_count": null,
   "metadata": {},
   "outputs": [],
   "source": [
    "%%time\n",
    "pred, _ = model(x = x.unsqueeze(0).cuda())\n",
    "msk = pred.argmax(1).cpu().numpy()[0].astype(int)"
   ]
  },
  {
   "cell_type": "code",
   "execution_count": null,
   "metadata": {},
   "outputs": [],
   "source": [
    "plt.figure(figsize=(20, 15))\n",
    "ids = [i * len(imgs) // 6 for i in range(1, 5)]\n",
    "\n",
    "for i, id_ in enumerate(ids):\n",
    "    m = np.where(msk[id_] == 0, -1, msk[id_])\n",
    "    acc = (m == seg[id_]).sum() / ((m > 0).sum() + 1)\n",
    "\n",
    "    plt.subplot(3, len(ids), i + 1)\n",
    "    plot_mask(imgs[id_], msk[id_])\n",
    "    plt.title(f'Frame {id_} - acc {acc:.3f}')\n",
    "\n",
    "for i, id_ in enumerate(ids):\n",
    "    m = np.where(msk[:, id_] == 0, -1, msk[:, id_])\n",
    "    acc = (m == seg[:, id_]).sum() / ((m > 0).sum() + 1)\n",
    "    \n",
    "    plt.subplot(3, len(ids), i + 1 + 4)\n",
    "    plot_mask(imgs[:, id_], msk[:, id_])\n",
    "    plt.title(f'Frame {id_} - acc {acc:.3f}')\n",
    "\n",
    "for i, id_ in enumerate(ids):\n",
    "    m = np.where(msk[:, :, id_] == 0, -1, msk[:, :, id_])\n",
    "    acc = (m == seg[:, :, id_]).sum() / ((m > 0).sum() + 1)\n",
    "    \n",
    "    plt.subplot(3, len(ids), i + 1 + 8)\n",
    "    plot_mask(imgs[:, :, id_], msk[:, :, id_])\n",
    "    plt.title(f'Frame {id_} - acc {acc:.3f}')\n",
    "\n",
    "plt.show()"
   ]
  },
  {
   "cell_type": "markdown",
   "metadata": {},
   "source": [
    "Done ! "
   ]
  }
 ],
 "metadata": {
  "kernelspec": {
   "display_name": "Python 3 (ipykernel)",
   "language": "python",
   "name": "python3"
  },
  "language_info": {
   "codemirror_mode": {
    "name": "ipython",
    "version": 3
   },
   "file_extension": ".py",
   "mimetype": "text/x-python",
   "name": "python",
   "nbconvert_exporter": "python",
   "pygments_lexer": "ipython3",
   "version": "3.10.12"
  }
 },
 "nbformat": 4,
 "nbformat_minor": 4
}
