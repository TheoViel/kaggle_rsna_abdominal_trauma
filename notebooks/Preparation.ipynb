{
 "cells": [
  {
   "cell_type": "markdown",
   "metadata": {},
   "source": [
    "**About** : This notebook is used to prepare the data."
   ]
  },
  {
   "cell_type": "code",
   "execution_count": 1,
   "metadata": {},
   "outputs": [],
   "source": [
    "%load_ext autoreload\n",
    "%autoreload 2"
   ]
  },
  {
   "cell_type": "code",
   "execution_count": 2,
   "metadata": {},
   "outputs": [
    {
     "name": "stdout",
     "output_type": "stream",
     "text": [
      "/workspace/kaggle_rsna_abdominal/src\n"
     ]
    }
   ],
   "source": [
    "cd ../src/"
   ]
  },
  {
   "cell_type": "markdown",
   "metadata": {},
   "source": [
    "## Initialization"
   ]
  },
  {
   "cell_type": "markdown",
   "metadata": {},
   "source": [
    "### Imports"
   ]
  },
  {
   "cell_type": "code",
   "execution_count": 3,
   "metadata": {},
   "outputs": [],
   "source": [
    "import os\n",
    "import sys\n",
    "import cv2\n",
    "import glob\n",
    "import json\n",
    "import numpy as np\n",
    "import pandas as pd\n",
    "import seaborn as sns\n",
    "import matplotlib.pyplot as plt\n",
    "\n",
    "from tqdm import tqdm\n",
    "from sklearn.linear_model import *\n",
    "\n",
    "pd.set_option('display.width', 500)\n",
    "pd.set_option('max_colwidth', 100)"
   ]
  },
  {
   "cell_type": "markdown",
   "metadata": {},
   "source": [
    "## Data"
   ]
  },
  {
   "cell_type": "markdown",
   "metadata": {},
   "source": [
    "### Imgs"
   ]
  },
  {
   "cell_type": "code",
   "execution_count": 52,
   "metadata": {},
   "outputs": [],
   "source": [
    "files = os.listdir('../input/imgs/')"
   ]
  },
  {
   "cell_type": "code",
   "execution_count": 53,
   "metadata": {},
   "outputs": [],
   "source": [
    "df = pd.DataFrame(files)\n",
    "df.columns = ['file']"
   ]
  },
  {
   "cell_type": "code",
   "execution_count": 54,
   "metadata": {},
   "outputs": [],
   "source": [
    "df['patient'] = df['file'].apply(lambda x: x.split('_')[0])\n",
    "df['series'] = df['file'].apply(lambda x: x.split('_')[1])\n",
    "df['frame'] = df['file'].apply(lambda x: x.split('_')[2][:-4])\n",
    "\n",
    "df['path'] = '../input/imgs/' + df['file']"
   ]
  },
  {
   "cell_type": "markdown",
   "metadata": {},
   "source": [
    "### Tags"
   ]
  },
  {
   "cell_type": "code",
   "execution_count": 7,
   "metadata": {},
   "outputs": [],
   "source": [
    "tags = pd.read_parquet(\"../input/train_dicom_tags.parquet\")"
   ]
  },
  {
   "cell_type": "code",
   "execution_count": 8,
   "metadata": {},
   "outputs": [],
   "source": [
    "tags['z'] = tags['ImagePositionPatient'].apply(lambda x: float(x[:-1].split(', ')[-1]))"
   ]
  },
  {
   "cell_type": "code",
   "execution_count": 9,
   "metadata": {},
   "outputs": [],
   "source": [
    "tags = tags[[\"path\", \"z\"]].copy()"
   ]
  },
  {
   "cell_type": "code",
   "execution_count": 10,
   "metadata": {},
   "outputs": [],
   "source": [
    "tags['patient'] = tags['path'].apply(lambda x: x.split('/')[1])\n",
    "tags['series'] = tags['path'].apply(lambda x: x.split('/')[2])\n",
    "tags['instance'] = tags['path'].apply(lambda x: x.split('/')[3][:-4])"
   ]
  },
  {
   "cell_type": "code",
   "execution_count": 11,
   "metadata": {},
   "outputs": [],
   "source": [
    "tags = tags.sort_values(['patient', 'series', 'z'], ignore_index=True)"
   ]
  },
  {
   "cell_type": "code",
   "execution_count": 12,
   "metadata": {},
   "outputs": [],
   "source": [
    "tags['frame'] = tags.groupby(['patient', 'series']).agg('rank')['z'].astype(int)\n",
    "tags['frame'] -= 1"
   ]
  },
  {
   "cell_type": "code",
   "execution_count": 13,
   "metadata": {},
   "outputs": [],
   "source": [
    "tags['frame'] = tags['frame'].apply(lambda x: f'{x:04d}')"
   ]
  },
  {
   "cell_type": "code",
   "execution_count": 14,
   "metadata": {},
   "outputs": [],
   "source": [
    "tags.to_csv('../input/frame_mapping.csv', index=False)"
   ]
  },
  {
   "cell_type": "code",
   "execution_count": 15,
   "metadata": {},
   "outputs": [
    {
     "data": {
      "text/html": [
       "<div>\n",
       "<style scoped>\n",
       "    .dataframe tbody tr th:only-of-type {\n",
       "        vertical-align: middle;\n",
       "    }\n",
       "\n",
       "    .dataframe tbody tr th {\n",
       "        vertical-align: top;\n",
       "    }\n",
       "\n",
       "    .dataframe thead th {\n",
       "        text-align: right;\n",
       "    }\n",
       "</style>\n",
       "<table border=\"1\" class=\"dataframe\">\n",
       "  <thead>\n",
       "    <tr style=\"text-align: right;\">\n",
       "      <th></th>\n",
       "      <th>path</th>\n",
       "      <th>z</th>\n",
       "      <th>patient</th>\n",
       "      <th>series</th>\n",
       "      <th>instance</th>\n",
       "      <th>frame</th>\n",
       "    </tr>\n",
       "  </thead>\n",
       "  <tbody>\n",
       "    <tr>\n",
       "      <th>0</th>\n",
       "      <td>train_images/10004/21057/1192.dcm</td>\n",
       "      <td>-1696.9</td>\n",
       "      <td>10004</td>\n",
       "      <td>21057</td>\n",
       "      <td>1192</td>\n",
       "      <td>0000</td>\n",
       "    </tr>\n",
       "    <tr>\n",
       "      <th>1</th>\n",
       "      <td>train_images/10004/21057/1191.dcm</td>\n",
       "      <td>-1696.4</td>\n",
       "      <td>10004</td>\n",
       "      <td>21057</td>\n",
       "      <td>1191</td>\n",
       "      <td>0001</td>\n",
       "    </tr>\n",
       "    <tr>\n",
       "      <th>2</th>\n",
       "      <td>train_images/10004/21057/1190.dcm</td>\n",
       "      <td>-1695.9</td>\n",
       "      <td>10004</td>\n",
       "      <td>21057</td>\n",
       "      <td>1190</td>\n",
       "      <td>0002</td>\n",
       "    </tr>\n",
       "    <tr>\n",
       "      <th>3</th>\n",
       "      <td>train_images/10004/21057/1189.dcm</td>\n",
       "      <td>-1695.4</td>\n",
       "      <td>10004</td>\n",
       "      <td>21057</td>\n",
       "      <td>1189</td>\n",
       "      <td>0003</td>\n",
       "    </tr>\n",
       "    <tr>\n",
       "      <th>4</th>\n",
       "      <td>train_images/10004/21057/1188.dcm</td>\n",
       "      <td>-1694.9</td>\n",
       "      <td>10004</td>\n",
       "      <td>21057</td>\n",
       "      <td>1188</td>\n",
       "      <td>0004</td>\n",
       "    </tr>\n",
       "  </tbody>\n",
       "</table>\n",
       "</div>"
      ],
      "text/plain": [
       "                                path       z patient series instance frame\n",
       "0  train_images/10004/21057/1192.dcm -1696.9   10004  21057     1192  0000\n",
       "1  train_images/10004/21057/1191.dcm -1696.4   10004  21057     1191  0001\n",
       "2  train_images/10004/21057/1190.dcm -1695.9   10004  21057     1190  0002\n",
       "3  train_images/10004/21057/1189.dcm -1695.4   10004  21057     1189  0003\n",
       "4  train_images/10004/21057/1188.dcm -1694.9   10004  21057     1188  0004"
      ]
     },
     "execution_count": 15,
     "metadata": {},
     "output_type": "execute_result"
    }
   ],
   "source": [
    "tags.head()"
   ]
  },
  {
   "cell_type": "markdown",
   "metadata": {},
   "source": [
    "### Merge"
   ]
  },
  {
   "cell_type": "code",
   "execution_count": 55,
   "metadata": {},
   "outputs": [],
   "source": [
    "df = df.merge(tags[['patient', 'series', 'frame', 'instance']], how=\"left\")\n",
    "df = df.sort_values(['patient', 'series', 'frame'], ignore_index=True)"
   ]
  },
  {
   "cell_type": "code",
   "execution_count": 56,
   "metadata": {},
   "outputs": [
    {
     "data": {
      "text/plain": [
       "file        0\n",
       "patient     0\n",
       "series      0\n",
       "frame       0\n",
       "path        0\n",
       "instance    0\n",
       "dtype: int64"
      ]
     },
     "execution_count": 56,
     "metadata": {},
     "output_type": "execute_result"
    }
   ],
   "source": [
    "df.isna().sum()"
   ]
  },
  {
   "cell_type": "code",
   "execution_count": 57,
   "metadata": {},
   "outputs": [
    {
     "data": {
      "text/html": [
       "<div>\n",
       "<style scoped>\n",
       "    .dataframe tbody tr th:only-of-type {\n",
       "        vertical-align: middle;\n",
       "    }\n",
       "\n",
       "    .dataframe tbody tr th {\n",
       "        vertical-align: top;\n",
       "    }\n",
       "\n",
       "    .dataframe thead th {\n",
       "        text-align: right;\n",
       "    }\n",
       "</style>\n",
       "<table border=\"1\" class=\"dataframe\">\n",
       "  <thead>\n",
       "    <tr style=\"text-align: right;\">\n",
       "      <th></th>\n",
       "      <th>file</th>\n",
       "      <th>patient</th>\n",
       "      <th>series</th>\n",
       "      <th>frame</th>\n",
       "      <th>path</th>\n",
       "      <th>instance</th>\n",
       "    </tr>\n",
       "  </thead>\n",
       "  <tbody>\n",
       "    <tr>\n",
       "      <th>0</th>\n",
       "      <td>10004_21057_0000.png</td>\n",
       "      <td>10004</td>\n",
       "      <td>21057</td>\n",
       "      <td>0000</td>\n",
       "      <td>../input/imgs/10004_21057_0000.png</td>\n",
       "      <td>1192</td>\n",
       "    </tr>\n",
       "    <tr>\n",
       "      <th>1</th>\n",
       "      <td>10004_21057_0001.png</td>\n",
       "      <td>10004</td>\n",
       "      <td>21057</td>\n",
       "      <td>0001</td>\n",
       "      <td>../input/imgs/10004_21057_0001.png</td>\n",
       "      <td>1191</td>\n",
       "    </tr>\n",
       "    <tr>\n",
       "      <th>2</th>\n",
       "      <td>10004_21057_0002.png</td>\n",
       "      <td>10004</td>\n",
       "      <td>21057</td>\n",
       "      <td>0002</td>\n",
       "      <td>../input/imgs/10004_21057_0002.png</td>\n",
       "      <td>1190</td>\n",
       "    </tr>\n",
       "    <tr>\n",
       "      <th>3</th>\n",
       "      <td>10004_21057_0003.png</td>\n",
       "      <td>10004</td>\n",
       "      <td>21057</td>\n",
       "      <td>0003</td>\n",
       "      <td>../input/imgs/10004_21057_0003.png</td>\n",
       "      <td>1189</td>\n",
       "    </tr>\n",
       "    <tr>\n",
       "      <th>4</th>\n",
       "      <td>10004_21057_0004.png</td>\n",
       "      <td>10004</td>\n",
       "      <td>21057</td>\n",
       "      <td>0004</td>\n",
       "      <td>../input/imgs/10004_21057_0004.png</td>\n",
       "      <td>1188</td>\n",
       "    </tr>\n",
       "  </tbody>\n",
       "</table>\n",
       "</div>"
      ],
      "text/plain": [
       "                   file patient series frame                                path instance\n",
       "0  10004_21057_0000.png   10004  21057  0000  ../input/imgs/10004_21057_0000.png     1192\n",
       "1  10004_21057_0001.png   10004  21057  0001  ../input/imgs/10004_21057_0001.png     1191\n",
       "2  10004_21057_0002.png   10004  21057  0002  ../input/imgs/10004_21057_0002.png     1190\n",
       "3  10004_21057_0003.png   10004  21057  0003  ../input/imgs/10004_21057_0003.png     1189\n",
       "4  10004_21057_0004.png   10004  21057  0004  ../input/imgs/10004_21057_0004.png     1188"
      ]
     },
     "execution_count": 57,
     "metadata": {},
     "output_type": "execute_result"
    }
   ],
   "source": [
    "df.head()"
   ]
  },
  {
   "cell_type": "code",
   "execution_count": 58,
   "metadata": {},
   "outputs": [],
   "source": [
    "image_level = pd.read_csv('../input/image_level_labels.csv')"
   ]
  },
  {
   "cell_type": "code",
   "execution_count": 59,
   "metadata": {},
   "outputs": [],
   "source": [
    "image_level.columns = ['patient', 'series', 'instance', 'injury_name']\n",
    "image_level[image_level.columns] = image_level[image_level.columns].astype(str)"
   ]
  },
  {
   "cell_type": "code",
   "execution_count": 60,
   "metadata": {},
   "outputs": [],
   "source": [
    "image_level = image_level.groupby(['patient', 'series', 'instance']).agg(list).reset_index()"
   ]
  },
  {
   "cell_type": "code",
   "execution_count": 61,
   "metadata": {},
   "outputs": [
    {
     "data": {
      "text/html": [
       "<div>\n",
       "<style scoped>\n",
       "    .dataframe tbody tr th:only-of-type {\n",
       "        vertical-align: middle;\n",
       "    }\n",
       "\n",
       "    .dataframe tbody tr th {\n",
       "        vertical-align: top;\n",
       "    }\n",
       "\n",
       "    .dataframe thead th {\n",
       "        text-align: right;\n",
       "    }\n",
       "</style>\n",
       "<table border=\"1\" class=\"dataframe\">\n",
       "  <thead>\n",
       "    <tr style=\"text-align: right;\">\n",
       "      <th></th>\n",
       "      <th>patient</th>\n",
       "      <th>series</th>\n",
       "      <th>instance</th>\n",
       "      <th>injury_name</th>\n",
       "    </tr>\n",
       "  </thead>\n",
       "  <tbody>\n",
       "    <tr>\n",
       "      <th>0</th>\n",
       "      <td>10004</td>\n",
       "      <td>21057</td>\n",
       "      <td>362</td>\n",
       "      <td>[Active_Extravasation]</td>\n",
       "    </tr>\n",
       "  </tbody>\n",
       "</table>\n",
       "</div>"
      ],
      "text/plain": [
       "  patient series instance             injury_name\n",
       "0   10004  21057      362  [Active_Extravasation]"
      ]
     },
     "execution_count": 61,
     "metadata": {},
     "output_type": "execute_result"
    }
   ],
   "source": [
    "image_level.head(1)"
   ]
  },
  {
   "cell_type": "code",
   "execution_count": 62,
   "metadata": {},
   "outputs": [],
   "source": [
    "dfm = df.merge(image_level, on=['patient', 'series', 'instance'], how=\"left\")"
   ]
  },
  {
   "cell_type": "code",
   "execution_count": 63,
   "metadata": {},
   "outputs": [],
   "source": [
    "dfm[\"injury_name\"] = dfm[\"injury_name\"].fillna('').astype(str)\n",
    "dfm[\"extravasion_injury\"] = dfm[\"injury_name\"].apply(lambda x: \"Active_Extravasation\" in x).astype(np.uint8)\n",
    "dfm[\"bowel_injury\"] = dfm[\"injury_name\"].apply(lambda x: \"Bowel\" in x).astype(np.uint8)"
   ]
  },
  {
   "cell_type": "code",
   "execution_count": 64,
   "metadata": {},
   "outputs": [],
   "source": [
    "dfm = dfm[['patient', 'series', 'instance', \"frame\", 'extravasion_injury', 'bowel_injury', 'path']]\n",
    "dfm.to_csv('../input/df_images_train.csv', index=False)"
   ]
  },
  {
   "cell_type": "code",
   "execution_count": 65,
   "metadata": {},
   "outputs": [
    {
     "data": {
      "text/html": [
       "<div>\n",
       "<style scoped>\n",
       "    .dataframe tbody tr th:only-of-type {\n",
       "        vertical-align: middle;\n",
       "    }\n",
       "\n",
       "    .dataframe tbody tr th {\n",
       "        vertical-align: top;\n",
       "    }\n",
       "\n",
       "    .dataframe thead th {\n",
       "        text-align: right;\n",
       "    }\n",
       "</style>\n",
       "<table border=\"1\" class=\"dataframe\">\n",
       "  <thead>\n",
       "    <tr style=\"text-align: right;\">\n",
       "      <th></th>\n",
       "      <th>patient</th>\n",
       "      <th>series</th>\n",
       "      <th>instance</th>\n",
       "      <th>frame</th>\n",
       "      <th>extravasion_injury</th>\n",
       "      <th>bowel_injury</th>\n",
       "      <th>path</th>\n",
       "    </tr>\n",
       "  </thead>\n",
       "  <tbody>\n",
       "    <tr>\n",
       "      <th>0</th>\n",
       "      <td>10004</td>\n",
       "      <td>21057</td>\n",
       "      <td>1192</td>\n",
       "      <td>0000</td>\n",
       "      <td>0</td>\n",
       "      <td>0</td>\n",
       "      <td>../input/imgs/10004_21057_0000.png</td>\n",
       "    </tr>\n",
       "    <tr>\n",
       "      <th>1</th>\n",
       "      <td>10004</td>\n",
       "      <td>21057</td>\n",
       "      <td>1191</td>\n",
       "      <td>0001</td>\n",
       "      <td>0</td>\n",
       "      <td>0</td>\n",
       "      <td>../input/imgs/10004_21057_0001.png</td>\n",
       "    </tr>\n",
       "    <tr>\n",
       "      <th>2</th>\n",
       "      <td>10004</td>\n",
       "      <td>21057</td>\n",
       "      <td>1190</td>\n",
       "      <td>0002</td>\n",
       "      <td>0</td>\n",
       "      <td>0</td>\n",
       "      <td>../input/imgs/10004_21057_0002.png</td>\n",
       "    </tr>\n",
       "    <tr>\n",
       "      <th>3</th>\n",
       "      <td>10004</td>\n",
       "      <td>21057</td>\n",
       "      <td>1189</td>\n",
       "      <td>0003</td>\n",
       "      <td>0</td>\n",
       "      <td>0</td>\n",
       "      <td>../input/imgs/10004_21057_0003.png</td>\n",
       "    </tr>\n",
       "    <tr>\n",
       "      <th>4</th>\n",
       "      <td>10004</td>\n",
       "      <td>21057</td>\n",
       "      <td>1188</td>\n",
       "      <td>0004</td>\n",
       "      <td>0</td>\n",
       "      <td>0</td>\n",
       "      <td>../input/imgs/10004_21057_0004.png</td>\n",
       "    </tr>\n",
       "  </tbody>\n",
       "</table>\n",
       "</div>"
      ],
      "text/plain": [
       "  patient series instance frame  extravasion_injury  bowel_injury                                path\n",
       "0   10004  21057     1192  0000                   0             0  ../input/imgs/10004_21057_0000.png\n",
       "1   10004  21057     1191  0001                   0             0  ../input/imgs/10004_21057_0001.png\n",
       "2   10004  21057     1190  0002                   0             0  ../input/imgs/10004_21057_0002.png\n",
       "3   10004  21057     1189  0003                   0             0  ../input/imgs/10004_21057_0003.png\n",
       "4   10004  21057     1188  0004                   0             0  ../input/imgs/10004_21057_0004.png"
      ]
     },
     "execution_count": 65,
     "metadata": {},
     "output_type": "execute_result"
    }
   ],
   "source": [
    "dfm.head()"
   ]
  },
  {
   "cell_type": "markdown",
   "metadata": {},
   "source": [
    "### Target EDA"
   ]
  },
  {
   "cell_type": "code",
   "execution_count": 68,
   "metadata": {},
   "outputs": [],
   "source": [
    "train = pd.read_csv('../input/train.csv')"
   ]
  },
  {
   "cell_type": "code",
   "execution_count": 69,
   "metadata": {},
   "outputs": [
    {
     "data": {
      "image/png": "[encoded data removed]",
      "text/plain": [
       "<Figure size 1000x300 with 2 Axes>"
      ]
     },
     "metadata": {},
     "output_type": "display_data"
    }
   ],
   "source": [
    "plt.figure(figsize=(10, 3))\n",
    "\n",
    "for i, k in enumerate(['bowel_injury', 'extravasation_injury']):\n",
    "    plt.subplot(1, 2, i + 1)\n",
    "    sns.countplot(x=train[k])\n",
    "    plt.yscale('log')\n",
    "    plt.xticks([0, 1], ['healthy', 'injured'])\n",
    "    \n",
    "plt.show()"
   ]
  },
  {
   "cell_type": "code",
   "execution_count": 70,
   "metadata": {},
   "outputs": [
    {
     "data": {
      "image/png": "[encoded data removed]",
      "text/plain": [
       "<Figure size 1500x300 with 3 Axes>"
      ]
     },
     "metadata": {},
     "output_type": "display_data"
    }
   ],
   "source": [
    "plt.figure(figsize=(15, 3))\n",
    "\n",
    "for i, k in enumerate(['kidney', 'liver', 'spleen']):\n",
    "    plt.subplot(1, 3, i + 1)\n",
    "    train[k] = train[f'{k}_low'] + 2 * train[f'{k}_high']\n",
    "    sns.countplot(x=train[k])\n",
    "    plt.yscale('log')\n",
    "    plt.xticks([0, 1, 2], ['healthy', 'low','high'])\n",
    "    \n",
    "plt.show()"
   ]
  },
  {
   "cell_type": "code",
   "execution_count": 71,
   "metadata": {},
   "outputs": [
    {
     "data": {
      "image/png": "[encoded data removed]",
      "text/plain": [
       "<Figure size 500x300 with 1 Axes>"
      ]
     },
     "metadata": {},
     "output_type": "display_data"
    }
   ],
   "source": [
    "healthy = (\n",
    "    (train['kidney'] == 0) &\n",
    "    (train['liver'] == 0) &\n",
    "    (train['spleen'] == 0)&\n",
    "    (train['bowel_injury'] == 0) &\n",
    "    (train['extravasation_injury'] == 0)\n",
    ")\n",
    "\n",
    "(train['any_injury'] == ~healthy).all()\n",
    "\n",
    "plt.figure(figsize=(5, 3))\n",
    "sns.countplot(x=train['any_injury'])\n",
    "plt.show()"
   ]
  },
  {
   "cell_type": "code",
   "execution_count": null,
   "metadata": {},
   "outputs": [],
   "source": [
    "def get_weight(row):\n",
    "    "
   ]
  },
  {
   "cell_type": "code",
   "execution_count": 73,
   "metadata": {},
   "outputs": [
    {
     "name": "stdout",
     "output_type": "stream",
     "text": [
      "kidney\t: 182  \tliver\t: 321  \tkidney & liver\t: 54\n",
      "kidney\t: 182  \tspleen\t: 354  \tkidney & spleen\t: 49\n",
      "kidney\t: 182  \tbowel\t: 64  \tkidney & bowel\t: 6\n",
      "kidney\t: 182  \textrav\t: 200  \tkidney & extrav\t: 30\n",
      "liver\t: 321  \tspleen\t: 354  \tliver & spleen\t: 51\n",
      "liver\t: 321  \tbowel\t: 64  \tliver & bowel\t: 14\n",
      "liver\t: 321  \textrav\t: 200  \tliver & extrav\t: 35\n",
      "spleen\t: 354  \tbowel\t: 64  \tspleen & bowel\t: 16\n",
      "spleen\t: 354  \textrav\t: 200  \tspleen & extrav\t: 54\n",
      "bowel\t: 64  \textrav\t: 200  \tbowel & extrav\t: 18\n"
     ]
    }
   ],
   "source": [
    "tgts = ['kidney', 'liver', 'spleen', 'bowel_injury', 'extravasation_injury']\n",
    "\n",
    "for i, t1 in enumerate(tgts):\n",
    "    for t2 in tgts[i + 1:]:\n",
    "        print(\n",
    "            f'{t1.split(\"_\")[0][:6]}\\t:', (train[t1] > 0).sum(),\n",
    "            f' \\t{t2.split(\"_\")[0][:6]}\\t:', (train[t2] > 0).sum(),\n",
    "            f' \\t{t1.split(\"_\")[0][:6]} & {t2.split(\"_\")[0][:6]}\\t:', ((train[t1] > 0) & (train[t2] > 0)).sum()\n",
    "        )"
   ]
  },
  {
   "cell_type": "markdown",
   "metadata": {},
   "source": [
    "### Metric"
   ]
  },
  {
   "cell_type": "code",
   "execution_count": null,
   "metadata": {},
   "outputs": [],
   "source": [
    "from sklearn.metrics import log_loss\n",
    "from util.metrics import *"
   ]
  },
  {
   "cell_type": "code",
   "execution_count": 86,
   "metadata": {},
   "outputs": [
    {
     "data": {
      "text/plain": [
       "0.2161618746805802"
      ]
     },
     "execution_count": 86,
     "metadata": {},
     "output_type": "execute_result"
    }
   ],
   "source": [
    "log_loss([2, 0, 0, 1], [[.1, 0, .9], [.9, .1, 0], [.8, .2, 0], [.35, .65, 0]])"
   ]
  },
  {
   "cell_type": "code",
   "execution_count": 127,
   "metadata": {},
   "outputs": [
    {
     "data": {
      "text/plain": [
       "0.18982174576612282"
      ]
     },
     "execution_count": 127,
     "metadata": {},
     "output_type": "execute_result"
    }
   ],
   "source": [
    "from sklearn.metrics import log_loss\n",
    "log_loss([0, 0, 0, 1], [[1, 0,], [.9, .1], [.8, .2], [.35, .65]], labels=[0, 1])"
   ]
  },
  {
   "cell_type": "code",
   "execution_count": 128,
   "metadata": {},
   "outputs": [
    {
     "data": {
      "text/plain": [
       "0.18982174576612282"
      ]
     },
     "execution_count": 128,
     "metadata": {},
     "output_type": "execute_result"
    }
   ],
   "source": [
    "from sklearn.metrics import log_loss\n",
    "log_loss([0, 0, 0, 1], [0, .1, .2, .65], labels=[0, 1])"
   ]
  },
  {
   "cell_type": "code",
   "execution_count": 87,
   "metadata": {},
   "outputs": [
    {
     "data": {
      "text/plain": [
       "0.2161618746805802"
      ]
     },
     "execution_count": 87,
     "metadata": {},
     "output_type": "execute_result"
    }
   ],
   "source": [
    "from sklearn.metrics import log_loss\n",
    "log_loss([[0, 0, 1], [1, 0, 0], [1, 0, 0], [0, 1, 0]],  [[.1, 0, .9], [.9, .1, 0], [.8, .2, 0], [.35, .65, 0]])"
   ]
  },
  {
   "cell_type": "code",
   "execution_count": 181,
   "metadata": {},
   "outputs": [],
   "source": []
  },
  {
   "cell_type": "code",
   "execution_count": 182,
   "metadata": {},
   "outputs": [],
   "source": [
    "preds = [\n",
    "    np.random.random((5, 1)),\n",
    "    np.random.random((5, 1)),\n",
    "    np.random.random((5, 3)),\n",
    "    np.random.random((5, 3)),\n",
    "    np.random.random((5, 3)),\n",
    "]"
   ]
  },
  {
   "cell_type": "code",
   "execution_count": 183,
   "metadata": {},
   "outputs": [
    {
     "data": {
      "text/plain": [
       "[array([[0.1839206 ],\n",
       "        [0.15849095],\n",
       "        [0.35450787],\n",
       "        [0.02094858],\n",
       "        [0.03845498]]),\n",
       " array([[0.63976284],\n",
       "        [0.20222225],\n",
       "        [0.1310889 ],\n",
       "        [0.34451755],\n",
       "        [0.3303782 ]]),\n",
       " array([[0.17956545, 0.75641634, 0.24437571],\n",
       "        [0.67571978, 0.71154955, 0.73402959],\n",
       "        [0.05668619, 0.20940846, 0.15223877],\n",
       "        [0.42769885, 0.71156276, 0.1090004 ],\n",
       "        [0.9194253 , 0.22843592, 0.70444659]]),\n",
       " array([[0.92526758, 0.11902403, 0.52146179],\n",
       "        [0.57845164, 0.22057624, 0.64371981],\n",
       "        [0.51325374, 0.98277184, 0.05446573],\n",
       "        [0.85984291, 0.12770118, 0.48966621],\n",
       "        [0.97790523, 0.12121223, 0.06493877]]),\n",
       " array([[0.0205382 , 0.71524817, 0.994042  ],\n",
       "        [0.74795046, 0.62333807, 0.15875775],\n",
       "        [0.11292268, 0.7182199 , 0.90917463],\n",
       "        [0.3605609 , 0.60939429, 0.9907376 ],\n",
       "        [0.40584262, 0.35236852, 0.6961993 ]])]"
      ]
     },
     "execution_count": 183,
     "metadata": {},
     "output_type": "execute_result"
    }
   ],
   "source": [
    "preds"
   ]
  },
  {
   "cell_type": "code",
   "execution_count": 184,
   "metadata": {},
   "outputs": [
    {
     "name": "stdout",
     "output_type": "stream",
     "text": [
      "bowel_injury [1 1 1 1 1]\n",
      "extravasation_injury [6 1 1 1 1]\n",
      "kidney [2 1 1 1 1]\n",
      "liver [1 1 1 1 1]\n",
      "spleen [4 1 1 1 2]\n",
      "any_injury [6 1 1 1 6]\n"
     ]
    }
   ],
   "source": [
    "losses, avg_loss = rsna_loss(preds, train.head(5))"
   ]
  },
  {
   "cell_type": "code",
   "execution_count": 176,
   "metadata": {},
   "outputs": [
    {
     "data": {
      "text/plain": [
       "({'bowel_injury': 0.9425557217605599,\n",
       "  'extravasation_injury': 0.9610389494264533,\n",
       "  'kidney': 0.9845646318826592,\n",
       "  'liver': 1.8673662693143023,\n",
       "  'spleen': 1.3114247026374282,\n",
       "  'any_injury': 0.5932454769311845},\n",
       " 1.1100326253254311)"
      ]
     },
     "execution_count": 176,
     "metadata": {},
     "output_type": "execute_result"
    }
   ],
   "source": [
    "losses, avg_loss"
   ]
  },
  {
   "cell_type": "code",
   "execution_count": null,
   "metadata": {},
   "outputs": [],
   "source": [
    "train.to_csv('../input/df_train.csv', index=False)"
   ]
  },
  {
   "cell_type": "code",
   "execution_count": null,
   "metadata": {},
   "outputs": [],
   "source": [
    "train.head()"
   ]
  },
  {
   "cell_type": "markdown",
   "metadata": {},
   "source": [
    "Done ! "
   ]
  }
 ],
 "metadata": {
  "kernelspec": {
   "display_name": "Python 3 (ipykernel)",
   "language": "python",
   "name": "python3"
  },
  "language_info": {
   "codemirror_mode": {
    "name": "ipython",
    "version": 3
   },
   "file_extension": ".py",
   "mimetype": "text/x-python",
   "name": "python",
   "nbconvert_exporter": "python",
   "pygments_lexer": "ipython3",
   "version": "3.10.6"
  },
  "vscode": {
   "interpreter": {
    "hash": "f7241b2af102f7e024509099765066b36197b195077f7bfac6e5bc041ba17c8c"
   }
  }
 },
 "nbformat": 4,
 "nbformat_minor": 4
}
