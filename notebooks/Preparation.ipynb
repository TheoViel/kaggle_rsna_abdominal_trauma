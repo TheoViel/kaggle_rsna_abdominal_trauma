{
 "cells": [
  {
   "cell_type": "markdown",
   "metadata": {},
   "source": [
    "**About** : This notebook is used to prepare the data."
   ]
  },
  {
   "cell_type": "code",
   "execution_count": null,
   "metadata": {},
   "outputs": [],
   "source": [
    "%load_ext autoreload\n",
    "%autoreload 2"
   ]
  },
  {
   "cell_type": "code",
   "execution_count": null,
   "metadata": {},
   "outputs": [],
   "source": [
    "cd ../src/"
   ]
  },
  {
   "cell_type": "markdown",
   "metadata": {},
   "source": [
    "## Initialization"
   ]
  },
  {
   "cell_type": "markdown",
   "metadata": {},
   "source": [
    "### Imports"
   ]
  },
  {
   "cell_type": "code",
   "execution_count": null,
   "metadata": {},
   "outputs": [],
   "source": [
    "import os\n",
    "import re\n",
    "import sys\n",
    "import cv2\n",
    "import glob\n",
    "import json\n",
    "import numpy as np\n",
    "import pandas as pd\n",
    "import seaborn as sns\n",
    "import matplotlib.pyplot as plt\n",
    "\n",
    "from tqdm import tqdm\n",
    "from sklearn.linear_model import *\n",
    "\n",
    "pd.set_option('display.width', 500)\n",
    "pd.set_option('max_colwidth', 100)"
   ]
  },
  {
   "cell_type": "markdown",
   "metadata": {},
   "source": [
    "### Smart cropping"
   ]
  },
  {
   "cell_type": "code",
   "execution_count": null,
   "metadata": {},
   "outputs": [],
   "source": [
    "import numpy as np\n",
    "import skimage.measure\n",
    "\n",
    "from data.preparation import *\n",
    "from params import *"
   ]
  },
  {
   "cell_type": "code",
   "execution_count": null,
   "metadata": {},
   "outputs": [],
   "source": [
    "df_patient, df_img = prepare_data(DATA_PATH)"
   ]
  },
  {
   "cell_type": "code",
   "execution_count": null,
   "metadata": {},
   "outputs": [],
   "source": [
    "df_img = df_img[['patient_id', 'series', 'frame']].groupby(['patient_id', 'series']).max().reset_index()"
   ]
  },
  {
   "cell_type": "code",
   "execution_count": null,
   "metadata": {},
   "outputs": [],
   "source": [
    "df_img['path'] = \"../input/imgs/\" + df_img['patient_id'].astype(str) + \"_\" + df_img['series'].astype(str) + \"_\" + df_img['frame'].apply(lambda x: f\"{x // 2:04d}\") + \".png\""
   ]
  },
  {
   "cell_type": "code",
   "execution_count": null,
   "metadata": {},
   "outputs": [],
   "source": [
    "def smart_crop(img, margin=10, max_sz=None):\n",
    "    img_nosat = np.where(img > 200, 0, img)\n",
    "\n",
    "    x = skimage.measure.block_reduce((img_nosat > 100).sum(1), (10), np.min)\n",
    "    x = x > (x.max() * 0.1)\n",
    "    x_start = np.argmax(x)\n",
    "    x_end = len(x) - np.argmax(x[::-1])\n",
    "    x_start = x_start * 10 - margin\n",
    "    x_end = (x_end + 1) * 10 + margin\n",
    "\n",
    "    y = skimage.measure.block_reduce((img_nosat > 100).sum(0), (10), np.min)\n",
    "    y = y > (y.max() * 0.1)\n",
    "    y_start = np.argmax(y)\n",
    "    y_end = len(y) - np.argmax(y[::-1])\n",
    "    y_start = y_start * 10 - margin\n",
    "    y_end = (y_end + 1) * 10 + margin\n",
    "    \n",
    "    x_start = max(0, x_start)\n",
    "    x_end = min(x_end, img.shape[0])\n",
    "    y_start = max(0, y_start)\n",
    "    y_end = min(y_end, img.shape[1])\n",
    "    \n",
    "#     print(x_start, x_end, y_start, y_end)\n",
    "    if max_sz is not None:\n",
    "        if y_end - y_start > max_sz:\n",
    "            y_mid = (y_end + y_start) // 2\n",
    "            y_start, y_end = y_mid - max_sz // 2, y_mid + max_sz // 2\n",
    "        if x_end - x_start > max_sz:\n",
    "            x_mid = (x_end + x_start) // 2\n",
    "            x_start, x_end = x_mid - max_sz // 2, x_mid + max_sz // 2\n",
    "        \n",
    "    x_start = max(0, x_start)\n",
    "    x_end = min(x_end, img.shape[0])\n",
    "    y_start = max(0, y_start)\n",
    "    y_end = min(y_end, img.shape[1])\n",
    "    \n",
    "    return img[x_start: x_end, y_start: y_end], (x_start, x_end, y_start, y_end)"
   ]
  },
  {
   "cell_type": "code",
   "execution_count": null,
   "metadata": {},
   "outputs": [],
   "source": [
    "def to_size(coords, img, sz=384):\n",
    "    x_start, x_end, y_start, y_end = coords\n",
    "    \n",
    "    xc = (x_start + x_end) // 2\n",
    "    yc = (y_start + y_end) // 2\n",
    "    \n",
    "    x_start, x_end = xc - sz // 2, xc + sz // 2\n",
    "    y_start, y_end = yc - sz // 2, yc + sz // 2\n",
    "    \n",
    "    if x_start < 0:\n",
    "        x_end = sz\n",
    "        x_start = 0\n",
    "    elif x_start > img.shape[0]:\n",
    "        x_start = img.shape[0] - sz\n",
    "        x_end = img.shape[0]\n",
    "    if y_start < 0:\n",
    "        y_end = sz\n",
    "        y_start = 0\n",
    "    elif y_start > img.shape[1]:\n",
    "        y_start = img.shape[1] - sz\n",
    "        y_end = img.shape[1]\n",
    "    \n",
    "    return img[x_start: x_end, y_start: y_end], (x_start, x_end, y_start, y_end)"
   ]
  },
  {
   "cell_type": "code",
   "execution_count": null,
   "metadata": {},
   "outputs": [],
   "source": [
    "MAX_SIZE = 384\n",
    "SIZE = 384"
   ]
  },
  {
   "cell_type": "code",
   "execution_count": null,
   "metadata": {},
   "outputs": [],
   "source": [
    "# shapes = []\n",
    "# crops = []\n",
    "# for i in tqdm(range(len(df_img))):\n",
    "# #     i = 26\n",
    "#     img = cv2.imread(df_img['path'][i], 0)\n",
    "        \n",
    "# #     if img.shape == (512, 512):\n",
    "# #         continue\n",
    "# #     if img.shape[1] == 512:\n",
    "# #         continue\n",
    "#     if img.shape[0] <= img.shape[1]:\n",
    "#         continue\n",
    "# #     if img.shape[0] != 512 or np.random.random() < 0.01:\n",
    "\n",
    "#     ref_size = 512\n",
    "#     if img.shape[1] != ref_size:\n",
    "#         h = int(ref_size / img.shape[1] * img.shape[0])\n",
    "#         img = cv2.resize(img, (ref_size, h))\n",
    "#     else:\n",
    "#         pass\n",
    "\n",
    "#     img_c, crop = smart_crop(img, max_sz=int(MAX_SIZE / 512 * img.shape[1]))\n",
    "#     img_c, crop = to_size(crop, img, sz=SIZE)\n",
    "    \n",
    "#     img_c_sz = center_crop_pad(img[None])[0]\n",
    "# #     img_c_sz = cv2.resize(img_c, (SIZE, SIZE))\n",
    "    \n",
    "#     crops.append(crop)\n",
    "#     shapes.append(img_c.shape)\n",
    "\n",
    "#     if not (i % 1):\n",
    "#         plt.figure(figsize=(15, 5))\n",
    "#         plt.subplot(1, 3, 1)\n",
    "#         plt.imshow(img, cmap=\"gray\")\n",
    "#         plt.axis(False)\n",
    "#         plt.title(img.shape)\n",
    "#         plt.subplot(1, 3, 2)\n",
    "#         plt.imshow(img_c, cmap=\"gray\")\n",
    "#         plt.title(f'Better Crop - {img_c.shape}')\n",
    "#         plt.axis(False)\n",
    "#         plt.subplot(1, 3, 3)\n",
    "#         plt.imshow(img_c_sz, cmap=\"gray\")\n",
    "#         plt.title(f'Center Crop - {img_c_sz.shape}')\n",
    "#         plt.axis(False)\n",
    "#         plt.show()\n",
    "        \n",
    "# #         break\n",
    "        \n",
    "# #         print(df_img.loc[[i]])\n",
    "        \n",
    "# #         break\n",
    "        \n",
    "# #     if i > 100:\n",
    "# #         break\n"
   ]
  },
  {
   "cell_type": "code",
   "execution_count": null,
   "metadata": {},
   "outputs": [],
   "source": [
    "# crops = np.array(crops)\n",
    "\n",
    "# df_img['x_start'] = crops[:, 0]\n",
    "# df_img['x_end'] = crops[:, 1]\n",
    "# df_img['y_start'] = crops[:, 2]\n",
    "# df_img['y_end'] = crops[:, 3]\n",
    "\n",
    "# df_img.to_csv('../input/df_crops.csv', index=False)"
   ]
  },
  {
   "cell_type": "code",
   "execution_count": null,
   "metadata": {},
   "outputs": [],
   "source": [
    "# shapes = np.array(shapes)\n",
    "# plt.subplot(1, 2, 1)\n",
    "# sns.histplot(x=shapes[:, 0])\n",
    "# plt.subplot(1, 2, 2)\n",
    "# sns.histplot(x=shapes[:, 1])\n",
    "# plt.show()"
   ]
  },
  {
   "cell_type": "markdown",
   "metadata": {},
   "source": [
    "### Crop with segs"
   ]
  },
  {
   "cell_type": "code",
   "execution_count": null,
   "metadata": {},
   "outputs": [],
   "source": [
    "from util.plots import plot_mask\n",
    "from matplotlib.patches import Rectangle"
   ]
  },
  {
   "cell_type": "code",
   "execution_count": null,
   "metadata": {},
   "outputs": [],
   "source": [
    "MASK_FOLDER = \"../logs/2023-09-24/20/masks/\"\n",
    "IMG_PATH = \"../input/imgs/\"\n",
    "\n",
    "MAX_LEN = 600\n",
    "MARGIN = 5\n",
    "\n",
    "PLOT = True\n",
    "SAVE = False"
   ]
  },
  {
   "cell_type": "code",
   "execution_count": null,
   "metadata": {},
   "outputs": [],
   "source": [
    "df_series = df_img[['patient_id', \"series\", \"frame\"]].groupby(['patient_id', \"series\"]).max().reset_index()"
   ]
  },
  {
   "cell_type": "code",
   "execution_count": null,
   "metadata": {},
   "outputs": [],
   "source": [
    "def get_start_end(x):\n",
    "    return np.argmax(x), len(x) - np.argmax(x[::-1])"
   ]
  },
  {
   "cell_type": "code",
   "execution_count": null,
   "metadata": {},
   "outputs": [],
   "source": [
    "SAVE_FOLDER = \"../input/crops/\"\n",
    "SAVE_FOLDER_IMG = SAVE_FOLDER + \"imgs_bowel/\"\n",
    "SAVE_FOLDER_MASK = SAVE_FOLDER + \"masks_bowel/\"\n",
    "\n",
    "os.makedirs(SAVE_FOLDER, exist_ok=True)\n",
    "os.makedirs(SAVE_FOLDER_IMG, exist_ok=True)\n",
    "os.makedirs(SAVE_FOLDER_MASK, exist_ok=True)"
   ]
  },
  {
   "cell_type": "code",
   "execution_count": null,
   "metadata": {},
   "outputs": [],
   "source": [
    "# for i in tqdm(range(len(df_series))):\n",
    "#     mask_path = f'mask_{df_series.patient_id[i]}_{df_series.series[i]}.npy'\n",
    "#     seg = np.load(MASK_FOLDER + mask_path)\n",
    "\n",
    "#     imgs = np.concatenate([\n",
    "#          cv2.imread(\n",
    "#             IMG_PATH + f'{df_series.patient_id[i]}_{df_series.series[i]}_{f:04d}.png'\n",
    "#         ) for f in range(0, df_series['frame'][i], 3)\n",
    "#     ], -1).transpose(2, 0, 1)[-MAX_LEN:]\n",
    "\n",
    "#     liver = (seg == 1).astype(np.uint8)\n",
    "#     spleen = (seg == 2).astype(np.uint8)\n",
    "#     kidney = (seg == 3).astype(np.uint8)\n",
    "    \n",
    "#     x0_liver, x1_liver = get_start_end(liver.sum((1, 2)) > 400)\n",
    "#     y0_liver, y1_liver = get_start_end(liver.sum((0, 2)) > 400)\n",
    "#     z0_liver, z1_liver = get_start_end(liver.sum((0, 1)) > 400)\n",
    "    \n",
    "#     x0_spleen, x1_spleen = get_start_end(spleen.sum((1, 2)) > 100)\n",
    "#     y0_spleen, y1_spleen = get_start_end(spleen.sum((0, 2)) > 100)\n",
    "#     z0_spleen, z1_spleen = get_start_end(spleen.sum((0, 1)) > 100)\n",
    "    \n",
    "#     x0_kidney, x1_kidney = get_start_end(kidney.sum((1, 2)) > 100)\n",
    "#     y0_kidney, y1_kidney = get_start_end(kidney.sum((0, 2)) > 100)\n",
    "#     z0_kidney, z1_kidney = get_start_end(kidney.sum((0, 1)) > 100)\n",
    "    \n",
    "#     x0s = [x0_liver, x0_spleen, x0_kidney]\n",
    "#     x1s = [x1_liver, x1_spleen, x1_kidney]\n",
    "#     y0s = [y0_liver, y0_spleen, y0_kidney]\n",
    "#     y1s = [y1_liver, y1_spleen, y1_kidney]\n",
    "#     z0s = [z0_liver, z0_spleen, z0_kidney]\n",
    "#     z1s = [z1_liver, z1_spleen, z1_kidney]\n",
    "#     cs = [\"skyblue\", \"salmon\", \"lightgreen\"]\n",
    "    \n",
    "#     for x0, x1, y0, y1, z0, z1, name in zip(x0s, x1s, y0s, y1s, z0s, z1s, ['liver', 'spleen', 'kidney']):\n",
    "#         x0, x1 = max(0, x0 - MARGIN), min(imgs.shape[0], x1 + MARGIN)\n",
    "#         y0, y1 = max(0, y0 - MARGIN), min(imgs.shape[1], y1 + MARGIN)\n",
    "#         z0, z1 = max(0, z0 - MARGIN), min(imgs.shape[2], z1 + MARGIN)\n",
    "        \n",
    "#         img_crop = imgs[x0: x1, y0:y1, z0:z1]\n",
    "#         seg_crop = seg[x0: x1, y0:y1, z0:z1]\n",
    "        \n",
    "#         if PLOT or not (i % 1000):\n",
    "#             plt.figure(figsize=(15, 5))\n",
    "#             plt.subplot(1, 3, 1)\n",
    "#             id_ = img_crop.shape[0] // 2\n",
    "#             plot_mask(img_crop[id_], seg_crop[id_])\n",
    "#             plt.title(f'{name} x - shape={img_crop.shape}')\n",
    "#             plt.subplot(1, 3, 2)\n",
    "#             id_ = img_crop.shape[1] // 2\n",
    "#             plot_mask(img_crop[:, id_], seg_crop[:, id_])\n",
    "#             plt.title(f'{name} y - shape={img_crop.shape}')\n",
    "#             plt.subplot(1, 3, 3)\n",
    "#             id_ = img_crop.shape[2] // 2\n",
    "#             plot_mask(img_crop[:, :, id_], seg_crop[:, :, id_])\n",
    "#             plt.title(f'{name} z - shape={img_crop.shape}')\n",
    "#             plt.show()\n",
    "\n",
    "#         if SAVE:\n",
    "#             np.save(SAVE_FOLDER_IMG + f'{df_series.patient_id[i]}_{df_series.series[i]}_{name}.npy', img_crop)\n",
    "#             np.save(SAVE_FOLDER_MASK + f'{df_series.patient_id[i]}_{df_series.series[i]}_{name}.npy', seg_crop)\n",
    "\n",
    "#     if PLOT or not (i % 1000):\n",
    "#         ids = np.linspace(x0 + 5, x1 - 5, 5, dtype=int)\n",
    "#         plt.figure(figsize=(20, 5))\n",
    "#         for i, id_ in enumerate(ids):\n",
    "#             plt.subplot(1, len(ids), i + 1)\n",
    "#             plot_mask(imgs[id_], seg[id_])\n",
    "#             plt.title(f'Frame {id_}')\n",
    "            \n",
    "#             for x0, x1, y0, y1, z0, z1, col in zip(x0s, x1s, y0s, y1s, z0s, z1s, cs):\n",
    "#                 rect = Rectangle(\n",
    "#                     (z0, y0),\n",
    "#                     z1 - z0,\n",
    "#                     y1 - y0,\n",
    "#                     linewidth=2,\n",
    "#                     facecolor=\"none\",\n",
    "#                     edgecolor=col,\n",
    "#                 )\n",
    "#                 if id_ > x0 and id_ < x1:\n",
    "#                     plt.gca().add_patch(rect)\n",
    "#         plt.show()\n",
    "        \n",
    "#         ids = np.linspace(y0 + 5, y1 - 5, 5, dtype=int)\n",
    "#         plt.figure(figsize=(20, 5))\n",
    "#         for i, id_ in enumerate(ids):\n",
    "#             plt.subplot(1, len(ids), i + 1)\n",
    "#             plot_mask(imgs[:, id_], seg[:, id_])\n",
    "#             plt.title(f'Frame {id_}')\n",
    "            \n",
    "#             for x0, x1, y0, y1, z0, z1, col in zip(x0s, x1s, y0s, y1s, z0s, z1s, cs):\n",
    "#                 rect = Rectangle(\n",
    "#                     (z0, x0),\n",
    "#                     z1 - z0,\n",
    "#                     x1 - x0,\n",
    "#                     linewidth=2,\n",
    "#                     facecolor=\"none\",\n",
    "#                     edgecolor=col,\n",
    "#                 )\n",
    "#                 if id_ > y0 and id_ < y1:\n",
    "#                     plt.gca().add_patch(rect)\n",
    "#         plt.show()\n",
    "        \n",
    "#         ids = np.linspace(z0 + 5, z1 - 5, 5, dtype=int)\n",
    "#         plt.figure(figsize=(20, 5))\n",
    "#         for i, id_ in enumerate(ids):\n",
    "#             plt.subplot(1, len(ids), i + 1)\n",
    "#             plot_mask(imgs[:, :, id_], seg[:, :, id_])\n",
    "#             plt.title(f'Frame {id_}')\n",
    "#             for x0, x1, y0, y1, z0, z1, col in zip(x0s, x1s, y0s, y1s, z0s, z1s, cs):\n",
    "#                 rect = Rectangle(\n",
    "#                     (y0, x0),\n",
    "#                     y1 - y0,\n",
    "#                     x1 - x0,\n",
    "#                     linewidth=2,\n",
    "#                     facecolor=\"none\",\n",
    "#                     edgecolor=col,\n",
    "#                 )\n",
    "#                 if id_ > z0 and id_ < z1:\n",
    "#                     plt.gca().add_patch(rect)\n",
    "#         plt.show()\n",
    "        \n",
    "# #     break"
   ]
  },
  {
   "cell_type": "code",
   "execution_count": null,
   "metadata": {},
   "outputs": [],
   "source": [
    "for i in tqdm(range(len(df_series))):\n",
    "    mask_path = f'mask_{df_series.patient_id[i]}_{df_series.series[i]}.npy'\n",
    "    seg = np.load(MASK_FOLDER + mask_path)\n",
    "\n",
    "    imgs = np.array([\n",
    "         cv2.imread(\n",
    "            IMG_PATH + f'{df_series.patient_id[i]}_{df_series.series[i]}_{f:04d}.png', 0\n",
    "        ) for f in range(df_series['frame'][i])\n",
    "    ])[-MAX_LEN:]\n",
    "    imgs = center_crop_pad(imgs)\n",
    "\n",
    "    bowel = (seg == 4).astype(np.uint8)\n",
    "    \n",
    "    x0_bowel, x1_bowel = get_start_end(bowel.sum((1, 2)) > 400)\n",
    "    y0_bowel, y1_bowel = get_start_end(bowel.sum((0, 2)) > 400)\n",
    "    z0_bowel, z1_bowel = get_start_end(bowel.sum((0, 1)) > 400)\n",
    "    \n",
    "    x0s = [x0_bowel]\n",
    "    x1s = [x1_bowel]\n",
    "    y0s = [y0_bowel]\n",
    "    y1s = [y1_bowel]\n",
    "    z0s = [z0_bowel]\n",
    "    z1s = [z1_bowel]\n",
    "    cs = [\"skyblue\"]\n",
    "    \n",
    "    for x0, x1, y0, y1, z0, z1, name in zip(x0s, x1s, y0s, y1s, z0s, z1s, ['bowel']):\n",
    "        x0, x1 = max(0, x0 - MARGIN), min(imgs.shape[0], x1 + MARGIN)\n",
    "        y0, y1 = max(0, y0 - MARGIN), min(imgs.shape[1], y1 + MARGIN)\n",
    "        z0, z1 = max(0, z0 - MARGIN), min(imgs.shape[2], z1 + MARGIN)\n",
    "        \n",
    "        img_crop = imgs[x0: x1, y0:y1, z0:z1]\n",
    "        seg_crop = seg[x0: x1, y0:y1, z0:z1]\n",
    "        \n",
    "        if PLOT or not (i % 1000):\n",
    "            plt.figure(figsize=(15, 5))\n",
    "            plt.subplot(1, 3, 1)\n",
    "            id_ = img_crop.shape[0] // 2\n",
    "            plot_mask(img_crop[id_], seg_crop[id_])\n",
    "            plt.title(f'{name} x - shape={img_crop.shape}')\n",
    "            plt.subplot(1, 3, 2)\n",
    "            id_ = img_crop.shape[1] // 2\n",
    "            plot_mask(img_crop[:, id_], seg_crop[:, id_])\n",
    "            plt.title(f'{name} y - shape={img_crop.shape}')\n",
    "            plt.subplot(1, 3, 3)\n",
    "            id_ = img_crop.shape[2] // 2\n",
    "            plot_mask(img_crop[:, :, id_], seg_crop[:, :, id_])\n",
    "            plt.title(f'{name} z - shape={img_crop.shape}')\n",
    "            plt.show()\n",
    "\n",
    "        if SAVE:\n",
    "            np.save(SAVE_FOLDER_IMG + f'{df_series.patient_id[i]}_{df_series.series[i]}_{name}.npy', img_crop)\n",
    "            np.save(SAVE_FOLDER_MASK + f'{df_series.patient_id[i]}_{df_series.series[i]}_{name}.npy', seg_crop)\n",
    "\n",
    "    if PLOT or not (i % 1000):\n",
    "        ids = np.linspace(x0 + 5, x1 - 5, 5, dtype=int)\n",
    "        plt.figure(figsize=(20, 5))\n",
    "        for i, id_ in enumerate(ids):\n",
    "            plt.subplot(1, len(ids), i + 1)\n",
    "            plot_mask(imgs[id_], seg[id_])\n",
    "            plt.title(f'Frame {id_}')\n",
    "            \n",
    "            for x0, x1, y0, y1, z0, z1, col in zip(x0s, x1s, y0s, y1s, z0s, z1s, cs):\n",
    "                rect = Rectangle(\n",
    "                    (z0, y0),\n",
    "                    z1 - z0,\n",
    "                    y1 - y0,\n",
    "                    linewidth=2,\n",
    "                    facecolor=\"none\",\n",
    "                    edgecolor=col,\n",
    "                )\n",
    "                if id_ > x0 and id_ < x1:\n",
    "                    plt.gca().add_patch(rect)\n",
    "        plt.show()\n",
    "        \n",
    "        ids = np.linspace(y0 + 5, y1 - 5, 5, dtype=int)\n",
    "        plt.figure(figsize=(20, 5))\n",
    "        for i, id_ in enumerate(ids):\n",
    "            plt.subplot(1, len(ids), i + 1)\n",
    "            plot_mask(imgs[:, id_], seg[:, id_])\n",
    "            plt.title(f'Frame {id_}')\n",
    "            \n",
    "            for x0, x1, y0, y1, z0, z1, col in zip(x0s, x1s, y0s, y1s, z0s, z1s, cs):\n",
    "                rect = Rectangle(\n",
    "                    (z0, x0),\n",
    "                    z1 - z0,\n",
    "                    x1 - x0,\n",
    "                    linewidth=2,\n",
    "                    facecolor=\"none\",\n",
    "                    edgecolor=col,\n",
    "                )\n",
    "                if id_ > y0 and id_ < y1:\n",
    "                    plt.gca().add_patch(rect)\n",
    "        plt.show()\n",
    "        \n",
    "        ids = np.linspace(z0 + 5, z1 - 5, 5, dtype=int)\n",
    "        plt.figure(figsize=(20, 5))\n",
    "        for i, id_ in enumerate(ids):\n",
    "            plt.subplot(1, len(ids), i + 1)\n",
    "            plot_mask(imgs[:, :, id_], seg[:, :, id_])\n",
    "            plt.title(f'Frame {id_}')\n",
    "            for x0, x1, y0, y1, z0, z1, col in zip(x0s, x1s, y0s, y1s, z0s, z1s, cs):\n",
    "                rect = Rectangle(\n",
    "                    (y0, x0),\n",
    "                    y1 - y0,\n",
    "                    x1 - x0,\n",
    "                    linewidth=2,\n",
    "                    facecolor=\"none\",\n",
    "                    edgecolor=col,\n",
    "                )\n",
    "                if id_ > z0 and id_ < z1:\n",
    "                    plt.gca().add_patch(rect)\n",
    "        plt.show()\n",
    "        \n",
    "    break"
   ]
  },
  {
   "cell_type": "markdown",
   "metadata": {},
   "source": [
    "## Data"
   ]
  },
  {
   "cell_type": "markdown",
   "metadata": {},
   "source": [
    "### Imgs"
   ]
  },
  {
   "cell_type": "code",
   "execution_count": null,
   "metadata": {},
   "outputs": [],
   "source": [
    "files = os.listdir('../input/imgs/')"
   ]
  },
  {
   "cell_type": "code",
   "execution_count": null,
   "metadata": {},
   "outputs": [],
   "source": [
    "df = pd.DataFrame(files)\n",
    "df.columns = ['file']"
   ]
  },
  {
   "cell_type": "code",
   "execution_count": null,
   "metadata": {},
   "outputs": [],
   "source": [
    "df['patient'] = df['file'].apply(lambda x: x.split('_')[0])\n",
    "df['series'] = df['file'].apply(lambda x: x.split('_')[1])\n",
    "df['frame'] = df['file'].apply(lambda x: x.split('_')[2][:-4])\n",
    "\n",
    "df['path'] = '../input/imgs/' + df['file']"
   ]
  },
  {
   "cell_type": "markdown",
   "metadata": {},
   "source": [
    "### Tags"
   ]
  },
  {
   "cell_type": "code",
   "execution_count": null,
   "metadata": {},
   "outputs": [],
   "source": [
    "tags = pd.read_parquet(\"../input/train_dicom_tags.parquet\")"
   ]
  },
  {
   "cell_type": "code",
   "execution_count": null,
   "metadata": {},
   "outputs": [],
   "source": [
    "tags['z'] = tags['ImagePositionPatient'].apply(lambda x: float(x[:-1].split(', ')[-1]))"
   ]
  },
  {
   "cell_type": "code",
   "execution_count": null,
   "metadata": {},
   "outputs": [],
   "source": [
    "tags = tags[[\"path\", \"z\"]].copy()"
   ]
  },
  {
   "cell_type": "code",
   "execution_count": null,
   "metadata": {},
   "outputs": [],
   "source": [
    "tags['patient'] = tags['path'].apply(lambda x: x.split('/')[1])\n",
    "tags['series'] = tags['path'].apply(lambda x: x.split('/')[2])\n",
    "tags['instance'] = tags['path'].apply(lambda x: x.split('/')[3][:-4])"
   ]
  },
  {
   "cell_type": "code",
   "execution_count": null,
   "metadata": {},
   "outputs": [],
   "source": [
    "tags = tags.sort_values(['patient', 'series', 'z'], ignore_index=True)"
   ]
  },
  {
   "cell_type": "code",
   "execution_count": null,
   "metadata": {},
   "outputs": [],
   "source": [
    "tags['frame'] = tags.groupby(['patient', 'series']).agg('rank')['z'].astype(int)\n",
    "tags['frame'] -= 1"
   ]
  },
  {
   "cell_type": "code",
   "execution_count": null,
   "metadata": {},
   "outputs": [],
   "source": [
    "tags['frame'] = tags['frame'].apply(lambda x: f'{x:04d}')"
   ]
  },
  {
   "cell_type": "code",
   "execution_count": null,
   "metadata": {},
   "outputs": [],
   "source": [
    "tags.to_csv('../input/frame_mapping.csv', index=False)"
   ]
  },
  {
   "cell_type": "code",
   "execution_count": null,
   "metadata": {},
   "outputs": [],
   "source": [
    "tags.head()"
   ]
  },
  {
   "cell_type": "markdown",
   "metadata": {},
   "source": [
    "### Merge"
   ]
  },
  {
   "cell_type": "code",
   "execution_count": null,
   "metadata": {},
   "outputs": [],
   "source": [
    "df = df.merge(tags[['patient', 'series', 'frame', 'instance']], how=\"left\")\n",
    "df = df.sort_values(['patient', 'series', 'frame'], ignore_index=True)"
   ]
  },
  {
   "cell_type": "code",
   "execution_count": null,
   "metadata": {},
   "outputs": [],
   "source": [
    "df.isna().sum()"
   ]
  },
  {
   "cell_type": "code",
   "execution_count": null,
   "metadata": {},
   "outputs": [],
   "source": [
    "df.head()"
   ]
  },
  {
   "cell_type": "code",
   "execution_count": null,
   "metadata": {},
   "outputs": [],
   "source": [
    "image_level = pd.read_csv('../input/image_level_labels.csv')"
   ]
  },
  {
   "cell_type": "code",
   "execution_count": null,
   "metadata": {},
   "outputs": [],
   "source": [
    "image_level.columns = ['patient', 'series', 'instance', 'injury_name']\n",
    "image_level[image_level.columns] = image_level[image_level.columns].astype(str)"
   ]
  },
  {
   "cell_type": "code",
   "execution_count": null,
   "metadata": {},
   "outputs": [],
   "source": [
    "image_level = image_level.groupby(['patient', 'series', 'instance']).agg(list).reset_index()"
   ]
  },
  {
   "cell_type": "code",
   "execution_count": null,
   "metadata": {},
   "outputs": [],
   "source": [
    "image_level.head(1)"
   ]
  },
  {
   "cell_type": "code",
   "execution_count": null,
   "metadata": {},
   "outputs": [],
   "source": [
    "dfm = df.merge(image_level, on=['patient', 'series', 'instance'], how=\"left\")"
   ]
  },
  {
   "cell_type": "code",
   "execution_count": null,
   "metadata": {},
   "outputs": [],
   "source": [
    "dfm[\"injury_name\"] = dfm[\"injury_name\"].fillna('').astype(str)\n",
    "dfm[\"extravasation_injury\"] = dfm[\"injury_name\"].apply(lambda x: \"Active_Extravasation\" in x).astype(np.uint8)\n",
    "dfm[\"bowel_injury\"] = dfm[\"injury_name\"].apply(lambda x: \"Bowel\" in x).astype(np.uint8)"
   ]
  },
  {
   "cell_type": "code",
   "execution_count": null,
   "metadata": {},
   "outputs": [],
   "source": [
    "dfm = dfm[['patient', 'series', 'instance', \"frame\", 'extravasation_injury', 'bowel_injury', 'path']]\n",
    "dfm.to_csv('../input/df_images_train.csv', index=False)"
   ]
  },
  {
   "cell_type": "code",
   "execution_count": null,
   "metadata": {},
   "outputs": [],
   "source": [
    "dfm.head()"
   ]
  },
  {
   "cell_type": "markdown",
   "metadata": {},
   "source": [
    "### Target EDA"
   ]
  },
  {
   "cell_type": "code",
   "execution_count": null,
   "metadata": {},
   "outputs": [],
   "source": [
    "train = pd.read_csv('../input/train.csv')"
   ]
  },
  {
   "cell_type": "code",
   "execution_count": null,
   "metadata": {},
   "outputs": [],
   "source": [
    "plt.figure(figsize=(10, 3))\n",
    "\n",
    "for i, k in enumerate(['bowel_injury', 'extravasation_injury']):\n",
    "    plt.subplot(1, 2, i + 1)\n",
    "    sns.countplot(x=train[k])\n",
    "    plt.yscale('log')\n",
    "    plt.xticks([0, 1], ['healthy', 'injured'])\n",
    "    \n",
    "plt.show()"
   ]
  },
  {
   "cell_type": "code",
   "execution_count": null,
   "metadata": {},
   "outputs": [],
   "source": [
    "plt.figure(figsize=(15, 3))\n",
    "\n",
    "for i, k in enumerate(['kidney', 'liver', 'spleen']):\n",
    "    plt.subplot(1, 3, i + 1)\n",
    "    train[k] = train[f'{k}_low'] + 2 * train[f'{k}_high']\n",
    "    sns.countplot(x=train[k])\n",
    "    plt.yscale('log')\n",
    "    plt.xticks([0, 1, 2], ['healthy', 'low','high'])\n",
    "    \n",
    "plt.show()"
   ]
  },
  {
   "cell_type": "code",
   "execution_count": null,
   "metadata": {},
   "outputs": [],
   "source": [
    "healthy = (\n",
    "    (train['kidney'] == 0) &\n",
    "    (train['liver'] == 0) &\n",
    "    (train['spleen'] == 0)&\n",
    "    (train['bowel_injury'] == 0) &\n",
    "    (train['extravasation_injury'] == 0)\n",
    ")\n",
    "\n",
    "(train['any_injury'] == ~healthy).all()\n",
    "\n",
    "plt.figure(figsize=(5, 3))\n",
    "sns.countplot(x=train['any_injury'])\n",
    "plt.show()"
   ]
  },
  {
   "cell_type": "code",
   "execution_count": null,
   "metadata": {},
   "outputs": [],
   "source": [
    "def get_weight(row):\n",
    "    "
   ]
  },
  {
   "cell_type": "code",
   "execution_count": null,
   "metadata": {},
   "outputs": [],
   "source": [
    "tgts = ['kidney', 'liver', 'spleen', 'bowel_injury', 'extravasation_injury']\n",
    "\n",
    "for i, t1 in enumerate(tgts):\n",
    "    for t2 in tgts[i + 1:]:\n",
    "        print(\n",
    "            f'{t1.split(\"_\")[0][:6]}\\t:', (train[t1] > 0).sum(),\n",
    "            f' \\t{t2.split(\"_\")[0][:6]}\\t:', (train[t2] > 0).sum(),\n",
    "            f' \\t{t1.split(\"_\")[0][:6]} & {t2.split(\"_\")[0][:6]}\\t:', ((train[t1] > 0) & (train[t2] > 0)).sum()\n",
    "        )"
   ]
  },
  {
   "cell_type": "markdown",
   "metadata": {},
   "source": [
    "### Metric"
   ]
  },
  {
   "cell_type": "code",
   "execution_count": null,
   "metadata": {},
   "outputs": [],
   "source": [
    "from sklearn.metrics import log_loss\n",
    "from util.metrics import *"
   ]
  },
  {
   "cell_type": "code",
   "execution_count": null,
   "metadata": {},
   "outputs": [],
   "source": [
    "log_loss([2, 0, 0, 1], [[.1, 0, .9], [.9, .1, 0], [.8, .2, 0], [.35, .65, 0]])"
   ]
  },
  {
   "cell_type": "code",
   "execution_count": null,
   "metadata": {},
   "outputs": [],
   "source": [
    "from sklearn.metrics import log_loss\n",
    "log_loss([0, 0, 0, 1], [[1, 0,], [.9, .1], [.8, .2], [.35, .65]], labels=[0, 1])"
   ]
  },
  {
   "cell_type": "code",
   "execution_count": null,
   "metadata": {},
   "outputs": [],
   "source": [
    "from sklearn.metrics import log_loss\n",
    "log_loss([0, 0, 0, 1], [0, .1, .2, .65], labels=[0, 1])"
   ]
  },
  {
   "cell_type": "code",
   "execution_count": null,
   "metadata": {},
   "outputs": [],
   "source": [
    "from sklearn.metrics import log_loss\n",
    "log_loss([[0, 0, 1], [1, 0, 0], [1, 0, 0], [0, 1, 0]],  [[.1, 0, .9], [.9, .1, 0], [.8, .2, 0], [.35, .65, 0]])"
   ]
  },
  {
   "cell_type": "code",
   "execution_count": null,
   "metadata": {},
   "outputs": [],
   "source": [
    "preds = [\n",
    "    np.random.random((5, 1)),\n",
    "    np.random.random((5, 1)),\n",
    "    np.random.random((5, 3)),\n",
    "    np.random.random((5, 3)),\n",
    "    np.random.random((5, 3)),\n",
    "]"
   ]
  },
  {
   "cell_type": "code",
   "execution_count": null,
   "metadata": {},
   "outputs": [],
   "source": [
    "preds"
   ]
  },
  {
   "cell_type": "code",
   "execution_count": null,
   "metadata": {},
   "outputs": [],
   "source": [
    "losses, avg_loss = rsna_loss(preds, train.head(5))"
   ]
  },
  {
   "cell_type": "code",
   "execution_count": null,
   "metadata": {},
   "outputs": [],
   "source": [
    "losses, avg_loss"
   ]
  },
  {
   "cell_type": "code",
   "execution_count": null,
   "metadata": {},
   "outputs": [],
   "source": [
    "train.to_csv('../input/df_train.csv', index=False)"
   ]
  },
  {
   "cell_type": "code",
   "execution_count": null,
   "metadata": {},
   "outputs": [],
   "source": [
    "train.head()"
   ]
  },
  {
   "cell_type": "markdown",
   "metadata": {},
   "source": [
    "Done ! "
   ]
  }
 ],
 "metadata": {
  "kernelspec": {
   "display_name": "Python 3 (ipykernel)",
   "language": "python",
   "name": "python3"
  },
  "language_info": {
   "codemirror_mode": {
    "name": "ipython",
    "version": 3
   },
   "file_extension": ".py",
   "mimetype": "text/x-python",
   "name": "python",
   "nbconvert_exporter": "python",
   "pygments_lexer": "ipython3",
   "version": "3.10.12"
  },
  "vscode": {
   "interpreter": {
    "hash": "f7241b2af102f7e024509099765066b36197b195077f7bfac6e5bc041ba17c8c"
   }
  }
 },
 "nbformat": 4,
 "nbformat_minor": 4
}
