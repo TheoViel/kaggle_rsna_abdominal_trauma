{
 "cells": [
  {
   "cell_type": "markdown",
   "metadata": {},
   "source": [
    "**About** : This notebook is used to train models."
   ]
  },
  {
   "cell_type": "code",
   "execution_count": null,
   "metadata": {},
   "outputs": [],
   "source": [
    "%load_ext autoreload\n",
    "%autoreload 2"
   ]
  },
  {
   "cell_type": "code",
   "execution_count": null,
   "metadata": {},
   "outputs": [],
   "source": [
    "cd ../src/"
   ]
  },
  {
   "cell_type": "markdown",
   "metadata": {},
   "source": [
    "## Initialization"
   ]
  },
  {
   "cell_type": "markdown",
   "metadata": {},
   "source": [
    "### Imports"
   ]
  },
  {
   "cell_type": "code",
   "execution_count": null,
   "metadata": {},
   "outputs": [],
   "source": [
    "import os\n",
    "import sys\n",
    "import cv2\n",
    "import glob\n",
    "import yaml\n",
    "import shutil\n",
    "import warnings\n",
    "import numpy as np\n",
    "import pandas as pd\n",
    "import seaborn as sns\n",
    "import matplotlib.pyplot as plt\n",
    "\n",
    "from tqdm import tqdm\n",
    "\n",
    "pd.set_option('display.width', 1000)\n",
    "pd.set_option('display.max_columns', 30)\n",
    "pd.set_option('max_colwidth', 100)"
   ]
  },
  {
   "cell_type": "code",
   "execution_count": null,
   "metadata": {},
   "outputs": [],
   "source": [
    "from params import *\n",
    "from util.plots import *\n",
    "from data.preparation import *"
   ]
  },
  {
   "cell_type": "markdown",
   "metadata": {},
   "source": [
    "## Data"
   ]
  },
  {
   "cell_type": "code",
   "execution_count": null,
   "metadata": {},
   "outputs": [],
   "source": [
    "df_patient, df_img = prepare_data(DATA_PATH)"
   ]
  },
  {
   "cell_type": "code",
   "execution_count": null,
   "metadata": {},
   "outputs": [],
   "source": [
    "if \"fold\" not in df_patient.columns:\n",
    "    folds = pd.read_csv(DATA_PATH + \"folds_4.csv\")\n",
    "    df_img = df_img.merge(folds)\n",
    "    df_patient = df_patient.merge(folds)"
   ]
  },
  {
   "cell_type": "code",
   "execution_count": null,
   "metadata": {},
   "outputs": [],
   "source": [
    "df = pd.read_csv('../input/active_extravasation_bounding_boxes.csv')\n",
    "df = df.rename(columns={\"pid\": \"patient_id\", \"series_id\": \"series\", \"instance_number\": \"instance\"})\n",
    "df = df[['patient_id', \"series\", \"instance\", \"x1\", \"y1\", \"x2\", \"y2\"]]"
   ]
  },
  {
   "cell_type": "code",
   "execution_count": null,
   "metadata": {},
   "outputs": [],
   "source": [
    "patients_extrav = df_patient[df_patient['extravasation_injury'] == 1].patient_id.values\n",
    "df_no_extrav = df_img[~df_img['patient_id'].isin(patients_extrav)]\n",
    "df_no_extrav = df_no_extrav[['patient_id', \"series\", \"instance\"]]\n",
    "\n",
    "df_no_extrav_sample = df_no_extrav.sample(10000).reset_index(drop=True)"
   ]
  },
  {
   "cell_type": "code",
   "execution_count": null,
   "metadata": {},
   "outputs": [],
   "source": [
    "df = pd.concat([df, df_no_extrav_sample], ignore_index=True)"
   ]
  },
  {
   "cell_type": "code",
   "execution_count": null,
   "metadata": {},
   "outputs": [],
   "source": [
    "df = df.merge(df_img[['patient_id', 'series', 'instance', 'frame', 'extravasation_injury', 'path', 'fold',]])"
   ]
  },
  {
   "cell_type": "code",
   "execution_count": null,
   "metadata": {},
   "outputs": [],
   "source": [
    "len(df)"
   ]
  },
  {
   "cell_type": "code",
   "execution_count": null,
   "metadata": {},
   "outputs": [],
   "source": [
    "plt.figure(figsize=(20, 5))\n",
    "\n",
    "for i in range(1, 5):\n",
    "    plt.subplot(1, 4, i)\n",
    "\n",
    "    idx = np.random.choice(len(df))\n",
    "    img = cv2.imread(df['path'].values[idx])\n",
    "    boxes = df[[\"x1\", \"y1\", \"x2\", \"y2\"]].values[idx]\n",
    "\n",
    "    plot_boxes(img, boxes[None], bbox_format=\"pascal_voc\")\n",
    "\n",
    "plt.show()"
   ]
  },
  {
   "cell_type": "markdown",
   "metadata": {},
   "source": [
    "### Yolo prep"
   ]
  },
  {
   "cell_type": "code",
   "execution_count": null,
   "metadata": {},
   "outputs": [],
   "source": [
    "CLASSES = ['extravasation']"
   ]
  },
  {
   "cell_type": "code",
   "execution_count": null,
   "metadata": {},
   "outputs": [],
   "source": [
    "YOLO_PATH = '../yolov7/'\n",
    "DATA_PATH = '../input/yolo/'\n",
    "\n",
    "os.makedirs(YOLO_PATH, exist_ok=True)\n",
    "os.makedirs(DATA_PATH, exist_ok=True)"
   ]
  },
  {
   "cell_type": "code",
   "execution_count": null,
   "metadata": {},
   "outputs": [],
   "source": [
    "VERSION = 2"
   ]
  },
  {
   "cell_type": "code",
   "execution_count": null,
   "metadata": {},
   "outputs": [],
   "source": [
    "PLOT = False\n",
    "SAVE = True"
   ]
  },
  {
   "cell_type": "code",
   "execution_count": null,
   "metadata": {},
   "outputs": [],
   "source": [
    "# label_dict = {k: i for i, k in enumerate(CLASSES)}\n",
    "\n",
    "if SAVE:\n",
    "    os.makedirs(f'{DATA_PATH}/v{VERSION}', exist_ok=True)\n",
    "    for fold in [0, 1, 2, 3]:\n",
    "        yolo_img_dir = f'{DATA_PATH}/v{VERSION}/{fold}/images/'\n",
    "        yolo_label_dir = f'{DATA_PATH}/v{VERSION}/{fold}/labels/'\n",
    "\n",
    "        print(yolo_img_dir, yolo_label_dir)\n",
    "\n",
    "        #(3) config file path\n",
    "        yaml_file = f'{YOLO_PATH}/data_{VERSION}.yaml'\n",
    "\n",
    "        os.makedirs(yolo_img_dir, exist_ok=True)\n",
    "        os.makedirs(yolo_label_dir, exist_ok=True)\n",
    "\n",
    "        shutil.rmtree(yolo_img_dir)\n",
    "        shutil.rmtree(yolo_label_dir)\n",
    "\n",
    "        os.makedirs(yolo_img_dir, exist_ok=True)\n",
    "        os.makedirs(yolo_label_dir, exist_ok=True)"
   ]
  },
  {
   "cell_type": "code",
   "execution_count": null,
   "metadata": {},
   "outputs": [],
   "source": [
    "for i in tqdm(range(len(df))):\n",
    "    img_file = df['path'].values[i]\n",
    "    name = img_file.split('/')[-1][:-4]\n",
    "    fold = df['fold'].values[i]\n",
    "\n",
    "    yolo_img_dir = f'{DATA_PATH}/v{VERSION}/{fold}/images/'\n",
    "    yolo_label_dir =f'{DATA_PATH}/v{VERSION}/{fold}/labels/'\n",
    "\n",
    "    boxes = df[[\"x1\", \"y1\", \"x2\", \"y2\"]].values[i][None].astype(float)\n",
    "    \n",
    "    img = cv2.imread(img_file, 0)\n",
    "    h, w = img.shape\n",
    "    \n",
    "    # Crop\n",
    "    assert h > 384 and w > 384\n",
    "    dh = (h - 384) / 2\n",
    "    dw = (w - 384) / 2\n",
    "    boxes[:, [0, 2]] -= dw\n",
    "    boxes[:, [1, 3]] -= dh\n",
    "\n",
    "    img = center_crop_pad(img, 384)\n",
    "            \n",
    "    # To yolo\n",
    "    h, w = 384, 384\n",
    "    boxes[:, [0, 2]] /= w\n",
    "    boxes[:, [1, 3]] /= h\n",
    "    boxes[:, 2] -= boxes[:, 0]\n",
    "    boxes[:, 3] -= boxes[:, 1]\n",
    "    boxes[:, 0] += boxes[:, 2] / 2\n",
    "    boxes[:, 1] += boxes[:, 3] / 2\n",
    "\n",
    "    if SAVE:\n",
    "        cv2.imwrite(f'{yolo_img_dir}/{name}.png', img)\n",
    "        written = []\n",
    "        with open( f'{yolo_label_dir}/{name}.txt', 'w') as f:\n",
    "            for box in boxes:\n",
    "                if not np.isnan(boxes).any():\n",
    "                    str_bbox = \"0 \" + ' '.join([f\"{b:.4g}\" for b in box])\n",
    "                    if str_bbox not in written:\n",
    "                        f.write(str_bbox)\n",
    "                        f.write('\\n')\n",
    "                        written.append(str_bbox)\n",
    "\n",
    "    if PLOT or not (i % 200):\n",
    "        plt.figure(figsize=(5, 5))\n",
    "        plot_boxes(img, boxes)\n",
    "        plt.show()\n",
    "\n",
    "#     if i >= 0:\n",
    "#     break"
   ]
  },
  {
   "cell_type": "markdown",
   "metadata": {},
   "source": [
    "### Create folds"
   ]
  },
  {
   "cell_type": "code",
   "execution_count": null,
   "metadata": {},
   "outputs": [],
   "source": [
    "for fold in [0, 1, 2, 3, \"fullfit\"]:\n",
    "    print(f'\\n ->  Creating fold {fold}\\n')\n",
    "\n",
    "    dest = f'{DATA_PATH}/v{VERSION}/{fold}_train/'\n",
    "    \n",
    "    os.makedirs(dest, exist_ok=True)\n",
    "    shutil.rmtree(dest)\n",
    "    os.makedirs(dest, exist_ok=True)\n",
    "    \n",
    "    os.makedirs(dest + f'/images/', exist_ok=True)\n",
    "    os.makedirs(dest + f'/images/train/', exist_ok=True)\n",
    "    os.makedirs(dest + f'/images/valid/', exist_ok=True)\n",
    "\n",
    "    os.makedirs(dest + f'/labels/', exist_ok=True)\n",
    "    os.makedirs(dest + f'/labels/train/', exist_ok=True)\n",
    "    os.makedirs(dest + f'/labels/valid/', exist_ok=True)\n",
    "        \n",
    "    for fold_c in tqdm([0, 1, 2, 3]):\n",
    "        yolo_img_dir = f'{DATA_PATH}/v{VERSION}/{fold_c}/images/'\n",
    "        yolo_label_dir = f'{DATA_PATH}/v{VERSION}/{fold_c}/labels/'\n",
    "        \n",
    "        if fold == fold_c:\n",
    "            shutil.copytree(yolo_img_dir, dest + f'/images/valid/',  dirs_exist_ok=True)\n",
    "            shutil.copytree(yolo_label_dir, dest + f'/labels/valid/',  dirs_exist_ok=True)\n",
    "        else:\n",
    "            shutil.copytree(yolo_img_dir, dest + f'/images/train/',  dirs_exist_ok=True)\n",
    "            shutil.copytree(yolo_label_dir, dest + f'/labels/train/',  dirs_exist_ok=True)\n",
    "            \n",
    "        if fold == \"fullfit\":\n",
    "            if fold_c == 0:\n",
    "                shutil.copytree(yolo_img_dir, dest + f'/images/valid/',  dirs_exist_ok=True)\n",
    "                shutil.copytree(yolo_label_dir, dest + f'/labels/valid/',  dirs_exist_ok=True)\n",
    "\n",
    "    print(\"- Number of training images :\", len(os.listdir(dest + f'/images/train/')))\n",
    "    print(\"- Number of training labels :\", len(os.listdir(dest + f'/labels/train/')))\n",
    "    print(\"- Number of validation images :\", len(os.listdir(dest + f'/images/valid/')))\n",
    "    print(\"- Number of validation labels :\", len(os.listdir(dest + f'/labels/valid/')))\n"
   ]
  },
  {
   "cell_type": "markdown",
   "metadata": {},
   "source": [
    "### Data yaml"
   ]
  },
  {
   "cell_type": "code",
   "execution_count": null,
   "metadata": {},
   "outputs": [],
   "source": [
    "for fold in [0, 1, 2, 3, \"fullfit\"]:\n",
    "    dest = f'{DATA_PATH}/v{VERSION}/{fold}_train/'\n",
    "\n",
    "    yaml_file = f'{YOLO_PATH}/data_{VERSION}_{fold}.yaml'\n",
    "\n",
    "    # Dump config file\n",
    "    data_yaml = dict(\n",
    "        train=dest + f'/images/train/',\n",
    "        val=dest + f'/images/valid/',\n",
    "        nc=len(CLASSES),\n",
    "        names=CLASSES\n",
    "    )\n",
    "\n",
    "    with open(yaml_file, 'w') as outfile:\n",
    "        yaml.dump(data_yaml, outfile, default_flow_style=True)\n",
    "\n",
    "    yaml_file"
   ]
  },
  {
   "cell_type": "markdown",
   "metadata": {},
   "source": [
    "### YoloX"
   ]
  },
  {
   "cell_type": "code",
   "execution_count": null,
   "metadata": {},
   "outputs": [],
   "source": [
    "# !pip install globox"
   ]
  },
  {
   "cell_type": "code",
   "execution_count": null,
   "metadata": {},
   "outputs": [],
   "source": [
    "from globox import AnnotationSet\n",
    "\n",
    "for fold in tqdm([0, 1, 2, 3, \"fullfit\"]):\n",
    "    print(f'\\n ->  Creating fold {fold}\\n')\n",
    "\n",
    "    dest = f'{DATA_PATH}/v{VERSION}/{fold}_train/'\n",
    "    os.makedirs(f\"{dest}/annotations/\", exist_ok=True)\n",
    "\n",
    "    # Train\n",
    "    print(\"- Create train labels\")\n",
    "    yolo = AnnotationSet.from_yolo_v5(\n",
    "        folder=f\"{dest}/labels/train/\",\n",
    "        image_folder=f\"{dest}/images/train/\"\n",
    "    )\n",
    "    yolo.save_coco(f\"{dest}/annotations/train2017.json\", auto_ids=True)\n",
    "\n",
    "    print(\"- Copy train images\")\n",
    "    shutil.copytree(f\"{dest}/images/train/\", f\"{dest}/train2017\")\n",
    "\n",
    "    # Val\n",
    "    print(\"- Create val labels\")\n",
    "    yolo = AnnotationSet.from_yolo_v5(\n",
    "        folder=f\"{dest}/labels/valid/\",\n",
    "        image_folder=f\"{dest}/images/valid/\"\n",
    "    )\n",
    "    yolo.save_coco(f\"{dest}/annotations/val2017.json\", auto_ids=True)\n",
    "    \n",
    "    print(\"- Copy val images\")\n",
    "    shutil.copytree(f\"{dest}/images/valid/\", f\"{dest}/val2017\")\n",
    "\n",
    "\n",
    "#     break"
   ]
  },
  {
   "cell_type": "code",
   "execution_count": null,
   "metadata": {},
   "outputs": [],
   "source": [
    "# yolo.show_stats()"
   ]
  },
  {
   "cell_type": "markdown",
   "metadata": {},
   "source": [
    "Done ! "
   ]
  }
 ],
 "metadata": {
  "kernelspec": {
   "display_name": "Python 3 (ipykernel)",
   "language": "python",
   "name": "python3"
  },
  "language_info": {
   "codemirror_mode": {
    "name": "ipython",
    "version": 3
   },
   "file_extension": ".py",
   "mimetype": "text/x-python",
   "name": "python",
   "nbconvert_exporter": "python",
   "pygments_lexer": "ipython3",
   "version": "3.10.12"
  }
 },
 "nbformat": 4,
 "nbformat_minor": 4
}
