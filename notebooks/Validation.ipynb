{
 "cells": [
  {
   "cell_type": "markdown",
   "metadata": {},
   "source": [
    "**About** : This notebook is used to validate models."
   ]
  },
  {
   "cell_type": "code",
   "execution_count": null,
   "metadata": {},
   "outputs": [],
   "source": [
    "%load_ext autoreload\n",
    "%autoreload 2"
   ]
  },
  {
   "cell_type": "code",
   "execution_count": null,
   "metadata": {},
   "outputs": [],
   "source": [
    "cd ../src/"
   ]
  },
  {
   "cell_type": "markdown",
   "metadata": {},
   "source": [
    "## Initialization"
   ]
  },
  {
   "cell_type": "markdown",
   "metadata": {},
   "source": [
    "### Imports"
   ]
  },
  {
   "cell_type": "code",
   "execution_count": null,
   "metadata": {},
   "outputs": [],
   "source": [
    "import os\n",
    "import torch\n",
    "\n",
    "print(torch.__version__)\n",
    "os.environ['CUDA_VISIBLE_DEVICES'] = \"1\"\n",
    "device = torch.cuda.get_device_name(0)\n",
    "print(device)"
   ]
  },
  {
   "cell_type": "code",
   "execution_count": null,
   "metadata": {},
   "outputs": [],
   "source": [
    "import os\n",
    "import sys\n",
    "import glob\n",
    "import json\n",
    "import timm\n",
    "import torch\n",
    "import operator\n",
    "import warnings\n",
    "import numpy as np\n",
    "import pandas as pd\n",
    "import seaborn as sns\n",
    "import matplotlib.pyplot as plt\n",
    "\n",
    "from tqdm import tqdm\n",
    "from sklearn.metrics import *\n",
    "from collections import Counter\n",
    "from numerize.numerize import numerize\n",
    "\n",
    "pd.set_option('display.width', 500)\n",
    "pd.set_option('max_colwidth', 100)"
   ]
  },
  {
   "cell_type": "code",
   "execution_count": null,
   "metadata": {},
   "outputs": [],
   "source": [
    "from params import *\n",
    "from util.plots import *\n",
    "from util.metrics import *\n",
    "\n",
    "from data.dataset import Abdominal2DDataset\n",
    "from data.transforms import get_transfos\n",
    "from data.preparation import prepare_data\n",
    "from util.plots import plot_sample\n",
    "from util.logger import upload_to_kaggle\n",
    "\n",
    "from inference.extract_features import kfold_inference, Config"
   ]
  },
  {
   "cell_type": "markdown",
   "metadata": {},
   "source": [
    "### Data"
   ]
  },
  {
   "cell_type": "code",
   "execution_count": null,
   "metadata": {},
   "outputs": [],
   "source": [
    "df_patient, df_img = prepare_data(DATA_PATH)"
   ]
  },
  {
   "cell_type": "code",
   "execution_count": null,
   "metadata": {},
   "outputs": [],
   "source": [
    "if \"fold\" not in df_patient.columns:\n",
    "    folds = pd.read_csv(DATA_PATH + \"folds_4.csv\")\n",
    "    df_img = df_img.merge(folds)\n",
    "    df_patient = df_patient.merge(folds)"
   ]
  },
  {
   "cell_type": "markdown",
   "metadata": {},
   "source": [
    "### Extract features\n",
    "\n",
    "- Todo : multi-gpu"
   ]
  },
  {
   "cell_type": "code",
   "execution_count": null,
   "metadata": {},
   "outputs": [],
   "source": [
    "USE_FP16 = True\n",
    "SAVE = True\n",
    "\n",
    "EXP_FOLDER = \"../logs/2023-08-27/3/\""
   ]
  },
  {
   "cell_type": "code",
   "execution_count": null,
   "metadata": {},
   "outputs": [],
   "source": [
    "# preds = kfold_inference(df_patient, df_img, EXP_FOLDER, use_fp16=USE_FP16, save=SAVE)"
   ]
  },
  {
   "cell_type": "code",
   "execution_count": null,
   "metadata": {},
   "outputs": [],
   "source": [
    "FOLDS = [0, 1, 2, 3]"
   ]
  },
  {
   "cell_type": "code",
   "execution_count": null,
   "metadata": {},
   "outputs": [],
   "source": [
    "preds = [np.load(EXP_FOLDER + f\"pred_val_{fold}.npy\") for fold in FOLDS]"
   ]
  },
  {
   "cell_type": "markdown",
   "metadata": {},
   "source": [
    "### Eval"
   ]
  },
  {
   "cell_type": "code",
   "execution_count": null,
   "metadata": {},
   "outputs": [],
   "source": [
    "df_val = df_img.copy()"
   ]
  },
  {
   "cell_type": "code",
   "execution_count": null,
   "metadata": {},
   "outputs": [],
   "source": [
    "df_val['pred'] = -1\n",
    "\n",
    "for i, tgt in enumerate(IMAGE_TARGETS):\n",
    "    df_val[f\"pred_{tgt}\"] = -1\n",
    "        \n",
    "    for fold in FOLDS:\n",
    "        df_val.loc[df_val[df_val['fold'] == fold].index, f\"pred_{tgt}\"] = preds[fold][:, i]\n",
    "\n",
    "df_val = df_val[df_val['fold'] == 0]"
   ]
  },
  {
   "cell_type": "code",
   "execution_count": null,
   "metadata": {},
   "outputs": [],
   "source": [
    "df_val_patient = df_val[['patient_id', 'pred_bowel_injury', 'pred_extravasation_injury']].groupby('patient_id').mean()\n",
    "df_val_patient = df_val_patient.merge(df_patient, on=\"patient_id\", how=\"left\")"
   ]
  },
  {
   "cell_type": "code",
   "execution_count": null,
   "metadata": {},
   "outputs": [],
   "source": [
    "for tgt in IMAGE_TARGETS:\n",
    "    auc = roc_auc_score(df_val_patient[tgt], df_val_patient[f\"pred_{tgt}\"])\n",
    "    print(f'- {tgt} auc : {auc:.3f}')"
   ]
  },
  {
   "cell_type": "code",
   "execution_count": null,
   "metadata": {},
   "outputs": [],
   "source": [
    "plt.figure(figsize=(12, 4))\n",
    "for i, tgt in enumerate(IMAGE_TARGETS):\n",
    "    plt.subplot(1, 2, i + 1)\n",
    "    sns.histplot(df_val_patient[f\"pred_{tgt}\"])\n",
    "plt.show()"
   ]
  },
  {
   "cell_type": "code",
   "execution_count": null,
   "metadata": {},
   "outputs": [],
   "source": [
    "losses, avg_loss = rsna_loss(df_val_patient[[\"pred_bowel_injury\", \"pred_extravasation_injury\"]].values, df_val_patient)\n",
    "\n",
    "for k, v in losses.items():\n",
    "    print(f\"- {k.split('_')[0][:8]} loss\\t: {v:.3f}\")"
   ]
  },
  {
   "cell_type": "code",
   "execution_count": null,
   "metadata": {},
   "outputs": [],
   "source": [
    "dummy = np.array([[0.04] * len(df_val_patient), [0.3] * len(df_val_patient)]).T\n",
    "losses, avg_loss = rsna_loss(dummy, df_val_patient)\n",
    "\n",
    "for k, v in losses.items():\n",
    "    print(f\"- {k.split('_')[0][:8]} loss\\t: {v:.3f}\")"
   ]
  },
  {
   "cell_type": "code",
   "execution_count": null,
   "metadata": {},
   "outputs": [],
   "source": [
    "dummy = np.array(\n",
    "    [\n",
    "        [0.04] * len(df_val_patient), [0.3] * len(df_val_patient),\n",
    "        [0.6] * len(df_val_patient), [0.05] * len(df_val_patient), [0.05] * len(df_val_patient),\n",
    "        [0.4] * len(df_val_patient), [0.07] * len(df_val_patient), [0.03] * len(df_val_patient),\n",
    "        [0.3] * len(df_val_patient), [0.04] * len(df_val_patient), [0.07] * len(df_val_patient),\n",
    "    ]\n",
    ").T\n",
    "losses, avg_loss = rsna_loss(dummy, df_val_patient)\n",
    "\n",
    "for k, v in losses.items():\n",
    "    print(f\"- {k.split('_')[0][:8]} loss\\t: {v:.3f}\")\n",
    "    \n",
    "print(f'\\n -> CV Score : {avg_loss :.3f}')"
   ]
  },
  {
   "cell_type": "markdown",
   "metadata": {},
   "source": [
    "Done ! "
   ]
  }
 ],
 "metadata": {
  "kernelspec": {
   "display_name": "Python 3 (ipykernel)",
   "language": "python",
   "name": "python3"
  },
  "language_info": {
   "codemirror_mode": {
    "name": "ipython",
    "version": 3
   },
   "file_extension": ".py",
   "mimetype": "text/x-python",
   "name": "python",
   "nbconvert_exporter": "python",
   "pygments_lexer": "ipython3",
   "version": "3.10.6"
  },
  "vscode": {
   "interpreter": {
    "hash": "f7241b2af102f7e024509099765066b36197b195077f7bfac6e5bc041ba17c8c"
   }
  }
 },
 "nbformat": 4,
 "nbformat_minor": 4
}
