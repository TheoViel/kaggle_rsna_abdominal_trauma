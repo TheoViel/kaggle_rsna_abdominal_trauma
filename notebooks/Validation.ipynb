{
 "cells": [
  {
   "cell_type": "markdown",
   "metadata": {},
   "source": [
    "**About** : This notebook is used to validate models."
   ]
  },
  {
   "cell_type": "code",
   "execution_count": null,
   "metadata": {},
   "outputs": [],
   "source": [
    "%load_ext autoreload\n",
    "%autoreload 2"
   ]
  },
  {
   "cell_type": "code",
   "execution_count": null,
   "metadata": {},
   "outputs": [],
   "source": [
    "cd ../src/"
   ]
  },
  {
   "cell_type": "markdown",
   "metadata": {},
   "source": [
    "## Initialization"
   ]
  },
  {
   "cell_type": "markdown",
   "metadata": {},
   "source": [
    "### Imports"
   ]
  },
  {
   "cell_type": "code",
   "execution_count": null,
   "metadata": {},
   "outputs": [],
   "source": [
    "import os\n",
    "import torch\n",
    "\n",
    "print(torch.__version__)\n",
    "os.environ['CUDA_VISIBLE_DEVICES'] = \"0\"\n",
    "device = torch.cuda.get_device_name(0)\n",
    "print(device)"
   ]
  },
  {
   "cell_type": "code",
   "execution_count": null,
   "metadata": {},
   "outputs": [],
   "source": [
    "import os\n",
    "import re\n",
    "import cv2\n",
    "import sys\n",
    "import glob\n",
    "import json\n",
    "import timm\n",
    "import torch\n",
    "import operator\n",
    "import warnings\n",
    "import numpy as np\n",
    "import pandas as pd\n",
    "import seaborn as sns\n",
    "import matplotlib.pyplot as plt\n",
    "\n",
    "from tqdm import tqdm\n",
    "from sklearn.metrics import *\n",
    "from collections import Counter\n",
    "from numerize.numerize import numerize\n",
    "\n",
    "pd.set_option('display.width', 500)\n",
    "pd.set_option('max_colwidth', 100)\n",
    "pd.set_option('display.max_columns', 30)"
   ]
  },
  {
   "cell_type": "code",
   "execution_count": null,
   "metadata": {},
   "outputs": [],
   "source": [
    "from params import *\n",
    "from util.plots import *\n",
    "from util.metrics import *\n",
    "\n",
    "from data.dataset import AbdominalDataset\n",
    "from data.transforms import get_transfos\n",
    "from data.preparation import prepare_data\n",
    "from util.logger import upload_to_kaggle\n",
    "\n",
    "from inference.extract_features import kfold_inference, Config"
   ]
  },
  {
   "cell_type": "markdown",
   "metadata": {},
   "source": [
    "### Data"
   ]
  },
  {
   "cell_type": "code",
   "execution_count": null,
   "metadata": {},
   "outputs": [],
   "source": [
    "df_patient, df_img = prepare_data(DATA_PATH, with_seg=True)\n",
    "df_seg = pd.read_csv('../input/df_seg.csv')"
   ]
  },
  {
   "cell_type": "code",
   "execution_count": null,
   "metadata": {},
   "outputs": [],
   "source": [
    "if \"fold\" not in df_patient.columns:\n",
    "    folds = pd.read_csv(DATA_PATH + \"folds_4.csv\")\n",
    "    df_img = df_img.merge(folds)\n",
    "    df_patient = df_patient.merge(folds)"
   ]
  },
  {
   "cell_type": "markdown",
   "metadata": {},
   "source": [
    "### Extract features"
   ]
  },
  {
   "cell_type": "code",
   "execution_count": null,
   "metadata": {},
   "outputs": [],
   "source": [
    "USE_FP16 = True\n",
    "SAVE = True\n",
    "\n",
    "EXP_FOLDER = \"../logs/2023-09-19/7//\""
   ]
  },
  {
   "cell_type": "code",
   "execution_count": null,
   "metadata": {},
   "outputs": [],
   "source": [
    "# preds = kfold_inference(df_patient, df_img, EXP_FOLDER, use_fp16=USE_FP16, save=SAVE)"
   ]
  },
  {
   "cell_type": "code",
   "execution_count": null,
   "metadata": {},
   "outputs": [],
   "source": [
    "FOLDS = [0, 1, 2, 3]"
   ]
  },
  {
   "cell_type": "code",
   "execution_count": null,
   "metadata": {},
   "outputs": [],
   "source": [
    "preds = [np.load(EXP_FOLDER + f\"pred_val_{fold}.npy\") for fold in FOLDS]"
   ]
  },
  {
   "cell_type": "markdown",
   "metadata": {},
   "source": [
    "### Eval"
   ]
  },
  {
   "cell_type": "code",
   "execution_count": null,
   "metadata": {},
   "outputs": [],
   "source": [
    "df_val = df_img.copy()"
   ]
  },
  {
   "cell_type": "code",
   "execution_count": null,
   "metadata": {},
   "outputs": [],
   "source": [
    "df_val['pred'] = -1\n",
    "\n",
    "for i, tgt in enumerate(PATIENT_TARGETS):\n",
    "    if tgt in IMAGE_TARGETS:\n",
    "        df_val[f\"pred_{tgt}\"] = -1\n",
    "    else:\n",
    "        if preds[0].shape[-1] == 11:\n",
    "            for j, n in enumerate(['healthy', 'low', \"high\"]):\n",
    "                df_val[f\"pred_{tgt}_{n}\"] = -1\n",
    "\n",
    "    for fold in FOLDS:\n",
    "        if tgt in IMAGE_TARGETS:\n",
    "            df_val.loc[df_val[df_val['fold'] == fold].index, f\"pred_{tgt}\"] = preds[fold][:, i]\n",
    "                \n",
    "        else:\n",
    "            if preds[fold].shape[-1] == 11:\n",
    "                for j, n in enumerate(['healthy', 'low', \"high\"]):\n",
    "#                     print(2 + (i - 2) *3 + j)\n",
    "                    df_val.loc[df_val[df_val['fold'] == fold].index, f\"pred_{tgt}_{n}\"] = preds[fold][:, 2 + (i - 2) * 3 + j]\n",
    "\n",
    "    \n",
    "# df_val = df_val[df_val['fold'] == 0]"
   ]
  },
  {
   "cell_type": "code",
   "execution_count": null,
   "metadata": {},
   "outputs": [],
   "source": [
    "for tgt in IMAGE_TARGETS:\n",
    "    auc = roc_auc_score(df_val[tgt] > 0, df_val[f\"pred_{tgt}\"])\n",
    "        \n",
    "    print(f'- {tgt} auc : {auc:.3f}')"
   ]
  },
  {
   "cell_type": "code",
   "execution_count": null,
   "metadata": {},
   "outputs": [],
   "source": [
    "USE_SEG = True\n",
    "\n",
    "if USE_SEG:\n",
    "    df_val[\"pred_bowel_injury\"] *= df_val[\"pred_bowel\"]\n",
    "\n",
    "    df_val[\"pred_kidney_low\"] *= df_val[\"pred_kidney\"]\n",
    "    df_val[\"pred_kidney_high\"] *= df_val[\"pred_kidney\"]\n",
    "    df_val[\"pred_kidney_healthy\"] = 1 - df_val[\"pred_kidney_low\"] - df_val[\"pred_kidney_high\"]\n",
    "    \n",
    "    df_val[\"pred_liver_low\"] *= df_val[\"pred_liver\"]\n",
    "    df_val[\"pred_liver_high\"] *= df_val[\"pred_liver\"]\n",
    "    df_val[\"pred_liver_healthy\"] = 1 - df_val[\"pred_liver_low\"] - df_val[\"pred_liver_high\"]\n",
    "    \n",
    "    df_val[\"pred_spleen_low\"] *= df_val[\"pred_spleen\"]\n",
    "    df_val[\"pred_spleen_high\"] *= df_val[\"pred_spleen\"]\n",
    "    df_val[\"pred_spleen_healthy\"] = 1 - df_val[\"pred_spleen_low\"] - df_val[\"pred_spleen_high\"]"
   ]
  },
  {
   "cell_type": "code",
   "execution_count": null,
   "metadata": {},
   "outputs": [],
   "source": [
    "for tgt in IMAGE_TARGETS:\n",
    "    auc = roc_auc_score(df_val[tgt] > 0, df_val[f\"pred_{tgt}\"])\n",
    "        \n",
    "    print(f'- {tgt} auc : {auc:.3f}')"
   ]
  },
  {
   "cell_type": "code",
   "execution_count": null,
   "metadata": {},
   "outputs": [],
   "source": [
    "# series = np.random.choice(df_val[df_val['bowel_injury'] == 1]['series'].unique())\n",
    "series = np.random.choice(df_val[df_val['any_injury'] == 1]['series'].unique())\n",
    "# series = 41840\n",
    "print(f'Series {series}')\n",
    "df_series = df_val[df_val['series'] == series].reset_index(drop=True)\n",
    "\n",
    "plt.figure(figsize=(15, 10))\n",
    "\n",
    "plt.subplot(2, 1, 1)\n",
    "\n",
    "colors = ['#8ed3c7', '#fb8072', '#b3de68', '#bc80bd', '#feed6f']\n",
    "for i, col in enumerate([\"pred_liver_healthy\", \"pred_spleen_healthy\", 'pred_bowel_injury', \"pred_kidney_healthy\", 'pred_extravasation_injury']):\n",
    "    plt.plot(df_series[col] if \"injury\" in col else 1 - df_series[col], label=col[:-7], color=colors[i])\n",
    "    \n",
    "for col in ['bowel_injury', 'extravasation_injury']:\n",
    "    plt.scatter(np.arange(len(df_series))[df_series[col] == 1], [1.1] * df_series[col].sum(), label=col, marker=\".\")\n",
    "\n",
    "tgts = df_patient[df_patient['patient_id'] == df_series['patient_id'][0]][PATIENT_TARGETS].values[0].tolist()\n",
    "plt.title(f'{dict(zip(PATIENT_TARGETS, tgts))}')\n",
    "plt.legend()\n",
    "\n",
    "plt.subplot(2, 1, 2)\n",
    "\n",
    "colors = ['#8ed3c7', '#fb8072', '#b3de68', '#bc80bd', '#ffed6f']\n",
    "for i, col in enumerate([\"pred_liver\", \"pred_spleen\", \"pred_bowel\", \"pred_kidney\"]):\n",
    "    plt.plot(df_series[col], label=col, color=colors[i])\n",
    "plt.title('Seg')\n",
    "\n",
    "plt.legend()\n",
    "plt.show()"
   ]
  },
  {
   "cell_type": "code",
   "execution_count": null,
   "metadata": {},
   "outputs": [],
   "source": [
    "\"###\" \"\""
   ]
  },
  {
   "cell_type": "code",
   "execution_count": null,
   "metadata": {},
   "outputs": [],
   "source": [
    "AGG = \"mean\"\n",
    "\n",
    "if AGG == \"max\":\n",
    "    df_val_patient = df_val[['patient_id'] + list(df_val.columns)[-preds[0].shape[-1]:]].groupby('patient_id').max()\n",
    "    df_val_patient = df_val_patient.merge(df_patient, on=\"patient_id\", how=\"left\")\n",
    "    \n",
    "    for tgt in ['kidney', 'liver', 'spleen']:\n",
    "        df_val_patient[f\"pred_{tgt}_healthy\"] = 1 - df_val_patient[f\"pred_{tgt}_low\"] - df_val_patient[f\"pred_{tgt}_high\"]\n",
    "else:\n",
    "    df_val_patient = df_val[['patient_id'] + list(df_val.columns)[-preds[0].shape[-1]:]].groupby('patient_id').mean()\n",
    "    df_val_patient = df_val_patient.merge(df_patient, on=\"patient_id\", how=\"left\")"
   ]
  },
  {
   "cell_type": "code",
   "execution_count": null,
   "metadata": {},
   "outputs": [],
   "source": [
    "for tgt in PATIENT_TARGETS:\n",
    "    if \"injury\" in tgt:\n",
    "        auc = roc_auc_score(df_val_patient[tgt] > 0, df_val_patient[f\"pred_{tgt}\"])\n",
    "    else:\n",
    "        try:\n",
    "            auc = roc_auc_score(df_val_patient[tgt] <= 0, df_val_patient[f\"pred_{tgt}_healthy\"])\n",
    "        except:\n",
    "            pass\n",
    "        \n",
    "    print(f'- {tgt} auc : {auc:.3f}')"
   ]
  },
  {
   "cell_type": "code",
   "execution_count": null,
   "metadata": {},
   "outputs": [],
   "source": [
    "pred_oof = df_val_patient[[p for p in df_val_patient.columns if \"pred\" in p]].values\n",
    "df_oof = df_val_patient.copy()\n",
    "\n",
    "pred_oof_ = pred_oof.copy()\n",
    "losses, avg_loss = rsna_loss(pred_oof, df_oof)\n",
    "best_score = avg_loss\n",
    "\n",
    "for _ in range(2):\n",
    "    factors = []\n",
    "    for i in range(pred_oof.shape[1]):\n",
    "        scores = {}\n",
    "        for factor in np.round(np.arange(0.5, 1.5, 0.1), 2):\n",
    "            for shift in np.round(np.arange(-0.1, 0.11, 0.1), 2):\n",
    "#             for shift in [-0.1, 0, 0.1]:\n",
    "                pred_oof_r = pred_oof_.copy()\n",
    "                pred_oof_r[:, i] = pred_oof_r[:, i] * factor + shift\n",
    "                pred_oof_r[:, i] = np.clip(pred_oof_r[:, i], 0.00001, 0.99999)\n",
    "\n",
    "                losses, avg_loss = rsna_loss(pred_oof_r, df_oof)\n",
    "                scores[(factor, shift)] = avg_loss\n",
    "\n",
    "    #     print(scores)\n",
    "        best_coefs, best_loss = min(scores.items(), key=operator.itemgetter(1))\n",
    "        pred_oof_[:, i] = np.clip(pred_oof_[:, i] * best_coefs[0] + best_coefs[1], 0.00001, 0.99999)\n",
    "        best_score = best_loss\n",
    "        print(f'{i} - {best_coefs}  -  {best_loss :.3f}')\n",
    "        factors.append(best_coefs)\n",
    "        \n",
    "    print(\"\\n\", factors, \"\\n\")\n"
   ]
  },
  {
   "cell_type": "code",
   "execution_count": null,
   "metadata": {},
   "outputs": [],
   "source": [
    "# print(pred_oof_.min(0))\n",
    "# print(pred_oof_.max(0))"
   ]
  },
  {
   "cell_type": "code",
   "execution_count": null,
   "metadata": {},
   "outputs": [],
   "source": [
    "# try:\n",
    "losses, avg_loss = rsna_loss(df_val_patient[[p for p in df_val_patient.columns if \"pred\" in p]].values, df_val_patient)\n",
    "# except:\n",
    "#     losses, avg_loss = rsna_loss(df_val_patient[[\"pred_bowel_injury\", \"pred_extravasation_injury\"]].values, df_val_patient)\n",
    "\n",
    "for k, v in losses.items():\n",
    "    print(f\"- {k.split('_')[0][:8]} loss\\t: {v:.3f}\")\n",
    "    \n",
    "print(f'\\n -> CV Score : {avg_loss :.3f}')"
   ]
  },
  {
   "cell_type": "code",
   "execution_count": null,
   "metadata": {},
   "outputs": [],
   "source": [
    "dummy = np.array(\n",
    "    [\n",
    "        [0.04] * len(df_val_patient), [0.3] * len(df_val_patient),\n",
    "        [0.6] * len(df_val_patient), [0.05] * len(df_val_patient), [0.05] * len(df_val_patient),\n",
    "        [0.4] * len(df_val_patient), [0.07] * len(df_val_patient), [0.03] * len(df_val_patient),\n",
    "        [0.3] * len(df_val_patient), [0.04] * len(df_val_patient), [0.07] * len(df_val_patient),\n",
    "    ]\n",
    ").T\n",
    "losses, avg_loss = rsna_loss(dummy, df_val_patient)\n",
    "\n",
    "for k, v in losses.items():\n",
    "    print(f\"- {k.split('_')[0][:8]} loss\\t: {v:.3f}\")\n",
    "    \n",
    "print(f'\\n -> CV Score : {avg_loss :.3f}')"
   ]
  },
  {
   "cell_type": "markdown",
   "metadata": {},
   "source": [
    "## Seg"
   ]
  },
  {
   "cell_type": "code",
   "execution_count": null,
   "metadata": {},
   "outputs": [],
   "source": [
    "df_patient, df_img = prepare_data(DATA_PATH, with_seg=False)\n",
    "df_seg = pd.read_csv('../input/df_seg.csv')"
   ]
  },
  {
   "cell_type": "code",
   "execution_count": null,
   "metadata": {},
   "outputs": [],
   "source": [
    "if \"fold\" not in df_patient.columns:\n",
    "    folds = pd.read_csv(DATA_PATH + \"folds_4.csv\")\n",
    "    df_img = df_img.merge(folds)\n",
    "    df_patient = df_patient.merge(folds)"
   ]
  },
  {
   "cell_type": "code",
   "execution_count": null,
   "metadata": {},
   "outputs": [],
   "source": [
    "EXP_FOLDER = \"../logs/2023-09-06/4/\"  # seg\n",
    "FOLDS = [0, 1, 2, 3]\n",
    "preds = [np.load(EXP_FOLDER + f\"pred_val_{fold}.npy\") for fold in FOLDS]"
   ]
  },
  {
   "cell_type": "code",
   "execution_count": null,
   "metadata": {},
   "outputs": [],
   "source": [
    "df_val = df_img.copy()"
   ]
  },
  {
   "cell_type": "code",
   "execution_count": null,
   "metadata": {},
   "outputs": [],
   "source": [
    "for i, tgt in enumerate(SEG_TARGETS):\n",
    "    df_val[f\"pred_{tgt.split('_')[-1]}\"] = -1\n",
    "        \n",
    "    for fold in FOLDS:\n",
    "        df_val.loc[df_val[df_val['fold'] == fold].index, f\"pred_{tgt.split('_')[-1]}\"] = preds[fold][:, i]\n",
    "\n",
    "# df_val = df_val[df_val['fold'] == 0]"
   ]
  },
  {
   "cell_type": "code",
   "execution_count": null,
   "metadata": {},
   "outputs": [],
   "source": [
    "# series = 21057\n",
    "series = 51678\n",
    "# series = np.random.choice(df_seg['series'])\n",
    "df_series = df_val[df_val['series'] == series].reset_index(drop=True)"
   ]
  },
  {
   "cell_type": "code",
   "execution_count": null,
   "metadata": {},
   "outputs": [],
   "source": [
    "colors = ['#8ed3c7', '#fb8072', '#b3de68', '#bc80bd', '#ffed6f']\n",
    "\n",
    "plt.figure(figsize=(15, 5))\n",
    "\n",
    "for i, col in enumerate(df_val.columns[-5:]):\n",
    "    plt.plot(df_series[col], label=col, color=colors[i])\n",
    "    \n",
    "for col in ['bowel_injury', 'extravasation_injury']:\n",
    "    plt.scatter(np.arange(len(df_series))[df_series[col] == 1], [1.1] * df_series[col].sum(), label=col, marker=\".\")\n",
    "\n",
    "plt.legend()\n",
    "plt.show()"
   ]
  },
  {
   "cell_type": "code",
   "execution_count": null,
   "metadata": {},
   "outputs": [],
   "source": [
    "df_patient[df_patient['patient_id'] == df_series['patient_id'][0]][[\"bowel_injury\", \"extravasation_injury\", \"kidney\", \"liver\", \"spleen\"]]"
   ]
  },
  {
   "cell_type": "code",
   "execution_count": null,
   "metadata": {},
   "outputs": [],
   "source": [
    "# n = 5\n",
    "# plt.figure(figsize=(40, 8))\n",
    "\n",
    "# for i, idx in enumerate(np.linspace(0, len(df_series), n + 1, dtype=int)[:-1]):\n",
    "# # for i, idx in enumerate([12, 14, 16, 18, 20]):\n",
    "#     img = cv2.imread(df_series['path'].values[idx], 0)\n",
    "    \n",
    "#     mask = None\n",
    "#     mask_path = re.sub(\"imgs\", \"segs\", df_series['path'].values[idx])\n",
    "#     if os.path.exists(mask_path):\n",
    "#         mask = cv2.imread(mask_path, 0)\n",
    "\n",
    "#     pred = df_series.values[idx][-5:].astype(float)\n",
    "\n",
    "#     plt.subplot(1, n, i + 1)\n",
    "    \n",
    "#     if mask is not None:\n",
    "#         plot_mask(img, mask)\n",
    "#     else:\n",
    "#         plt.imshow(img, cmap=\"gray\")\n",
    "#         plt.axis(False)\n",
    "        \n",
    "#     for i, p in enumerate(pred):\n",
    "#         plt.text(10, 10 + i * 20, f\"{SEG_TARGETS[i].split('_')[-1]} - {p :.2f}\", c=colors[i], verticalalignment='top')\n",
    "        \n",
    "#     extrav = int(df_series['extravasation_injury'][idx])\n",
    "#     bowel = int(df_series['bowel_injury'][idx])\n",
    "#     plt.title(f\"Frame {idx} - extravasation: {extrav} - bowel injury: {bowel}\")\n",
    "    \n",
    "# plt.show()"
   ]
  },
  {
   "cell_type": "code",
   "execution_count": null,
   "metadata": {},
   "outputs": [],
   "source": [
    "n = 10\n",
    "plt.figure(figsize=(40, 14))\n",
    "for i, idx in enumerate(np.linspace(0, len(df_series), n + 1, dtype=int)[:-1]):\n",
    "    img = cv2.imread(df_series['path'].values[idx], 0)\n",
    "    \n",
    "    mask = None\n",
    "    mask_path = re.sub(\"imgs\", \"segs\", df_series['path'].values[idx])\n",
    "    if os.path.exists(mask_path):\n",
    "        mask = cv2.imread(mask_path, 0)\n",
    "\n",
    "    pred = df_series.values[idx][-5:].astype(float)\n",
    "    \n",
    "    plt.subplot(2, n // 2, i + 1)\n",
    "    \n",
    "    if mask is not None:\n",
    "        plot_mask(img, mask)\n",
    "    else:\n",
    "        plt.imshow(img, cmap=\"gray\")\n",
    "        plt.axis(False)\n",
    "        \n",
    "    for i, p in enumerate(pred):\n",
    "        plt.text(10, 10 + i * 20, f\"{SEG_TARGETS[i].split('_')[-1]} - {p :.2f}\", c=colors[i], verticalalignment='top')\n",
    "        \n",
    "    extrav = int(df_series['extravasation_injury'][idx])\n",
    "    bowel = int(df_series['bowel_injury'][idx])\n",
    "    plt.title(f\"Frame {idx} - extravasation: {extrav} - bowel injury: {bowel}\")\n",
    "    \n",
    "plt.show()"
   ]
  },
  {
   "cell_type": "code",
   "execution_count": null,
   "metadata": {},
   "outputs": [],
   "source": [
    "# df_val['pred_kidney'] = df_val[['pred_left-kidney', 'pred_right-kidney']].max(1)\n",
    "# df_val_ = df_val.drop(['pred_left-kidney', 'pred_right-kidney'], axis=1)\n",
    "\n",
    "# df_val_.to_csv('../input/df_images_train_with_seg.csv', index=False)\n",
    "# df_val_.head()"
   ]
  },
  {
   "cell_type": "markdown",
   "metadata": {},
   "source": [
    "Done ! "
   ]
  }
 ],
 "metadata": {
  "kernelspec": {
   "display_name": "Python 3 (ipykernel)",
   "language": "python",
   "name": "python3"
  },
  "language_info": {
   "codemirror_mode": {
    "name": "ipython",
    "version": 3
   },
   "file_extension": ".py",
   "mimetype": "text/x-python",
   "name": "python",
   "nbconvert_exporter": "python",
   "pygments_lexer": "ipython3",
   "version": "3.10.12"
  },
  "vscode": {
   "interpreter": {
    "hash": "f7241b2af102f7e024509099765066b36197b195077f7bfac6e5bc041ba17c8c"
   }
  }
 },
 "nbformat": 4,
 "nbformat_minor": 4
}
