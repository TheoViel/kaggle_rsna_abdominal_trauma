{
 "cells": [
  {
   "cell_type": "markdown",
   "metadata": {},
   "source": [
    "**About** : This notebook is used to train models."
   ]
  },
  {
   "cell_type": "code",
   "execution_count": null,
   "metadata": {},
   "outputs": [],
   "source": [
    "%load_ext autoreload\n",
    "%autoreload 2"
   ]
  },
  {
   "cell_type": "code",
   "execution_count": null,
   "metadata": {},
   "outputs": [],
   "source": [
    "cd ../src/"
   ]
  },
  {
   "cell_type": "markdown",
   "metadata": {},
   "source": [
    "## Initialization"
   ]
  },
  {
   "cell_type": "markdown",
   "metadata": {},
   "source": [
    "### Imports"
   ]
  },
  {
   "cell_type": "code",
   "execution_count": null,
   "metadata": {},
   "outputs": [],
   "source": [
    "import os\n",
    "import torch\n",
    "\n",
    "print(torch.__version__)\n",
    "os.environ['CUDA_VISIBLE_DEVICES'] = \"0\"\n",
    "device = torch.cuda.get_device_name(0)\n",
    "print(device)"
   ]
  },
  {
   "cell_type": "code",
   "execution_count": null,
   "metadata": {},
   "outputs": [],
   "source": [
    "import os\n",
    "import re\n",
    "import sys\n",
    "import glob\n",
    "import torch\n",
    "import warnings\n",
    "import numpy as np\n",
    "import pandas as pd\n",
    "import seaborn as sns\n",
    "import matplotlib.pyplot as plt\n",
    "\n",
    "from tqdm import tqdm\n",
    "from sklearn.metrics import *\n",
    "\n",
    "pd.set_option('display.width', 500)\n",
    "pd.set_option('max_colwidth', 100)"
   ]
  },
  {
   "cell_type": "code",
   "execution_count": null,
   "metadata": {},
   "outputs": [],
   "source": [
    "from params import *\n",
    "from data.dataset import *\n",
    "from data.preparation import *\n",
    "from data.transforms import get_transfos\n",
    "\n",
    "from model_zoo.models import define_model\n",
    "from training.losses import *"
   ]
  },
  {
   "cell_type": "markdown",
   "metadata": {},
   "source": [
    "## Preparation"
   ]
  },
  {
   "cell_type": "code",
   "execution_count": null,
   "metadata": {},
   "outputs": [],
   "source": [
    "df_patient, df_img = prepare_data(DATA_PATH)"
   ]
  },
  {
   "cell_type": "code",
   "execution_count": null,
   "metadata": {},
   "outputs": [],
   "source": [
    "def load_segmentation(path):\n",
    "    img = nib.load(path).get_fdata()\n",
    "    img = np.transpose(img, [1, 0, 2])\n",
    "    img = np.rot90(img, 1, (1, 2))\n",
    "    img = img[::-1, :, :]\n",
    "    img = np.transpose(img, [1, 0, 2])\n",
    "    return img[::-1]"
   ]
  },
  {
   "cell_type": "code",
   "execution_count": null,
   "metadata": {},
   "outputs": [],
   "source": [
    "filepath = '../input/segmentations/21057.nii'\n",
    "volume_seg = create_3D_segmentations(filepath)\n",
    "print(f'3D segmentation file shape: {volume_seg.shape}')"
   ]
  },
  {
   "cell_type": "code",
   "execution_count": null,
   "metadata": {},
   "outputs": [],
   "source": [
    "series = df_img.groupby('series')[['patient_id', \"frame\"]].max().reset_index()\n",
    "\n",
    "segs = pd.DataFrame({\"path\": glob.glob(\"../input/segmentations/*.nii\")})\n",
    "segs['series'] = segs['path'].apply(lambda x: int(x.split('/')[-1][:-4]))\n",
    "segs = segs.merge(series)\n",
    "segs = segs[[\"patient_id\", \"series\", \"frame\", \"path\"]]"
   ]
  },
  {
   "cell_type": "code",
   "execution_count": null,
   "metadata": {},
   "outputs": [],
   "source": [
    "def load_series(patient_id, series, img_path=\"\"):\n",
    "    files = sorted(glob.glob(img_path + f\"{patient_id}_{series}_*\"))\n",
    "    imgs = np.array([cv2.imread(f, cv2.IMREAD_GRAYSCALE) for f in files])\n",
    "    return imgs"
   ]
  },
  {
   "cell_type": "code",
   "execution_count": null,
   "metadata": {},
   "outputs": [],
   "source": [
    "SAVE = True\n",
    "PLOT = True\n",
    "\n",
    "SAVE_FOLDER = \"../input/segs/\"\n",
    "os.makedirs(SAVE_FOLDER, exist_ok=True)"
   ]
  },
  {
   "cell_type": "code",
   "execution_count": null,
   "metadata": {},
   "outputs": [],
   "source": [
    "labels = {\n",
    "    1: \"liver\",\n",
    "    2: \"spleen\",\n",
    "    3: \"left-kidney\",\n",
    "    4: \"right-kidney\",\n",
    "    5: \"bowel\",\n",
    "}\n",
    "\n",
    "plt.imshow(np.arange(1, 6)[None], cmap='Set3', alpha=0.5)  \n",
    "\n",
    "for i in range(len(labels)):\n",
    "    plt.text(\n",
    "        i, 0, labels[i + 1],\n",
    "        horizontalalignment='center',\n",
    "        verticalalignment='center',\n",
    "    )\n",
    "    \n",
    "plt.axis(False)\n",
    "plt.show()\n",
    "\n",
    "for idx in tqdm(range(len(segs))):\n",
    "    patient_id = segs['patient_id'][idx]\n",
    "    series = segs['series'][idx]\n",
    "\n",
    "    imgs = sorted(glob.glob(\"../input/imgs/\" + f\"{patient_id}_{series}_*\"))\n",
    "    seg = load_segmentation(segs['path'][idx])\n",
    "\n",
    "    SAVE_FOLDER = \"../input/segs/\"\n",
    "    os.makedirs(SAVE_FOLDER, exist_ok=True)\n",
    "    \n",
    "    ids = [i * len(imgs) // 5 for i in range(1, 5)]\n",
    "\n",
    "    if PLOT:\n",
    "        plt.figure(figsize=(20, 5))\n",
    "    for i, frame in enumerate(seg):\n",
    "        if SAVE:\n",
    "            cv2.imwrite(SAVE_FOLDER + f\"{patient_id}_{series}_{i:04d}.png\", frame)\n",
    "        \n",
    "        if i in ids and PLOT:\n",
    "            plt.subplot(1, len(ids), ids.index(i) + 1)\n",
    "            img = cv2.imread(imgs[i], cv2.IMREAD_GRAYSCALE)\n",
    "            \n",
    "            plt.imshow(img, cmap='gray')\n",
    "            mask = np.where(frame, frame, np.nan)\n",
    "            plt.imshow(mask, cmap='Set3', alpha=0.3)        \n",
    "            plt.axis(False)\n",
    "            plt.title(f'Frame {i}')\n",
    "            \n",
    "    if PLOT:\n",
    "        plt.show()\n",
    "#         if idx > 10:\n",
    "#             break"
   ]
  },
  {
   "cell_type": "code",
   "execution_count": null,
   "metadata": {},
   "outputs": [],
   "source": [
    "df_seg = pd.DataFrame({\"mask_path\": sorted(glob.glob('../input/segs/*.png'))})\n",
    "df_seg['patient_id'] = df_seg['mask_path'].apply(lambda x: int(x.split('/')[-1].split('_')[0]))\n",
    "df_seg['series'] = df_seg['mask_path'].apply(lambda x: int(x.split('/')[-1].split('_')[1]))\n",
    "df_seg['frame'] = df_seg['mask_path'].apply(lambda x: int(x.split('/')[-1].split('_')[2][:-4]))\n",
    "\n",
    "df_seg['img_path'] = df_seg['mask_path'].apply(lambda x: re.sub(\"/segs/\", \"/imgs/\", x))\n",
    "df_seg = df_seg[[\"patient_id\", \"series\", \"frame\", \"img_path\", \"mask_path\"]]\n",
    "\n",
    "df_seg.head()"
   ]
  },
  {
   "cell_type": "code",
   "execution_count": null,
   "metadata": {},
   "outputs": [],
   "source": [
    "pixel_counts = []\n",
    "ph = np.zeros(6)\n",
    "\n",
    "for i in tqdm(range(len(df_seg))):\n",
    "    mask = cv2.imread(df_seg['mask_path'][i], cv2.IMREAD_GRAYSCALE)\n",
    "\n",
    "    cts = np.zeros(6)\n",
    "    counts = np.bincount(mask.flatten())\n",
    "    cts[:len(counts)] = counts\n",
    "\n",
    "    pixel_counts.append(cts)\n",
    "    \n",
    "pixel_counts = np.array(pixel_counts)\n",
    "for k in labels:\n",
    "    df_seg[f'pixel_count_{labels[k]}'] = pixel_counts[:, k]"
   ]
  },
  {
   "cell_type": "code",
   "execution_count": null,
   "metadata": {},
   "outputs": [],
   "source": [
    "df_seg.head()"
   ]
  },
  {
   "cell_type": "code",
   "execution_count": null,
   "metadata": {},
   "outputs": [],
   "source": [
    "df_seg.to_csv('../input/df_seg.csv', index=False)\n",
    "print('-> Saved df to ', '../input/df_seg.csv')"
   ]
  },
  {
   "cell_type": "code",
   "execution_count": null,
   "metadata": {},
   "outputs": [],
   "source": [
    "df_seg.max()"
   ]
  },
  {
   "cell_type": "code",
   "execution_count": null,
   "metadata": {},
   "outputs": [],
   "source": [
    "i = np.random.choice(df_seg[df_seg['pixel_count_bowel'] > 10000].index)\n",
    "\n",
    "img = cv2.imread(df_seg['img_path'][i], cv2.IMREAD_GRAYSCALE)\n",
    "mask = cv2.imread(df_seg['mask_path'][i], cv2.IMREAD_GRAYSCALE)\n",
    "            \n",
    "plt.imshow(img, cmap='gray')\n",
    "plt.imshow(np.where(mask, mask, np.nan), cmap='Set3', alpha=0.3)        \n",
    "plt.axis(False)\n",
    "plt.title(f'Frame {i}')\n",
    "plt.show()"
   ]
  },
  {
   "cell_type": "markdown",
   "metadata": {},
   "source": [
    "## Data"
   ]
  },
  {
   "cell_type": "code",
   "execution_count": null,
   "metadata": {},
   "outputs": [],
   "source": [
    "transforms = get_transfos(augment=True, resize=(512, 512), strength=3)\n",
    "\n",
    "dataset = Abdominal2DDataset(df_patient.head(100), df_img, transforms=transforms, train=False, pos_prop=0.5)"
   ]
  },
  {
   "cell_type": "code",
   "execution_count": null,
   "metadata": {},
   "outputs": [],
   "source": [
    "for i in tqdm(range(len(dataset))):\n",
    "    img, y_img, y_patient = dataset[i]\n",
    "    assert (y_img.numpy() == dataset.img_targets[i]).all()\n",
    "    break"
   ]
  },
  {
   "cell_type": "code",
   "execution_count": null,
   "metadata": {},
   "outputs": [],
   "source": [
    "# for i in range(10):\n",
    "# #     i = 0\n",
    "#     img, y_patient, y_img = dataset[i]\n",
    "\n",
    "#     plt.figure(figsize=(8, 8))\n",
    "#     plt.imshow(img.numpy().transpose(1, 2, 0))\n",
    "    \n",
    "#     plt.title(f\"#{i} - {IMAGE_TARGETS} - {y_img}\\n{PATIENT_TARGETS} - {y_patient}\")\n",
    "#     plt.show()\n",
    "\n",
    "#     break"
   ]
  },
  {
   "cell_type": "markdown",
   "metadata": {},
   "source": [
    "## Model"
   ]
  },
  {
   "cell_type": "code",
   "execution_count": null,
   "metadata": {},
   "outputs": [],
   "source": [
    "model = define_model(\n",
    "    'tf_efficientnetv2_s',\n",
    "    num_classes=2,\n",
    "    num_classes_aux=11,\n",
    "    n_channels=3,\n",
    "    reduce_stride=False,\n",
    "    drop_path_rate=0.,\n",
    "    use_gem=True\n",
    ")"
   ]
  },
  {
   "cell_type": "code",
   "execution_count": null,
   "metadata": {},
   "outputs": [],
   "source": [
    "x = torch.cat([img.unsqueeze(0)] * 2)\n",
    "\n",
    "pred, pred_aux = model(x)"
   ]
  },
  {
   "cell_type": "code",
   "execution_count": null,
   "metadata": {},
   "outputs": [],
   "source": [
    "pred.size(), pred_aux.size()\n",
    "# y_patient.size(), y_img.size()"
   ]
  },
  {
   "cell_type": "code",
   "execution_count": null,
   "metadata": {},
   "outputs": [],
   "source": [
    "y_p = torch.cat([y_patient.unsqueeze(0)] * 2)\n",
    "y_i = torch.cat([y_img.unsqueeze(0)] * 2)"
   ]
  },
  {
   "cell_type": "code",
   "execution_count": null,
   "metadata": {},
   "outputs": [],
   "source": [
    "loss = AbdomenLoss({\n",
    "    \"name\": \"image\",\n",
    "    \"smoothing\": 0,\n",
    "    \"aux_loss_weight\": 0.5,\n",
    "    \"name_aux\": \"patient\",\n",
    "    \"smoothing_aux\": 0,\n",
    "})"
   ]
  },
  {
   "cell_type": "code",
   "execution_count": null,
   "metadata": {},
   "outputs": [],
   "source": [
    "pred.size(), y_i.size()"
   ]
  },
  {
   "cell_type": "code",
   "execution_count": null,
   "metadata": {},
   "outputs": [],
   "source": [
    "loss(pred, pred_aux, y_i, y_p)"
   ]
  },
  {
   "cell_type": "code",
   "execution_count": null,
   "metadata": {},
   "outputs": [],
   "source": [
    "# loss = PatientLoss()\n",
    "# loss(pred_aux, y_p)"
   ]
  },
  {
   "cell_type": "markdown",
   "metadata": {},
   "source": [
    "## Training"
   ]
  },
  {
   "cell_type": "code",
   "execution_count": null,
   "metadata": {},
   "outputs": [],
   "source": [
    "class Config:\n",
    "    \"\"\"\n",
    "    Parameters used for training\n",
    "    \"\"\"\n",
    "    # General\n",
    "    seed = 42\n",
    "    verbose = 1\n",
    "    device = \"cuda\"\n",
    "    save_weights = True\n",
    "\n",
    "    # Data\n",
    "    resize = (512, 512)\n",
    "    aug_strength = 1\n",
    "    pos_prop = 0.1\n",
    "\n",
    "    # k-fold\n",
    "    k = 4\n",
    "    folds_file = f\"../input/folds_{k}.csv\"\n",
    "    selected_folds = [0]  # , 1, 2, 3]\n",
    "\n",
    "    # Model\n",
    "    name = \"tf_efficientnet_b0\"\n",
    "    pretrained_weights = None # PRETRAINED_WEIGHTS[name]  # None\n",
    "    \n",
    "    num_classes = 2\n",
    "    num_classes_aux = 0\n",
    "    drop_rate = 0\n",
    "    drop_path_rate = 0\n",
    "    n_channels = 3\n",
    "    reduce_stride = False\n",
    "    replace_pad_conv = False\n",
    "    use_gem = True\n",
    "\n",
    "    # Training    \n",
    "    loss_config = {\n",
    "        \"name\": \"image\",\n",
    "        \"smoothing\": 0,\n",
    "        \"activation\": \"sigmoid\",\n",
    "        \"aux_loss_weight\": 0,\n",
    "        \"name_aux\": \"patient\",\n",
    "        \"smoothing_aux\": 0,\n",
    "        \"activation_aux\": \"\",\n",
    "        \"ousm_k\": 0,  # todo ?\n",
    "    }\n",
    "\n",
    "    data_config = {\n",
    "        \"batch_size\": 16,\n",
    "        \"val_bs\": 16,\n",
    "        \"mix\": \"mixup\",\n",
    "        \"mix_proba\": 0.,\n",
    "        \"mix_alpha\": 4.,\n",
    "        \"additive_mix\": False,\n",
    "        \"num_classes\": num_classes,\n",
    "        \"num_workers\": 8,\n",
    "    }\n",
    "\n",
    "    optimizer_config = {\n",
    "        \"name\": \"AdamW\",\n",
    "        \"lr\": 5e-4,\n",
    "        \"warmup_prop\": 0.,\n",
    "        \"betas\": (0.9, 0.999),\n",
    "        \"max_grad_norm\": 10.,\n",
    "        \"weight_decay\": 0.,\n",
    "    }\n",
    "\n",
    "    epochs = 1\n",
    "\n",
    "    use_fp16 = True\n",
    "\n",
    "    verbose = 1\n",
    "    verbose_eval = 50\n",
    "    \n",
    "    fullfit = False\n",
    "    n_fullfit = 1"
   ]
  },
  {
   "cell_type": "code",
   "execution_count": null,
   "metadata": {},
   "outputs": [],
   "source": [
    "DEBUG = True\n",
    "log_folder = None\n",
    "run = None"
   ]
  },
  {
   "cell_type": "code",
   "execution_count": null,
   "metadata": {},
   "outputs": [],
   "source": [
    "if not DEBUG:\n",
    "    log_folder = prepare_log_folder(LOG_PATH)\n",
    "    print(f\"Logging results to {log_folder}\")\n",
    "    config_df = save_config(Config, log_folder + \"config.json\")\n",
    "    create_logger(directory=log_folder, name=\"logs.txt\")\n",
    "#     run = init_neptune(Config, log_folder)\n",
    "\n",
    "df_patient, df_img = prepare_data(DATA_PATH)\n",
    "init_distributed(Config)\n",
    "\n",
    "preds = k_fold(Config, df_patient, df_img, log_folder=log_folder, run=run)"
   ]
  },
  {
   "cell_type": "markdown",
   "metadata": {},
   "source": [
    "Done ! "
   ]
  }
 ],
 "metadata": {
  "kernelspec": {
   "display_name": "Python 3 (ipykernel)",
   "language": "python",
   "name": "python3"
  },
  "language_info": {
   "codemirror_mode": {
    "name": "ipython",
    "version": 3
   },
   "file_extension": ".py",
   "mimetype": "text/x-python",
   "name": "python",
   "nbconvert_exporter": "python",
   "pygments_lexer": "ipython3",
   "version": "3.10.6"
  }
 },
 "nbformat": 4,
 "nbformat_minor": 4
}
